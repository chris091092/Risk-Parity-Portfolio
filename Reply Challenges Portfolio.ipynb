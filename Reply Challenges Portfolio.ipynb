{
 "cells": [
  {
   "cell_type": "markdown",
   "metadata": {},
   "source": [
    "# Notebook Setup"
   ]
  },
  {
   "cell_type": "code",
   "execution_count": 1,
   "metadata": {},
   "outputs": [
    {
     "name": "stderr",
     "output_type": "stream",
     "text": [
      "C:\\Users\\chris\\anaconda3\\lib\\site-packages\\pandas_datareader\\compat\\__init__.py:7: FutureWarning: pandas.util.testing is deprecated. Use the functions in the public API at pandas.testing instead.\n",
      "  from pandas.util.testing import assert_frame_equal\n"
     ]
    }
   ],
   "source": [
    "import numpy as np\n",
    "import pandas as pd\n",
    "from pandas_datareader import data as wb\n",
    "import matplotlib.pyplot as plt\n",
    "import seaborn as sb\n",
    "import plotly.express as px\n",
    "import quandl"
   ]
  },
  {
   "cell_type": "markdown",
   "metadata": {},
   "source": [
    "# Equity Sub-Portfolio"
   ]
  },
  {
   "cell_type": "markdown",
   "metadata": {},
   "source": [
    "Share Price Quote"
   ]
  },
  {
   "cell_type": "code",
   "execution_count": 2,
   "metadata": {},
   "outputs": [],
   "source": [
    "tickers = ['SOF.BR', 'UMI.BR', 'AMT','0700.HK','2778.HK','DOCU','0823.HK']\n",
    "eq_price = pd.DataFrame()\n",
    "for t in tickers:\n",
    "    eq_price[t] = wb.DataReader(t,data_source = 'yahoo',start = '2015-1-1')['Adj Close']\n",
    "    eq_price.rename(columns={'SOF.BR': 'Sofina', 'UMI.BR':'Umicore','0700.HK':'Tencent',\\\n",
    "                             '2778.HK':'Champion REIT','DOCU':'Docusign','0823.HK':'Link REIT'}, inplace=True)"
   ]
  },
  {
   "cell_type": "code",
   "execution_count": 3,
   "metadata": {},
   "outputs": [
    {
     "data": {
      "text/html": [
       "<div>\n",
       "<style scoped>\n",
       "    .dataframe tbody tr th:only-of-type {\n",
       "        vertical-align: middle;\n",
       "    }\n",
       "\n",
       "    .dataframe tbody tr th {\n",
       "        vertical-align: top;\n",
       "    }\n",
       "\n",
       "    .dataframe thead th {\n",
       "        text-align: right;\n",
       "    }\n",
       "</style>\n",
       "<table border=\"1\" class=\"dataframe\">\n",
       "  <thead>\n",
       "    <tr style=\"text-align: right;\">\n",
       "      <th></th>\n",
       "      <th>Sofina</th>\n",
       "      <th>Umicore</th>\n",
       "      <th>AMT</th>\n",
       "      <th>Tencent</th>\n",
       "      <th>Champion REIT</th>\n",
       "      <th>Docusign</th>\n",
       "      <th>Link REIT</th>\n",
       "    </tr>\n",
       "    <tr>\n",
       "      <th>Date</th>\n",
       "      <th></th>\n",
       "      <th></th>\n",
       "      <th></th>\n",
       "      <th></th>\n",
       "      <th></th>\n",
       "      <th></th>\n",
       "      <th></th>\n",
       "    </tr>\n",
       "  </thead>\n",
       "  <tbody>\n",
       "    <tr>\n",
       "      <th>2020-07-17</th>\n",
       "      <td>239.5</td>\n",
       "      <td>43.919998</td>\n",
       "      <td>259.109985</td>\n",
       "      <td>521.0</td>\n",
       "      <td>4.18</td>\n",
       "      <td>196.410004</td>\n",
       "      <td>61.000000</td>\n",
       "    </tr>\n",
       "    <tr>\n",
       "      <th>2020-07-21</th>\n",
       "      <td>244.0</td>\n",
       "      <td>45.689999</td>\n",
       "      <td>259.209991</td>\n",
       "      <td>564.0</td>\n",
       "      <td>3.99</td>\n",
       "      <td>201.029999</td>\n",
       "      <td>61.000000</td>\n",
       "    </tr>\n",
       "    <tr>\n",
       "      <th>2020-07-22</th>\n",
       "      <td>243.0</td>\n",
       "      <td>45.419998</td>\n",
       "      <td>259.040009</td>\n",
       "      <td>539.0</td>\n",
       "      <td>4.00</td>\n",
       "      <td>203.979996</td>\n",
       "      <td>59.549999</td>\n",
       "    </tr>\n",
       "    <tr>\n",
       "      <th>2020-07-23</th>\n",
       "      <td>241.5</td>\n",
       "      <td>45.459999</td>\n",
       "      <td>257.899994</td>\n",
       "      <td>557.0</td>\n",
       "      <td>4.00</td>\n",
       "      <td>198.490005</td>\n",
       "      <td>59.049999</td>\n",
       "    </tr>\n",
       "    <tr>\n",
       "      <th>2020-07-24</th>\n",
       "      <td>233.0</td>\n",
       "      <td>44.770000</td>\n",
       "      <td>256.329987</td>\n",
       "      <td>528.0</td>\n",
       "      <td>3.97</td>\n",
       "      <td>190.949997</td>\n",
       "      <td>58.900002</td>\n",
       "    </tr>\n",
       "  </tbody>\n",
       "</table>\n",
       "</div>"
      ],
      "text/plain": [
       "            Sofina    Umicore         AMT  Tencent  Champion REIT    Docusign  \\\n",
       "Date                                                                            \n",
       "2020-07-17   239.5  43.919998  259.109985    521.0           4.18  196.410004   \n",
       "2020-07-21   244.0  45.689999  259.209991    564.0           3.99  201.029999   \n",
       "2020-07-22   243.0  45.419998  259.040009    539.0           4.00  203.979996   \n",
       "2020-07-23   241.5  45.459999  257.899994    557.0           4.00  198.490005   \n",
       "2020-07-24   233.0  44.770000  256.329987    528.0           3.97  190.949997   \n",
       "\n",
       "            Link REIT  \n",
       "Date                   \n",
       "2020-07-17  61.000000  \n",
       "2020-07-21  61.000000  \n",
       "2020-07-22  59.549999  \n",
       "2020-07-23  59.049999  \n",
       "2020-07-24  58.900002  "
      ]
     },
     "execution_count": 3,
     "metadata": {},
     "output_type": "execute_result"
    }
   ],
   "source": [
    "eq_price.tail()"
   ]
  },
  {
   "cell_type": "code",
   "execution_count": 4,
   "metadata": {},
   "outputs": [
    {
     "data": {
      "image/png": "[encoded data removed]",
      "text/plain": [
       "<Figure size 1080x576 with 1 Axes>"
      ]
     },
     "metadata": {
      "needs_background": "light"
     },
     "output_type": "display_data"
    }
   ],
   "source": [
    "(eq_price / eq_price.iloc[0] * 100).plot(figsize = (15,8));\n",
    "plt.show()"
   ]
  },
  {
   "cell_type": "markdown",
   "metadata": {},
   "source": [
    "Returns Calculation"
   ]
  },
  {
   "cell_type": "code",
   "execution_count": 5,
   "metadata": {},
   "outputs": [
    {
     "data": {
      "text/html": [
       "<div>\n",
       "<style scoped>\n",
       "    .dataframe tbody tr th:only-of-type {\n",
       "        vertical-align: middle;\n",
       "    }\n",
       "\n",
       "    .dataframe tbody tr th {\n",
       "        vertical-align: top;\n",
       "    }\n",
       "\n",
       "    .dataframe thead th {\n",
       "        text-align: right;\n",
       "    }\n",
       "</style>\n",
       "<table border=\"1\" class=\"dataframe\">\n",
       "  <thead>\n",
       "    <tr style=\"text-align: right;\">\n",
       "      <th></th>\n",
       "      <th>Sofina</th>\n",
       "      <th>Umicore</th>\n",
       "      <th>AMT</th>\n",
       "      <th>Tencent</th>\n",
       "      <th>Champion REIT</th>\n",
       "      <th>Docusign</th>\n",
       "      <th>Link REIT</th>\n",
       "    </tr>\n",
       "    <tr>\n",
       "      <th>Date</th>\n",
       "      <th></th>\n",
       "      <th></th>\n",
       "      <th></th>\n",
       "      <th></th>\n",
       "      <th></th>\n",
       "      <th></th>\n",
       "      <th></th>\n",
       "    </tr>\n",
       "  </thead>\n",
       "  <tbody>\n",
       "    <tr>\n",
       "      <th>2020-07-17</th>\n",
       "      <td>-0.008282</td>\n",
       "      <td>0.003656</td>\n",
       "      <td>0.006330</td>\n",
       "      <td>0.015595</td>\n",
       "      <td>0.009662</td>\n",
       "      <td>0.024463</td>\n",
       "      <td>-0.003268</td>\n",
       "    </tr>\n",
       "    <tr>\n",
       "      <th>2020-07-21</th>\n",
       "      <td>0.018789</td>\n",
       "      <td>0.040301</td>\n",
       "      <td>0.000386</td>\n",
       "      <td>0.082534</td>\n",
       "      <td>-0.045455</td>\n",
       "      <td>0.023522</td>\n",
       "      <td>0.000000</td>\n",
       "    </tr>\n",
       "    <tr>\n",
       "      <th>2020-07-22</th>\n",
       "      <td>-0.004098</td>\n",
       "      <td>-0.005909</td>\n",
       "      <td>-0.000656</td>\n",
       "      <td>-0.044326</td>\n",
       "      <td>0.002506</td>\n",
       "      <td>0.014674</td>\n",
       "      <td>-0.023771</td>\n",
       "    </tr>\n",
       "    <tr>\n",
       "      <th>2020-07-23</th>\n",
       "      <td>-0.006173</td>\n",
       "      <td>0.000881</td>\n",
       "      <td>-0.004401</td>\n",
       "      <td>0.033395</td>\n",
       "      <td>0.000000</td>\n",
       "      <td>-0.026914</td>\n",
       "      <td>-0.008396</td>\n",
       "    </tr>\n",
       "    <tr>\n",
       "      <th>2020-07-24</th>\n",
       "      <td>-0.035197</td>\n",
       "      <td>-0.015178</td>\n",
       "      <td>-0.006088</td>\n",
       "      <td>-0.052065</td>\n",
       "      <td>-0.007500</td>\n",
       "      <td>-0.037987</td>\n",
       "      <td>-0.002540</td>\n",
       "    </tr>\n",
       "  </tbody>\n",
       "</table>\n",
       "</div>"
      ],
      "text/plain": [
       "              Sofina   Umicore       AMT   Tencent  Champion REIT  Docusign  \\\n",
       "Date                                                                          \n",
       "2020-07-17 -0.008282  0.003656  0.006330  0.015595       0.009662  0.024463   \n",
       "2020-07-21  0.018789  0.040301  0.000386  0.082534      -0.045455  0.023522   \n",
       "2020-07-22 -0.004098 -0.005909 -0.000656 -0.044326       0.002506  0.014674   \n",
       "2020-07-23 -0.006173  0.000881 -0.004401  0.033395       0.000000 -0.026914   \n",
       "2020-07-24 -0.035197 -0.015178 -0.006088 -0.052065      -0.007500 -0.037987   \n",
       "\n",
       "            Link REIT  \n",
       "Date                   \n",
       "2020-07-17  -0.003268  \n",
       "2020-07-21   0.000000  \n",
       "2020-07-22  -0.023771  \n",
       "2020-07-23  -0.008396  \n",
       "2020-07-24  -0.002540  "
      ]
     },
     "execution_count": 5,
     "metadata": {},
     "output_type": "execute_result"
    }
   ],
   "source": [
    "eq_returns = (eq_price/ eq_price.shift(1)) - 1\n",
    "eq_returns.tail()"
   ]
  },
  {
   "cell_type": "code",
   "execution_count": 6,
   "metadata": {},
   "outputs": [
    {
     "data": {
      "text/html": [
       "<div>\n",
       "<style scoped>\n",
       "    .dataframe tbody tr th:only-of-type {\n",
       "        vertical-align: middle;\n",
       "    }\n",
       "\n",
       "    .dataframe tbody tr th {\n",
       "        vertical-align: top;\n",
       "    }\n",
       "\n",
       "    .dataframe thead th {\n",
       "        text-align: right;\n",
       "    }\n",
       "</style>\n",
       "<table border=\"1\" class=\"dataframe\">\n",
       "  <thead>\n",
       "    <tr style=\"text-align: right;\">\n",
       "      <th></th>\n",
       "      <th>0</th>\n",
       "    </tr>\n",
       "  </thead>\n",
       "  <tbody>\n",
       "    <tr>\n",
       "      <th>Sofina</th>\n",
       "      <td>0.210617</td>\n",
       "    </tr>\n",
       "    <tr>\n",
       "      <th>Umicore</th>\n",
       "      <td>0.262626</td>\n",
       "    </tr>\n",
       "    <tr>\n",
       "      <th>AMT</th>\n",
       "      <td>0.182143</td>\n",
       "    </tr>\n",
       "    <tr>\n",
       "      <th>Tencent</th>\n",
       "      <td>0.334424</td>\n",
       "    </tr>\n",
       "    <tr>\n",
       "      <th>Champion REIT</th>\n",
       "      <td>0.061127</td>\n",
       "    </tr>\n",
       "    <tr>\n",
       "      <th>Docusign</th>\n",
       "      <td>0.799731</td>\n",
       "    </tr>\n",
       "    <tr>\n",
       "      <th>Link REIT</th>\n",
       "      <td>0.085562</td>\n",
       "    </tr>\n",
       "  </tbody>\n",
       "</table>\n",
       "</div>"
      ],
      "text/plain": [
       "                      0\n",
       "Sofina         0.210617\n",
       "Umicore        0.262626\n",
       "AMT            0.182143\n",
       "Tencent        0.334424\n",
       "Champion REIT  0.061127\n",
       "Docusign       0.799731\n",
       "Link REIT      0.085562"
      ]
     },
     "execution_count": 6,
     "metadata": {},
     "output_type": "execute_result"
    }
   ],
   "source": [
    "annual_eq_returns = pd.DataFrame(eq_returns.mean()*250)\n",
    "annual_eq_returns"
   ]
  },
  {
   "cell_type": "markdown",
   "metadata": {},
   "source": [
    "Risk Metrics Calculation"
   ]
  },
  {
   "cell_type": "code",
   "execution_count": 7,
   "metadata": {},
   "outputs": [
    {
     "data": {
      "text/html": [
       "<div>\n",
       "<style scoped>\n",
       "    .dataframe tbody tr th:only-of-type {\n",
       "        vertical-align: middle;\n",
       "    }\n",
       "\n",
       "    .dataframe tbody tr th {\n",
       "        vertical-align: top;\n",
       "    }\n",
       "\n",
       "    .dataframe thead th {\n",
       "        text-align: right;\n",
       "    }\n",
       "</style>\n",
       "<table border=\"1\" class=\"dataframe\">\n",
       "  <thead>\n",
       "    <tr style=\"text-align: right;\">\n",
       "      <th></th>\n",
       "      <th>0</th>\n",
       "    </tr>\n",
       "  </thead>\n",
       "  <tbody>\n",
       "    <tr>\n",
       "      <th>Sofina</th>\n",
       "      <td>0.191871</td>\n",
       "    </tr>\n",
       "    <tr>\n",
       "      <th>Umicore</th>\n",
       "      <td>0.321582</td>\n",
       "    </tr>\n",
       "    <tr>\n",
       "      <th>AMT</th>\n",
       "      <td>0.252219</td>\n",
       "    </tr>\n",
       "    <tr>\n",
       "      <th>Tencent</th>\n",
       "      <td>0.295382</td>\n",
       "    </tr>\n",
       "    <tr>\n",
       "      <th>Champion REIT</th>\n",
       "      <td>0.222332</td>\n",
       "    </tr>\n",
       "    <tr>\n",
       "      <th>Docusign</th>\n",
       "      <td>0.517195</td>\n",
       "    </tr>\n",
       "    <tr>\n",
       "      <th>Link REIT</th>\n",
       "      <td>0.207812</td>\n",
       "    </tr>\n",
       "  </tbody>\n",
       "</table>\n",
       "</div>"
      ],
      "text/plain": [
       "                      0\n",
       "Sofina         0.191871\n",
       "Umicore        0.321582\n",
       "AMT            0.252219\n",
       "Tencent        0.295382\n",
       "Champion REIT  0.222332\n",
       "Docusign       0.517195\n",
       "Link REIT      0.207812"
      ]
     },
     "execution_count": 7,
     "metadata": {},
     "output_type": "execute_result"
    }
   ],
   "source": [
    "annual_eq_volatility = pd.DataFrame(eq_returns.std() * 250 **0.5)\n",
    "annual_eq_volatility"
   ]
  },
  {
   "cell_type": "code",
   "execution_count": 8,
   "metadata": {},
   "outputs": [
    {
     "data": {
      "text/html": [
       "<div>\n",
       "<style scoped>\n",
       "    .dataframe tbody tr th:only-of-type {\n",
       "        vertical-align: middle;\n",
       "    }\n",
       "\n",
       "    .dataframe tbody tr th {\n",
       "        vertical-align: top;\n",
       "    }\n",
       "\n",
       "    .dataframe thead th {\n",
       "        text-align: right;\n",
       "    }\n",
       "</style>\n",
       "<table border=\"1\" class=\"dataframe\">\n",
       "  <thead>\n",
       "    <tr style=\"text-align: right;\">\n",
       "      <th></th>\n",
       "      <th>Sofina</th>\n",
       "      <th>Umicore</th>\n",
       "      <th>AMT</th>\n",
       "      <th>Tencent</th>\n",
       "      <th>Champion REIT</th>\n",
       "      <th>Docusign</th>\n",
       "      <th>Link REIT</th>\n",
       "    </tr>\n",
       "  </thead>\n",
       "  <tbody>\n",
       "    <tr>\n",
       "      <th>Sofina</th>\n",
       "      <td>1.000000</td>\n",
       "      <td>0.336109</td>\n",
       "      <td>0.213267</td>\n",
       "      <td>0.263735</td>\n",
       "      <td>0.138999</td>\n",
       "      <td>0.250007</td>\n",
       "      <td>0.082769</td>\n",
       "    </tr>\n",
       "    <tr>\n",
       "      <th>Umicore</th>\n",
       "      <td>0.336109</td>\n",
       "      <td>1.000000</td>\n",
       "      <td>0.150287</td>\n",
       "      <td>0.219305</td>\n",
       "      <td>0.113003</td>\n",
       "      <td>0.200977</td>\n",
       "      <td>0.086578</td>\n",
       "    </tr>\n",
       "    <tr>\n",
       "      <th>AMT</th>\n",
       "      <td>0.213267</td>\n",
       "      <td>0.150287</td>\n",
       "      <td>1.000000</td>\n",
       "      <td>0.086004</td>\n",
       "      <td>0.091737</td>\n",
       "      <td>0.124283</td>\n",
       "      <td>0.058429</td>\n",
       "    </tr>\n",
       "    <tr>\n",
       "      <th>Tencent</th>\n",
       "      <td>0.263735</td>\n",
       "      <td>0.219305</td>\n",
       "      <td>0.086004</td>\n",
       "      <td>1.000000</td>\n",
       "      <td>0.271791</td>\n",
       "      <td>0.137925</td>\n",
       "      <td>0.298370</td>\n",
       "    </tr>\n",
       "    <tr>\n",
       "      <th>Champion REIT</th>\n",
       "      <td>0.138999</td>\n",
       "      <td>0.113003</td>\n",
       "      <td>0.091737</td>\n",
       "      <td>0.271791</td>\n",
       "      <td>1.000000</td>\n",
       "      <td>0.051786</td>\n",
       "      <td>0.389190</td>\n",
       "    </tr>\n",
       "    <tr>\n",
       "      <th>Docusign</th>\n",
       "      <td>0.250007</td>\n",
       "      <td>0.200977</td>\n",
       "      <td>0.124283</td>\n",
       "      <td>0.137925</td>\n",
       "      <td>0.051786</td>\n",
       "      <td>1.000000</td>\n",
       "      <td>0.050389</td>\n",
       "    </tr>\n",
       "    <tr>\n",
       "      <th>Link REIT</th>\n",
       "      <td>0.082769</td>\n",
       "      <td>0.086578</td>\n",
       "      <td>0.058429</td>\n",
       "      <td>0.298370</td>\n",
       "      <td>0.389190</td>\n",
       "      <td>0.050389</td>\n",
       "      <td>1.000000</td>\n",
       "    </tr>\n",
       "  </tbody>\n",
       "</table>\n",
       "</div>"
      ],
      "text/plain": [
       "                 Sofina   Umicore       AMT   Tencent  Champion REIT  \\\n",
       "Sofina         1.000000  0.336109  0.213267  0.263735       0.138999   \n",
       "Umicore        0.336109  1.000000  0.150287  0.219305       0.113003   \n",
       "AMT            0.213267  0.150287  1.000000  0.086004       0.091737   \n",
       "Tencent        0.263735  0.219305  0.086004  1.000000       0.271791   \n",
       "Champion REIT  0.138999  0.113003  0.091737  0.271791       1.000000   \n",
       "Docusign       0.250007  0.200977  0.124283  0.137925       0.051786   \n",
       "Link REIT      0.082769  0.086578  0.058429  0.298370       0.389190   \n",
       "\n",
       "               Docusign  Link REIT  \n",
       "Sofina         0.250007   0.082769  \n",
       "Umicore        0.200977   0.086578  \n",
       "AMT            0.124283   0.058429  \n",
       "Tencent        0.137925   0.298370  \n",
       "Champion REIT  0.051786   0.389190  \n",
       "Docusign       1.000000   0.050389  \n",
       "Link REIT      0.050389   1.000000  "
      ]
     },
     "execution_count": 8,
     "metadata": {},
     "output_type": "execute_result"
    }
   ],
   "source": [
    "eq_corr_matrix = eq_returns.corr()\n",
    "eq_corr_matrix"
   ]
  },
  {
   "cell_type": "code",
   "execution_count": 9,
   "metadata": {},
   "outputs": [
    {
     "data": {
      "image/png": "[encoded data removed]",
      "text/plain": [
       "<Figure size 432x288 with 2 Axes>"
      ]
     },
     "metadata": {
      "needs_background": "light"
     },
     "output_type": "display_data"
    }
   ],
   "source": [
    "eq_heat_map = sb.heatmap(eq_corr_matrix, annot=True, cmap=\"YlGnBu\")\n",
    "plt.xlabel(\"Correlation Matrix of Stock Sub-Portfolio\")\n",
    "plt.ylabel(\"Ticker\")\n",
    "plt.show()"
   ]
  },
  {
   "cell_type": "code",
   "execution_count": 10,
   "metadata": {},
   "outputs": [
    {
     "data": {
      "text/html": [
       "<div>\n",
       "<style scoped>\n",
       "    .dataframe tbody tr th:only-of-type {\n",
       "        vertical-align: middle;\n",
       "    }\n",
       "\n",
       "    .dataframe tbody tr th {\n",
       "        vertical-align: top;\n",
       "    }\n",
       "\n",
       "    .dataframe thead th {\n",
       "        text-align: right;\n",
       "    }\n",
       "</style>\n",
       "<table border=\"1\" class=\"dataframe\">\n",
       "  <thead>\n",
       "    <tr style=\"text-align: right;\">\n",
       "      <th></th>\n",
       "      <th>Sofina</th>\n",
       "      <th>Umicore</th>\n",
       "      <th>AMT</th>\n",
       "      <th>Tencent</th>\n",
       "      <th>Champion REIT</th>\n",
       "      <th>Docusign</th>\n",
       "      <th>Link REIT</th>\n",
       "    </tr>\n",
       "  </thead>\n",
       "  <tbody>\n",
       "    <tr>\n",
       "      <th>Sofina</th>\n",
       "      <td>0.036815</td>\n",
       "      <td>0.020739</td>\n",
       "      <td>0.010381</td>\n",
       "      <td>0.014941</td>\n",
       "      <td>0.005927</td>\n",
       "      <td>0.032068</td>\n",
       "      <td>0.003299</td>\n",
       "    </tr>\n",
       "    <tr>\n",
       "      <th>Umicore</th>\n",
       "      <td>0.020739</td>\n",
       "      <td>0.103415</td>\n",
       "      <td>0.012336</td>\n",
       "      <td>0.020933</td>\n",
       "      <td>0.008119</td>\n",
       "      <td>0.042219</td>\n",
       "      <td>0.005814</td>\n",
       "    </tr>\n",
       "    <tr>\n",
       "      <th>AMT</th>\n",
       "      <td>0.010381</td>\n",
       "      <td>0.012336</td>\n",
       "      <td>0.063614</td>\n",
       "      <td>0.006509</td>\n",
       "      <td>0.005187</td>\n",
       "      <td>0.020528</td>\n",
       "      <td>0.003118</td>\n",
       "    </tr>\n",
       "    <tr>\n",
       "      <th>Tencent</th>\n",
       "      <td>0.014941</td>\n",
       "      <td>0.020933</td>\n",
       "      <td>0.006509</td>\n",
       "      <td>0.087250</td>\n",
       "      <td>0.017849</td>\n",
       "      <td>0.023227</td>\n",
       "      <td>0.018315</td>\n",
       "    </tr>\n",
       "    <tr>\n",
       "      <th>Champion REIT</th>\n",
       "      <td>0.005927</td>\n",
       "      <td>0.008119</td>\n",
       "      <td>0.005187</td>\n",
       "      <td>0.017849</td>\n",
       "      <td>0.049432</td>\n",
       "      <td>0.006035</td>\n",
       "      <td>0.017982</td>\n",
       "    </tr>\n",
       "    <tr>\n",
       "      <th>Docusign</th>\n",
       "      <td>0.032068</td>\n",
       "      <td>0.042219</td>\n",
       "      <td>0.020528</td>\n",
       "      <td>0.023227</td>\n",
       "      <td>0.006035</td>\n",
       "      <td>0.267491</td>\n",
       "      <td>0.006237</td>\n",
       "    </tr>\n",
       "    <tr>\n",
       "      <th>Link REIT</th>\n",
       "      <td>0.003299</td>\n",
       "      <td>0.005814</td>\n",
       "      <td>0.003118</td>\n",
       "      <td>0.018315</td>\n",
       "      <td>0.017982</td>\n",
       "      <td>0.006237</td>\n",
       "      <td>0.043186</td>\n",
       "    </tr>\n",
       "  </tbody>\n",
       "</table>\n",
       "</div>"
      ],
      "text/plain": [
       "                 Sofina   Umicore       AMT   Tencent  Champion REIT  \\\n",
       "Sofina         0.036815  0.020739  0.010381  0.014941       0.005927   \n",
       "Umicore        0.020739  0.103415  0.012336  0.020933       0.008119   \n",
       "AMT            0.010381  0.012336  0.063614  0.006509       0.005187   \n",
       "Tencent        0.014941  0.020933  0.006509  0.087250       0.017849   \n",
       "Champion REIT  0.005927  0.008119  0.005187  0.017849       0.049432   \n",
       "Docusign       0.032068  0.042219  0.020528  0.023227       0.006035   \n",
       "Link REIT      0.003299  0.005814  0.003118  0.018315       0.017982   \n",
       "\n",
       "               Docusign  Link REIT  \n",
       "Sofina         0.032068   0.003299  \n",
       "Umicore        0.042219   0.005814  \n",
       "AMT            0.020528   0.003118  \n",
       "Tencent        0.023227   0.018315  \n",
       "Champion REIT  0.006035   0.017982  \n",
       "Docusign       0.267491   0.006237  \n",
       "Link REIT      0.006237   0.043186  "
      ]
     },
     "execution_count": 10,
     "metadata": {},
     "output_type": "execute_result"
    }
   ],
   "source": [
    "eq_cov_matrix_a = eq_returns.cov() *250\n",
    "eq_cov_matrix_a"
   ]
  },
  {
   "cell_type": "code",
   "execution_count": 11,
   "metadata": {},
   "outputs": [
    {
     "data": {
      "image/png": "[encoded data removed]",
      "text/plain": [
       "<Figure size 432x288 with 2 Axes>"
      ]
     },
     "metadata": {
      "needs_background": "light"
     },
     "output_type": "display_data"
    }
   ],
   "source": [
    "eq_heat_map = sb.heatmap(eq_cov_matrix_a, annot=True, cmap=\"YlGnBu\")\n",
    "plt.xlabel(\"Covariance Matrix of Stock Sub-Portfolio\")\n",
    "plt.ylabel(\"Ticker\")\n",
    "plt.show()"
   ]
  },
  {
   "cell_type": "markdown",
   "metadata": {},
   "source": [
    "Benchmark Quote"
   ]
  },
  {
   "cell_type": "code",
   "execution_count": 12,
   "metadata": {},
   "outputs": [],
   "source": [
    "tickers = ['^GSPC','^GDAXI','^FCHI']\n",
    "eq_indx_data = pd.DataFrame()\n",
    "for t in tickers:\n",
    "    eq_indx_data[t] = wb.DataReader(t, data_source='yahoo', start = '2015-1-1')['Adj Close']\n",
    "    eq_indx_data.rename(columns={'^GSPC': 'S&P 500', '^GDAXI':'DAX','^FCHI':'CAC 40'}, inplace=True)"
   ]
  },
  {
   "cell_type": "code",
   "execution_count": 13,
   "metadata": {},
   "outputs": [
    {
     "data": {
      "text/html": [
       "<div>\n",
       "<style scoped>\n",
       "    .dataframe tbody tr th:only-of-type {\n",
       "        vertical-align: middle;\n",
       "    }\n",
       "\n",
       "    .dataframe tbody tr th {\n",
       "        vertical-align: top;\n",
       "    }\n",
       "\n",
       "    .dataframe thead th {\n",
       "        text-align: right;\n",
       "    }\n",
       "</style>\n",
       "<table border=\"1\" class=\"dataframe\">\n",
       "  <thead>\n",
       "    <tr style=\"text-align: right;\">\n",
       "      <th></th>\n",
       "      <th>S&amp;P 500</th>\n",
       "      <th>DAX</th>\n",
       "      <th>CAC 40</th>\n",
       "    </tr>\n",
       "    <tr>\n",
       "      <th>Date</th>\n",
       "      <th></th>\n",
       "      <th></th>\n",
       "      <th></th>\n",
       "    </tr>\n",
       "  </thead>\n",
       "  <tbody>\n",
       "    <tr>\n",
       "      <th>2015-01-02</th>\n",
       "      <td>2058.199951</td>\n",
       "      <td>9764.730469</td>\n",
       "      <td>4252.290039</td>\n",
       "    </tr>\n",
       "    <tr>\n",
       "      <th>2015-01-05</th>\n",
       "      <td>2020.579956</td>\n",
       "      <td>9473.160156</td>\n",
       "      <td>4111.359863</td>\n",
       "    </tr>\n",
       "    <tr>\n",
       "      <th>2015-01-06</th>\n",
       "      <td>2002.609985</td>\n",
       "      <td>9469.660156</td>\n",
       "      <td>4083.500000</td>\n",
       "    </tr>\n",
       "    <tr>\n",
       "      <th>2015-01-07</th>\n",
       "      <td>2025.900024</td>\n",
       "      <td>9518.179688</td>\n",
       "      <td>4112.729980</td>\n",
       "    </tr>\n",
       "    <tr>\n",
       "      <th>2015-01-08</th>\n",
       "      <td>2062.139893</td>\n",
       "      <td>9837.610352</td>\n",
       "      <td>4260.189941</td>\n",
       "    </tr>\n",
       "  </tbody>\n",
       "</table>\n",
       "</div>"
      ],
      "text/plain": [
       "                S&P 500          DAX       CAC 40\n",
       "Date                                             \n",
       "2015-01-02  2058.199951  9764.730469  4252.290039\n",
       "2015-01-05  2020.579956  9473.160156  4111.359863\n",
       "2015-01-06  2002.609985  9469.660156  4083.500000\n",
       "2015-01-07  2025.900024  9518.179688  4112.729980\n",
       "2015-01-08  2062.139893  9837.610352  4260.189941"
      ]
     },
     "execution_count": 13,
     "metadata": {},
     "output_type": "execute_result"
    }
   ],
   "source": [
    "eq_indx_data.head()"
   ]
  },
  {
   "cell_type": "code",
   "execution_count": 14,
   "metadata": {},
   "outputs": [
    {
     "data": {
      "image/png": "[encoded data removed]",
      "text/plain": [
       "<Figure size 1080x576 with 1 Axes>"
      ]
     },
     "metadata": {
      "needs_background": "light"
     },
     "output_type": "display_data"
    }
   ],
   "source": [
    "(eq_indx_data / eq_indx_data.iloc[0] * 100).plot(figsize = (15,8));\n",
    "plt.show()"
   ]
  },
  {
   "cell_type": "code",
   "execution_count": 15,
   "metadata": {},
   "outputs": [
    {
     "data": {
      "text/html": [
       "<div>\n",
       "<style scoped>\n",
       "    .dataframe tbody tr th:only-of-type {\n",
       "        vertical-align: middle;\n",
       "    }\n",
       "\n",
       "    .dataframe tbody tr th {\n",
       "        vertical-align: top;\n",
       "    }\n",
       "\n",
       "    .dataframe thead th {\n",
       "        text-align: right;\n",
       "    }\n",
       "</style>\n",
       "<table border=\"1\" class=\"dataframe\">\n",
       "  <thead>\n",
       "    <tr style=\"text-align: right;\">\n",
       "      <th></th>\n",
       "      <th>S&amp;P 500</th>\n",
       "      <th>DAX</th>\n",
       "      <th>CAC 40</th>\n",
       "    </tr>\n",
       "    <tr>\n",
       "      <th>Date</th>\n",
       "      <th></th>\n",
       "      <th></th>\n",
       "      <th></th>\n",
       "    </tr>\n",
       "  </thead>\n",
       "  <tbody>\n",
       "    <tr>\n",
       "      <th>2015-01-02</th>\n",
       "      <td>NaN</td>\n",
       "      <td>NaN</td>\n",
       "      <td>NaN</td>\n",
       "    </tr>\n",
       "    <tr>\n",
       "      <th>2015-01-05</th>\n",
       "      <td>-0.018278</td>\n",
       "      <td>-0.029860</td>\n",
       "      <td>-0.033142</td>\n",
       "    </tr>\n",
       "    <tr>\n",
       "      <th>2015-01-06</th>\n",
       "      <td>-0.008893</td>\n",
       "      <td>-0.000369</td>\n",
       "      <td>-0.006776</td>\n",
       "    </tr>\n",
       "    <tr>\n",
       "      <th>2015-01-07</th>\n",
       "      <td>0.011630</td>\n",
       "      <td>0.005124</td>\n",
       "      <td>0.007158</td>\n",
       "    </tr>\n",
       "    <tr>\n",
       "      <th>2015-01-08</th>\n",
       "      <td>0.017888</td>\n",
       "      <td>0.033560</td>\n",
       "      <td>0.035855</td>\n",
       "    </tr>\n",
       "  </tbody>\n",
       "</table>\n",
       "</div>"
      ],
      "text/plain": [
       "             S&P 500       DAX    CAC 40\n",
       "Date                                    \n",
       "2015-01-02       NaN       NaN       NaN\n",
       "2015-01-05 -0.018278 -0.029860 -0.033142\n",
       "2015-01-06 -0.008893 -0.000369 -0.006776\n",
       "2015-01-07  0.011630  0.005124  0.007158\n",
       "2015-01-08  0.017888  0.033560  0.035855"
      ]
     },
     "execution_count": 15,
     "metadata": {},
     "output_type": "execute_result"
    }
   ],
   "source": [
    "eq_indx_returns = (eq_indx_data/ eq_indx_data.shift(1)) - 1\n",
    "eq_indx_returns.head()"
   ]
  },
  {
   "cell_type": "code",
   "execution_count": 16,
   "metadata": {},
   "outputs": [
    {
     "data": {
      "text/html": [
       "<div>\n",
       "<style scoped>\n",
       "    .dataframe tbody tr th:only-of-type {\n",
       "        vertical-align: middle;\n",
       "    }\n",
       "\n",
       "    .dataframe tbody tr th {\n",
       "        vertical-align: top;\n",
       "    }\n",
       "\n",
       "    .dataframe thead th {\n",
       "        text-align: right;\n",
       "    }\n",
       "</style>\n",
       "<table border=\"1\" class=\"dataframe\">\n",
       "  <thead>\n",
       "    <tr style=\"text-align: right;\">\n",
       "      <th></th>\n",
       "      <th>0</th>\n",
       "    </tr>\n",
       "  </thead>\n",
       "  <tbody>\n",
       "    <tr>\n",
       "      <th>S&amp;P 500</th>\n",
       "      <td>0.097365</td>\n",
       "    </tr>\n",
       "    <tr>\n",
       "      <th>DAX</th>\n",
       "      <td>0.068618</td>\n",
       "    </tr>\n",
       "    <tr>\n",
       "      <th>CAC 40</th>\n",
       "      <td>0.060485</td>\n",
       "    </tr>\n",
       "  </tbody>\n",
       "</table>\n",
       "</div>"
      ],
      "text/plain": [
       "                0\n",
       "S&P 500  0.097365\n",
       "DAX      0.068618\n",
       "CAC 40   0.060485"
      ]
     },
     "execution_count": 16,
     "metadata": {},
     "output_type": "execute_result"
    }
   ],
   "source": [
    "avg_indx_returns = pd.DataFrame(eq_indx_returns.mean() *250)\n",
    "avg_indx_returns"
   ]
  },
  {
   "cell_type": "markdown",
   "metadata": {},
   "source": [
    "Equity Sub-portfolio Allocation"
   ]
  },
  {
   "cell_type": "code",
   "execution_count": 17,
   "metadata": {},
   "outputs": [
    {
     "name": "stdout",
     "output_type": "stream",
     "text": [
      "7\n"
     ]
    },
    {
     "data": {
      "text/plain": [
       "array([0.14285714, 0.14285714, 0.14285714, 0.14285714, 0.14285714,\n",
       "       0.14285714, 0.14285714])"
      ]
     },
     "execution_count": 17,
     "metadata": {},
     "output_type": "execute_result"
    }
   ],
   "source": [
    "# Calculate equal risk weights based on the number of stocks chosen in the portfolio \n",
    "numstocks = len(eq_price.columns)\n",
    "print(numstocks)\n",
    "\n",
    "eq_risk_weights = np.repeat(1/numstocks, numstocks)\n",
    "eq_risk_weights"
   ]
  },
  {
   "cell_type": "code",
   "execution_count": 18,
   "metadata": {},
   "outputs": [
    {
     "data": {
      "text/html": [
       "<div>\n",
       "<style scoped>\n",
       "    .dataframe tbody tr th:only-of-type {\n",
       "        vertical-align: middle;\n",
       "    }\n",
       "\n",
       "    .dataframe tbody tr th {\n",
       "        vertical-align: top;\n",
       "    }\n",
       "\n",
       "    .dataframe thead th {\n",
       "        text-align: right;\n",
       "    }\n",
       "</style>\n",
       "<table border=\"1\" class=\"dataframe\">\n",
       "  <thead>\n",
       "    <tr style=\"text-align: right;\">\n",
       "      <th></th>\n",
       "      <th>0</th>\n",
       "    </tr>\n",
       "  </thead>\n",
       "  <tbody>\n",
       "    <tr>\n",
       "      <th>Sofina</th>\n",
       "      <td>0.521183</td>\n",
       "    </tr>\n",
       "    <tr>\n",
       "      <th>Umicore</th>\n",
       "      <td>0.310962</td>\n",
       "    </tr>\n",
       "    <tr>\n",
       "      <th>AMT</th>\n",
       "      <td>0.396482</td>\n",
       "    </tr>\n",
       "    <tr>\n",
       "      <th>Tencent</th>\n",
       "      <td>0.338545</td>\n",
       "    </tr>\n",
       "    <tr>\n",
       "      <th>Champion REIT</th>\n",
       "      <td>0.449778</td>\n",
       "    </tr>\n",
       "    <tr>\n",
       "      <th>Docusign</th>\n",
       "      <td>0.193351</td>\n",
       "    </tr>\n",
       "    <tr>\n",
       "      <th>Link REIT</th>\n",
       "      <td>0.481204</td>\n",
       "    </tr>\n",
       "  </tbody>\n",
       "</table>\n",
       "</div>"
      ],
      "text/plain": [
       "                      0\n",
       "Sofina         0.521183\n",
       "Umicore        0.310962\n",
       "AMT            0.396482\n",
       "Tencent        0.338545\n",
       "Champion REIT  0.449778\n",
       "Docusign       0.193351\n",
       "Link REIT      0.481204"
      ]
     },
     "execution_count": 18,
     "metadata": {},
     "output_type": "execute_result"
    }
   ],
   "source": [
    "# Define Target Volatility per security\n",
    "target_volatility=0.1\n",
    "\n",
    "# Calculate the Volatility Ratio which is (Target Volatility/ Stock Volatility)\n",
    "eq_volatility_ratio = pd.DataFrame(target_volatility/annual_eq_volatility)\n",
    "eq_volatility_ratio"
   ]
  },
  {
   "cell_type": "code",
   "execution_count": 19,
   "metadata": {},
   "outputs": [
    {
     "data": {
      "text/html": [
       "<div>\n",
       "<style scoped>\n",
       "    .dataframe tbody tr th:only-of-type {\n",
       "        vertical-align: middle;\n",
       "    }\n",
       "\n",
       "    .dataframe tbody tr th {\n",
       "        vertical-align: top;\n",
       "    }\n",
       "\n",
       "    .dataframe thead th {\n",
       "        text-align: right;\n",
       "    }\n",
       "</style>\n",
       "<table border=\"1\" class=\"dataframe\">\n",
       "  <thead>\n",
       "    <tr style=\"text-align: right;\">\n",
       "      <th></th>\n",
       "      <th>0</th>\n",
       "    </tr>\n",
       "  </thead>\n",
       "  <tbody>\n",
       "    <tr>\n",
       "      <th>Sofina</th>\n",
       "      <td>0.074455</td>\n",
       "    </tr>\n",
       "    <tr>\n",
       "      <th>Umicore</th>\n",
       "      <td>0.044423</td>\n",
       "    </tr>\n",
       "    <tr>\n",
       "      <th>AMT</th>\n",
       "      <td>0.056640</td>\n",
       "    </tr>\n",
       "    <tr>\n",
       "      <th>Tencent</th>\n",
       "      <td>0.048364</td>\n",
       "    </tr>\n",
       "    <tr>\n",
       "      <th>Champion REIT</th>\n",
       "      <td>0.064254</td>\n",
       "    </tr>\n",
       "    <tr>\n",
       "      <th>Docusign</th>\n",
       "      <td>0.027622</td>\n",
       "    </tr>\n",
       "    <tr>\n",
       "      <th>Link REIT</th>\n",
       "      <td>0.068743</td>\n",
       "    </tr>\n",
       "  </tbody>\n",
       "</table>\n",
       "</div>"
      ],
      "text/plain": [
       "                      0\n",
       "Sofina         0.074455\n",
       "Umicore        0.044423\n",
       "AMT            0.056640\n",
       "Tencent        0.048364\n",
       "Champion REIT  0.064254\n",
       "Docusign       0.027622\n",
       "Link REIT      0.068743"
      ]
     },
     "execution_count": 19,
     "metadata": {},
     "output_type": "execute_result"
    }
   ],
   "source": [
    "# Calculate the Initial Cash Weights which is (Risk Weights * Equity Volatility Ratio)\n",
    "eq_cash_weights = pd.DataFrame(eq_risk_weights* eq_volatility_ratio[0])\n",
    "eq_cash_weights"
   ]
  },
  {
   "cell_type": "code",
   "execution_count": 20,
   "metadata": {},
   "outputs": [
    {
     "data": {
      "text/plain": [
       "0    2.600775\n",
       "dtype: float64"
      ]
     },
     "execution_count": 20,
     "metadata": {},
     "output_type": "execute_result"
    }
   ],
   "source": [
    "# Calculate the Normalizing Factor \n",
    "eq_normalizing_factor = np.repeat(1/eq_cash_weights.sum(),1)\n",
    "eq_normalizing_factor"
   ]
  },
  {
   "cell_type": "code",
   "execution_count": 21,
   "metadata": {},
   "outputs": [
    {
     "data": {
      "text/html": [
       "<div>\n",
       "<style scoped>\n",
       "    .dataframe tbody tr th:only-of-type {\n",
       "        vertical-align: middle;\n",
       "    }\n",
       "\n",
       "    .dataframe tbody tr th {\n",
       "        vertical-align: top;\n",
       "    }\n",
       "\n",
       "    .dataframe thead th {\n",
       "        text-align: right;\n",
       "    }\n",
       "</style>\n",
       "<table border=\"1\" class=\"dataframe\">\n",
       "  <thead>\n",
       "    <tr style=\"text-align: right;\">\n",
       "      <th></th>\n",
       "      <th>0</th>\n",
       "    </tr>\n",
       "  </thead>\n",
       "  <tbody>\n",
       "    <tr>\n",
       "      <th>Sofina</th>\n",
       "      <td>0.193640</td>\n",
       "    </tr>\n",
       "    <tr>\n",
       "      <th>Umicore</th>\n",
       "      <td>0.115535</td>\n",
       "    </tr>\n",
       "    <tr>\n",
       "      <th>AMT</th>\n",
       "      <td>0.147308</td>\n",
       "    </tr>\n",
       "    <tr>\n",
       "      <th>Tencent</th>\n",
       "      <td>0.125783</td>\n",
       "    </tr>\n",
       "    <tr>\n",
       "      <th>Champion REIT</th>\n",
       "      <td>0.167110</td>\n",
       "    </tr>\n",
       "    <tr>\n",
       "      <th>Docusign</th>\n",
       "      <td>0.071837</td>\n",
       "    </tr>\n",
       "    <tr>\n",
       "      <th>Link REIT</th>\n",
       "      <td>0.178786</td>\n",
       "    </tr>\n",
       "  </tbody>\n",
       "</table>\n",
       "</div>"
      ],
      "text/plain": [
       "                      0\n",
       "Sofina         0.193640\n",
       "Umicore        0.115535\n",
       "AMT            0.147308\n",
       "Tencent        0.125783\n",
       "Champion REIT  0.167110\n",
       "Docusign       0.071837\n",
       "Link REIT      0.178786"
      ]
     },
     "execution_count": 21,
     "metadata": {},
     "output_type": "execute_result"
    }
   ],
   "source": [
    "# Multiply the Initial Cash Weights with the Normalizing Factor to make sure the portfolio sums up to 1\n",
    "eq_final_cash_weights = eq_cash_weights * eq_normalizing_factor\n",
    "eq_final_cash_weights"
   ]
  },
  {
   "cell_type": "code",
   "execution_count": 22,
   "metadata": {},
   "outputs": [
    {
     "data": {
      "text/plain": [
       "0    True\n",
       "dtype: bool"
      ]
     },
     "execution_count": 22,
     "metadata": {},
     "output_type": "execute_result"
    }
   ],
   "source": [
    "# Check if the whole portfolio sums up to 1, by rounding the calculated sum to 9 digits\n",
    "round(eq_final_cash_weights.sum(),9)==1"
   ]
  },
  {
   "cell_type": "code",
   "execution_count": 23,
   "metadata": {},
   "outputs": [
    {
     "data": {
      "text/html": [
       "<div>\n",
       "<style scoped>\n",
       "    .dataframe tbody tr th:only-of-type {\n",
       "        vertical-align: middle;\n",
       "    }\n",
       "\n",
       "    .dataframe tbody tr th {\n",
       "        vertical-align: top;\n",
       "    }\n",
       "\n",
       "    .dataframe thead th {\n",
       "        text-align: right;\n",
       "    }\n",
       "</style>\n",
       "<table border=\"1\" class=\"dataframe\">\n",
       "  <thead>\n",
       "    <tr style=\"text-align: right;\">\n",
       "      <th></th>\n",
       "      <th>Initial Cash Weights</th>\n",
       "      <th>Normalizing Factor</th>\n",
       "      <th>Final Cash Weights</th>\n",
       "    </tr>\n",
       "  </thead>\n",
       "  <tbody>\n",
       "    <tr>\n",
       "      <th>Sofina</th>\n",
       "      <td>0.074455</td>\n",
       "      <td>2.600775</td>\n",
       "      <td>0.193640</td>\n",
       "    </tr>\n",
       "    <tr>\n",
       "      <th>Umicore</th>\n",
       "      <td>0.044423</td>\n",
       "      <td>2.600775</td>\n",
       "      <td>0.115535</td>\n",
       "    </tr>\n",
       "    <tr>\n",
       "      <th>AMT</th>\n",
       "      <td>0.056640</td>\n",
       "      <td>2.600775</td>\n",
       "      <td>0.147308</td>\n",
       "    </tr>\n",
       "    <tr>\n",
       "      <th>Tencent</th>\n",
       "      <td>0.048364</td>\n",
       "      <td>2.600775</td>\n",
       "      <td>0.125783</td>\n",
       "    </tr>\n",
       "    <tr>\n",
       "      <th>Champion REIT</th>\n",
       "      <td>0.064254</td>\n",
       "      <td>2.600775</td>\n",
       "      <td>0.167110</td>\n",
       "    </tr>\n",
       "    <tr>\n",
       "      <th>Docusign</th>\n",
       "      <td>0.027622</td>\n",
       "      <td>2.600775</td>\n",
       "      <td>0.071837</td>\n",
       "    </tr>\n",
       "    <tr>\n",
       "      <th>Link REIT</th>\n",
       "      <td>0.068743</td>\n",
       "      <td>2.600775</td>\n",
       "      <td>0.178786</td>\n",
       "    </tr>\n",
       "  </tbody>\n",
       "</table>\n",
       "</div>"
      ],
      "text/plain": [
       "               Initial Cash Weights  Normalizing Factor  Final Cash Weights\n",
       "Sofina                     0.074455            2.600775            0.193640\n",
       "Umicore                    0.044423            2.600775            0.115535\n",
       "AMT                        0.056640            2.600775            0.147308\n",
       "Tencent                    0.048364            2.600775            0.125783\n",
       "Champion REIT              0.064254            2.600775            0.167110\n",
       "Docusign                   0.027622            2.600775            0.071837\n",
       "Link REIT                  0.068743            2.600775            0.178786"
      ]
     },
     "execution_count": 23,
     "metadata": {},
     "output_type": "execute_result"
    }
   ],
   "source": [
    "# Summary Table of how different types of cash weights are derived\n",
    "eq_allocation_table = pd.DataFrame({'Initial Cash Weights':eq_cash_weights[0], 'Normalizing Factor':eq_normalizing_factor[0]\\\n",
    "                                  , 'Final Cash Weights':eq_cash_weights[0] * eq_normalizing_factor[0]})\n",
    "eq_allocation_table"
   ]
  },
  {
   "cell_type": "code",
   "execution_count": 24,
   "metadata": {},
   "outputs": [
    {
     "name": "stderr",
     "output_type": "stream",
     "text": [
      "C:\\Users\\chris\\anaconda3\\lib\\site-packages\\ipykernel_launcher.py:9: MatplotlibDeprecationWarning:\n",
      "\n",
      "Non-1D inputs to pie() are currently squeeze()d, but this behavior is deprecated since 3.1 and will be removed in 3.3; pass a 1D array instead.\n",
      "\n"
     ]
    },
    {
     "data": {
      "image/png": "[encoded data removed]",
      "text/plain": [
       "<Figure size 360x360 with 1 Axes>"
      ]
     },
     "metadata": {},
     "output_type": "display_data"
    }
   ],
   "source": [
    "# Create Pie chart for Final Cash Weights\n",
    "plt.figure(figsize=(5,5))\n",
    "\n",
    "labels = [eq_price.columns[0],eq_price.columns[1],eq_price.columns[2],eq_price.columns[3],eq_price.columns[4],\\\n",
    "          eq_price.columns[5],eq_price.columns[6]]\n",
    "values = [eq_final_cash_weights[0]]\n",
    "explode = [0,0,0,0,0,0,0]\n",
    "\n",
    "plt.pie(values, labels=labels, autopct=\"%.1f%%\", explode=explode)\n",
    "\n",
    "plt.show()"
   ]
  },
  {
   "cell_type": "code",
   "execution_count": 25,
   "metadata": {},
   "outputs": [
    {
     "data": {
      "text/html": [
       "<div>\n",
       "<style scoped>\n",
       "    .dataframe tbody tr th:only-of-type {\n",
       "        vertical-align: middle;\n",
       "    }\n",
       "\n",
       "    .dataframe tbody tr th {\n",
       "        vertical-align: top;\n",
       "    }\n",
       "\n",
       "    .dataframe thead th {\n",
       "        text-align: right;\n",
       "    }\n",
       "</style>\n",
       "<table border=\"1\" class=\"dataframe\">\n",
       "  <thead>\n",
       "    <tr style=\"text-align: right;\">\n",
       "      <th></th>\n",
       "      <th>0</th>\n",
       "    </tr>\n",
       "  </thead>\n",
       "  <tbody>\n",
       "    <tr>\n",
       "      <th>Sofina</th>\n",
       "      <td>0.040784</td>\n",
       "    </tr>\n",
       "    <tr>\n",
       "      <th>Umicore</th>\n",
       "      <td>0.030342</td>\n",
       "    </tr>\n",
       "    <tr>\n",
       "      <th>AMT</th>\n",
       "      <td>0.026831</td>\n",
       "    </tr>\n",
       "    <tr>\n",
       "      <th>Tencent</th>\n",
       "      <td>0.042065</td>\n",
       "    </tr>\n",
       "    <tr>\n",
       "      <th>Champion REIT</th>\n",
       "      <td>0.010215</td>\n",
       "    </tr>\n",
       "    <tr>\n",
       "      <th>Docusign</th>\n",
       "      <td>0.057451</td>\n",
       "    </tr>\n",
       "    <tr>\n",
       "      <th>Link REIT</th>\n",
       "      <td>0.015297</td>\n",
       "    </tr>\n",
       "  </tbody>\n",
       "</table>\n",
       "</div>"
      ],
      "text/plain": [
       "                      0\n",
       "Sofina         0.040784\n",
       "Umicore        0.030342\n",
       "AMT            0.026831\n",
       "Tencent        0.042065\n",
       "Champion REIT  0.010215\n",
       "Docusign       0.057451\n",
       "Link REIT      0.015297"
      ]
     },
     "execution_count": 25,
     "metadata": {},
     "output_type": "execute_result"
    }
   ],
   "source": [
    "# Calculate the Expected Portfolio Return for individual equities\n",
    "eq_E_R = pd.DataFrame(eq_final_cash_weights[0] * annual_eq_returns[0])\n",
    "eq_E_R"
   ]
  },
  {
   "cell_type": "markdown",
   "metadata": {},
   "source": [
    "Performance Evaluation (Return Analysis)"
   ]
  },
  {
   "cell_type": "code",
   "execution_count": 26,
   "metadata": {},
   "outputs": [
    {
     "data": {
      "text/html": [
       "<div>\n",
       "<style scoped>\n",
       "    .dataframe tbody tr th:only-of-type {\n",
       "        vertical-align: middle;\n",
       "    }\n",
       "\n",
       "    .dataframe tbody tr th {\n",
       "        vertical-align: top;\n",
       "    }\n",
       "\n",
       "    .dataframe thead th {\n",
       "        text-align: right;\n",
       "    }\n",
       "</style>\n",
       "<table border=\"1\" class=\"dataframe\">\n",
       "  <thead>\n",
       "    <tr style=\"text-align: right;\">\n",
       "      <th></th>\n",
       "      <th>E (Eq Return)</th>\n",
       "      <th>S&amp;P 500</th>\n",
       "      <th>DAX</th>\n",
       "      <th>CAC</th>\n",
       "    </tr>\n",
       "  </thead>\n",
       "  <tbody>\n",
       "    <tr>\n",
       "      <th>Annual Return</th>\n",
       "      <td>0.222985</td>\n",
       "      <td>0.097365</td>\n",
       "      <td>0.068618</td>\n",
       "      <td>0.060485</td>\n",
       "    </tr>\n",
       "  </tbody>\n",
       "</table>\n",
       "</div>"
      ],
      "text/plain": [
       "               E (Eq Return)   S&P 500       DAX       CAC\n",
       "Annual Return       0.222985  0.097365  0.068618  0.060485"
      ]
     },
     "execution_count": 26,
     "metadata": {},
     "output_type": "execute_result"
    }
   ],
   "source": [
    "eq_bench_port = pd.DataFrame({'E (Eq Return)':eq_E_R.sum(), 'S&P 500':avg_indx_returns.T['S&P 500'], \\\n",
    "                              'DAX':avg_indx_returns.T['DAX'], 'CAC':avg_indx_returns.T['CAC 40'] })\n",
    "eq_bench_port.rename(index={0:'Annual Return'}, inplace = True)\n",
    "eq_bench_port"
   ]
  },
  {
   "cell_type": "code",
   "execution_count": 27,
   "metadata": {},
   "outputs": [
    {
     "data": {
      "text/html": [
       "<div>\n",
       "<style scoped>\n",
       "    .dataframe tbody tr th:only-of-type {\n",
       "        vertical-align: middle;\n",
       "    }\n",
       "\n",
       "    .dataframe tbody tr th {\n",
       "        vertical-align: top;\n",
       "    }\n",
       "\n",
       "    .dataframe thead th {\n",
       "        text-align: right;\n",
       "    }\n",
       "</style>\n",
       "<table border=\"1\" class=\"dataframe\">\n",
       "  <thead>\n",
       "    <tr style=\"text-align: right;\">\n",
       "      <th></th>\n",
       "      <th>E (Eq Return)</th>\n",
       "      <th>S&amp;P 500</th>\n",
       "      <th>DAX</th>\n",
       "      <th>CAC</th>\n",
       "    </tr>\n",
       "  </thead>\n",
       "  <tbody>\n",
       "    <tr>\n",
       "      <th>Annual Return</th>\n",
       "      <td>0.222985</td>\n",
       "      <td>0.097365</td>\n",
       "      <td>0.068618</td>\n",
       "      <td>0.060485</td>\n",
       "    </tr>\n",
       "    <tr>\n",
       "      <th>Delta Benchmark</th>\n",
       "      <td>0.000000</td>\n",
       "      <td>0.125621</td>\n",
       "      <td>0.154367</td>\n",
       "      <td>0.162500</td>\n",
       "    </tr>\n",
       "  </tbody>\n",
       "</table>\n",
       "</div>"
      ],
      "text/plain": [
       "                 E (Eq Return)   S&P 500       DAX       CAC\n",
       "Annual Return         0.222985  0.097365  0.068618  0.060485\n",
       "Delta Benchmark       0.000000  0.125621  0.154367  0.162500"
      ]
     },
     "execution_count": 27,
     "metadata": {},
     "output_type": "execute_result"
    }
   ],
   "source": [
    "delta = pd.DataFrame({'E (Eq Return)':eq_bench_port['E (Eq Return)']-eq_bench_port['E (Eq Return)'],\\\n",
    "                      'S&P 500':eq_bench_port['E (Eq Return)']-eq_bench_port['S&P 500'], \\\n",
    "                     'DAX':eq_bench_port['E (Eq Return)']-eq_bench_port['DAX'], \\\n",
    "                      'CAC':eq_bench_port['E (Eq Return)']-eq_bench_port['CAC']})\n",
    "\n",
    "eq_bench_port_append = eq_bench_port.append(delta,ignore_index = True)\n",
    "eq_bench_port_append.rename(index={0:'Annual Return', 1:'Delta Benchmark'}, inplace = True)\n",
    "eq_bench_port_append"
   ]
  },
  {
   "cell_type": "markdown",
   "metadata": {},
   "source": [
    "Performance Evaluation (Risk Analysis)"
   ]
  },
  {
   "cell_type": "code",
   "execution_count": 47,
   "metadata": {},
   "outputs": [
    {
     "data": {
      "text/plain": [
       "array([0.14285714, 0.14285714, 0.14285714, 0.14285714, 0.14285714,\n",
       "       0.14285714, 0.14285714])"
      ]
     },
     "execution_count": 47,
     "metadata": {},
     "output_type": "execute_result"
    }
   ],
   "source": [
    "eq_risk_weights"
   ]
  },
  {
   "cell_type": "code",
   "execution_count": 46,
   "metadata": {},
   "outputs": [
    {
     "data": {
      "text/html": [
       "<div>\n",
       "<style scoped>\n",
       "    .dataframe tbody tr th:only-of-type {\n",
       "        vertical-align: middle;\n",
       "    }\n",
       "\n",
       "    .dataframe tbody tr th {\n",
       "        vertical-align: top;\n",
       "    }\n",
       "\n",
       "    .dataframe thead th {\n",
       "        text-align: right;\n",
       "    }\n",
       "</style>\n",
       "<table border=\"1\" class=\"dataframe\">\n",
       "  <thead>\n",
       "    <tr style=\"text-align: right;\">\n",
       "      <th></th>\n",
       "      <th>0</th>\n",
       "    </tr>\n",
       "  </thead>\n",
       "  <tbody>\n",
       "    <tr>\n",
       "      <th>Sofina</th>\n",
       "      <td>0.191871</td>\n",
       "    </tr>\n",
       "    <tr>\n",
       "      <th>Umicore</th>\n",
       "      <td>0.321582</td>\n",
       "    </tr>\n",
       "    <tr>\n",
       "      <th>AMT</th>\n",
       "      <td>0.252219</td>\n",
       "    </tr>\n",
       "    <tr>\n",
       "      <th>Tencent</th>\n",
       "      <td>0.295382</td>\n",
       "    </tr>\n",
       "    <tr>\n",
       "      <th>Champion REIT</th>\n",
       "      <td>0.222332</td>\n",
       "    </tr>\n",
       "    <tr>\n",
       "      <th>Docusign</th>\n",
       "      <td>0.517195</td>\n",
       "    </tr>\n",
       "    <tr>\n",
       "      <th>Link REIT</th>\n",
       "      <td>0.207812</td>\n",
       "    </tr>\n",
       "  </tbody>\n",
       "</table>\n",
       "</div>"
      ],
      "text/plain": [
       "                      0\n",
       "Sofina         0.191871\n",
       "Umicore        0.321582\n",
       "AMT            0.252219\n",
       "Tencent        0.295382\n",
       "Champion REIT  0.222332\n",
       "Docusign       0.517195\n",
       "Link REIT      0.207812"
      ]
     },
     "execution_count": 46,
     "metadata": {},
     "output_type": "execute_result"
    }
   ],
   "source": [
    "annual_eq_volatility"
   ]
  },
  {
   "cell_type": "code",
   "execution_count": 44,
   "metadata": {},
   "outputs": [
    {
     "data": {
      "text/html": [
       "<div>\n",
       "<style scoped>\n",
       "    .dataframe tbody tr th:only-of-type {\n",
       "        vertical-align: middle;\n",
       "    }\n",
       "\n",
       "    .dataframe tbody tr th {\n",
       "        vertical-align: top;\n",
       "    }\n",
       "\n",
       "    .dataframe thead th {\n",
       "        text-align: right;\n",
       "    }\n",
       "</style>\n",
       "<table border=\"1\" class=\"dataframe\">\n",
       "  <thead>\n",
       "    <tr style=\"text-align: right;\">\n",
       "      <th></th>\n",
       "      <th>0</th>\n",
       "    </tr>\n",
       "  </thead>\n",
       "  <tbody>\n",
       "    <tr>\n",
       "      <th>Sofina</th>\n",
       "      <td>0.074455</td>\n",
       "    </tr>\n",
       "    <tr>\n",
       "      <th>Umicore</th>\n",
       "      <td>0.044423</td>\n",
       "    </tr>\n",
       "    <tr>\n",
       "      <th>AMT</th>\n",
       "      <td>0.056640</td>\n",
       "    </tr>\n",
       "    <tr>\n",
       "      <th>Tencent</th>\n",
       "      <td>0.048364</td>\n",
       "    </tr>\n",
       "    <tr>\n",
       "      <th>Champion REIT</th>\n",
       "      <td>0.064254</td>\n",
       "    </tr>\n",
       "    <tr>\n",
       "      <th>Docusign</th>\n",
       "      <td>0.027622</td>\n",
       "    </tr>\n",
       "    <tr>\n",
       "      <th>Link REIT</th>\n",
       "      <td>0.068743</td>\n",
       "    </tr>\n",
       "  </tbody>\n",
       "</table>\n",
       "</div>"
      ],
      "text/plain": [
       "                      0\n",
       "Sofina         0.074455\n",
       "Umicore        0.044423\n",
       "AMT            0.056640\n",
       "Tencent        0.048364\n",
       "Champion REIT  0.064254\n",
       "Docusign       0.027622\n",
       "Link REIT      0.068743"
      ]
     },
     "execution_count": 44,
     "metadata": {},
     "output_type": "execute_result"
    }
   ],
   "source": [
    "eq_cash_weights"
   ]
  },
  {
   "cell_type": "code",
   "execution_count": 45,
   "metadata": {},
   "outputs": [
    {
     "data": {
      "text/html": [
       "<div>\n",
       "<style scoped>\n",
       "    .dataframe tbody tr th:only-of-type {\n",
       "        vertical-align: middle;\n",
       "    }\n",
       "\n",
       "    .dataframe tbody tr th {\n",
       "        vertical-align: top;\n",
       "    }\n",
       "\n",
       "    .dataframe thead th {\n",
       "        text-align: right;\n",
       "    }\n",
       "</style>\n",
       "<table border=\"1\" class=\"dataframe\">\n",
       "  <thead>\n",
       "    <tr style=\"text-align: right;\">\n",
       "      <th></th>\n",
       "      <th>0</th>\n",
       "    </tr>\n",
       "  </thead>\n",
       "  <tbody>\n",
       "    <tr>\n",
       "      <th>Sofina</th>\n",
       "      <td>0.193640</td>\n",
       "    </tr>\n",
       "    <tr>\n",
       "      <th>Umicore</th>\n",
       "      <td>0.115535</td>\n",
       "    </tr>\n",
       "    <tr>\n",
       "      <th>AMT</th>\n",
       "      <td>0.147308</td>\n",
       "    </tr>\n",
       "    <tr>\n",
       "      <th>Tencent</th>\n",
       "      <td>0.125783</td>\n",
       "    </tr>\n",
       "    <tr>\n",
       "      <th>Champion REIT</th>\n",
       "      <td>0.167110</td>\n",
       "    </tr>\n",
       "    <tr>\n",
       "      <th>Docusign</th>\n",
       "      <td>0.071837</td>\n",
       "    </tr>\n",
       "    <tr>\n",
       "      <th>Link REIT</th>\n",
       "      <td>0.178786</td>\n",
       "    </tr>\n",
       "  </tbody>\n",
       "</table>\n",
       "</div>"
      ],
      "text/plain": [
       "                      0\n",
       "Sofina         0.193640\n",
       "Umicore        0.115535\n",
       "AMT            0.147308\n",
       "Tencent        0.125783\n",
       "Champion REIT  0.167110\n",
       "Docusign       0.071837\n",
       "Link REIT      0.178786"
      ]
     },
     "execution_count": 45,
     "metadata": {},
     "output_type": "execute_result"
    }
   ],
   "source": [
    "eq_final_cash_weights"
   ]
  },
  {
   "cell_type": "code",
   "execution_count": 43,
   "metadata": {},
   "outputs": [
    {
     "data": {
      "text/plain": [
       "0.05460271422376578"
      ]
     },
     "execution_count": 43,
     "metadata": {},
     "output_type": "execute_result"
    }
   ],
   "source": [
    "# Use the portfolio volatility calculated above and multiply with the transpose of final cash weight to get a single no.\n",
    "p_vol = (np.dot(eq_cash_weights[0].T,np.dot(eq_cov_matrix_a,eq_cash_weights[0]) ))**0.5\n",
    "p_vol"
   ]
  },
  {
   "cell_type": "code",
   "execution_count": 33,
   "metadata": {},
   "outputs": [
    {
     "data": {
      "text/html": [
       "<div>\n",
       "<style scoped>\n",
       "    .dataframe tbody tr th:only-of-type {\n",
       "        vertical-align: middle;\n",
       "    }\n",
       "\n",
       "    .dataframe tbody tr th {\n",
       "        vertical-align: top;\n",
       "    }\n",
       "\n",
       "    .dataframe thead th {\n",
       "        text-align: right;\n",
       "    }\n",
       "</style>\n",
       "<table border=\"1\" class=\"dataframe\">\n",
       "  <thead>\n",
       "    <tr style=\"text-align: right;\">\n",
       "      <th></th>\n",
       "      <th>E (Eq Return)</th>\n",
       "      <th>S&amp;P 500</th>\n",
       "      <th>DAX</th>\n",
       "      <th>CAC</th>\n",
       "    </tr>\n",
       "  </thead>\n",
       "  <tbody>\n",
       "    <tr>\n",
       "      <th>Annualized Volatility</th>\n",
       "      <td>0.222985</td>\n",
       "      <td>0.097365</td>\n",
       "      <td>0.068618</td>\n",
       "      <td>0.060485</td>\n",
       "    </tr>\n",
       "  </tbody>\n",
       "</table>\n",
       "</div>"
      ],
      "text/plain": [
       "                       E (Eq Return)   S&P 500       DAX       CAC\n",
       "Annualized Volatility       0.222985  0.097365  0.068618  0.060485"
      ]
     },
     "execution_count": 33,
     "metadata": {},
     "output_type": "execute_result"
    }
   ],
   "source": [
    "eq_risk_bench = pd.DataFrame({'E (Eq Return)':eq_E_R.sum(), 'S&P 500':avg_indx_returns.T['S&P 500'], \\\n",
    "                              'DAX':avg_indx_returns.T['DAX'], 'CAC':avg_indx_returns.T['CAC 40'] })\n",
    "eq_risk_bench.rename(index={0:'Annualized Volatility'}, inplace = True)\n",
    "eq_risk_bench"
   ]
  },
  {
   "cell_type": "markdown",
   "metadata": {},
   "source": [
    "## Fixed Income Sub-Portfolio"
   ]
  },
  {
   "cell_type": "markdown",
   "metadata": {},
   "source": [
    "Bond Price Quote"
   ]
  },
  {
   "cell_type": "code",
   "execution_count": 1,
   "metadata": {},
   "outputs": [
    {
     "ename": "NameError",
     "evalue": "name 'quandl' is not defined",
     "output_type": "error",
     "traceback": [
      "\u001b[1;31m---------------------------------------------------------------------------\u001b[0m",
      "\u001b[1;31mNameError\u001b[0m                                 Traceback (most recent call last)",
      "\u001b[1;32m<ipython-input-1-401ac83be0e4>\u001b[0m in \u001b[0;36m<module>\u001b[1;34m\u001b[0m\n\u001b[1;32m----> 1\u001b[1;33m \u001b[0mquandl\u001b[0m\u001b[1;33m.\u001b[0m\u001b[0mApiConfig\u001b[0m\u001b[1;33m.\u001b[0m\u001b[0mapi_key\u001b[0m \u001b[1;33m=\u001b[0m \u001b[1;34m\"yoEsoBnNjeqBCG8b1zQo\"\u001b[0m\u001b[1;33m\u001b[0m\u001b[1;33m\u001b[0m\u001b[0m\n\u001b[0m\u001b[0;32m      2\u001b[0m \u001b[0mUS_t_yield\u001b[0m \u001b[1;33m=\u001b[0m \u001b[0mquandl\u001b[0m\u001b[1;33m.\u001b[0m\u001b[0mget\u001b[0m\u001b[1;33m(\u001b[0m\u001b[1;34m\"USTREASURY/YIELD\"\u001b[0m\u001b[1;33m,\u001b[0m\u001b[0mstart_date\u001b[0m\u001b[1;33m=\u001b[0m\u001b[1;34m'2020-2-15'\u001b[0m\u001b[1;33m)\u001b[0m\u001b[1;33m[\u001b[0m\u001b[1;34m'10 YR'\u001b[0m\u001b[1;33m]\u001b[0m\u001b[1;33m\u001b[0m\u001b[1;33m\u001b[0m\u001b[0m\n\u001b[0;32m      3\u001b[0m \u001b[0mUS_t_yield\u001b[0m\u001b[1;33m.\u001b[0m\u001b[0mhead\u001b[0m\u001b[1;33m(\u001b[0m\u001b[1;36m30\u001b[0m\u001b[1;33m)\u001b[0m\u001b[1;33m\u001b[0m\u001b[1;33m\u001b[0m\u001b[0m\n",
      "\u001b[1;31mNameError\u001b[0m: name 'quandl' is not defined"
     ]
    }
   ],
   "source": [
    "quandl.ApiConfig.api_key = \"yoEsoBnNjeqBCG8b1zQo\"\n",
    "US_t_yield = quandl.get(\"USTREASURY/YIELD\",start_date='2020-2-15')['10 YR']\n",
    "US_t_yield.head(30)"
   ]
  },
  {
   "cell_type": "code",
   "execution_count": 31,
   "metadata": {},
   "outputs": [
    {
     "data": {
      "text/html": [
       "<div>\n",
       "<style scoped>\n",
       "    .dataframe tbody tr th:only-of-type {\n",
       "        vertical-align: middle;\n",
       "    }\n",
       "\n",
       "    .dataframe tbody tr th {\n",
       "        vertical-align: top;\n",
       "    }\n",
       "\n",
       "    .dataframe thead th {\n",
       "        text-align: right;\n",
       "    }\n",
       "</style>\n",
       "<table border=\"1\" class=\"dataframe\">\n",
       "  <thead>\n",
       "    <tr style=\"text-align: right;\">\n",
       "      <th></th>\n",
       "      <th>BAMLEMHBHYCRPIEY</th>\n",
       "    </tr>\n",
       "    <tr>\n",
       "      <th>DATE</th>\n",
       "      <th></th>\n",
       "    </tr>\n",
       "  </thead>\n",
       "  <tbody>\n",
       "    <tr>\n",
       "      <th>2020-02-17</th>\n",
       "      <td>6.05</td>\n",
       "    </tr>\n",
       "    <tr>\n",
       "      <th>2020-02-18</th>\n",
       "      <td>6.01</td>\n",
       "    </tr>\n",
       "    <tr>\n",
       "      <th>2020-02-19</th>\n",
       "      <td>6.01</td>\n",
       "    </tr>\n",
       "    <tr>\n",
       "      <th>2020-02-20</th>\n",
       "      <td>5.98</td>\n",
       "    </tr>\n",
       "    <tr>\n",
       "      <th>2020-02-21</th>\n",
       "      <td>5.98</td>\n",
       "    </tr>\n",
       "    <tr>\n",
       "      <th>2020-02-24</th>\n",
       "      <td>6.09</td>\n",
       "    </tr>\n",
       "    <tr>\n",
       "      <th>2020-02-25</th>\n",
       "      <td>6.12</td>\n",
       "    </tr>\n",
       "    <tr>\n",
       "      <th>2020-02-26</th>\n",
       "      <td>6.25</td>\n",
       "    </tr>\n",
       "    <tr>\n",
       "      <th>2020-02-27</th>\n",
       "      <td>6.45</td>\n",
       "    </tr>\n",
       "    <tr>\n",
       "      <th>2020-02-28</th>\n",
       "      <td>6.67</td>\n",
       "    </tr>\n",
       "    <tr>\n",
       "      <th>2020-02-29</th>\n",
       "      <td>6.70</td>\n",
       "    </tr>\n",
       "    <tr>\n",
       "      <th>2020-03-02</th>\n",
       "      <td>6.73</td>\n",
       "    </tr>\n",
       "    <tr>\n",
       "      <th>2020-03-03</th>\n",
       "      <td>6.57</td>\n",
       "    </tr>\n",
       "    <tr>\n",
       "      <th>2020-03-04</th>\n",
       "      <td>6.48</td>\n",
       "    </tr>\n",
       "    <tr>\n",
       "      <th>2020-03-05</th>\n",
       "      <td>6.53</td>\n",
       "    </tr>\n",
       "    <tr>\n",
       "      <th>2020-03-06</th>\n",
       "      <td>6.71</td>\n",
       "    </tr>\n",
       "    <tr>\n",
       "      <th>2020-03-09</th>\n",
       "      <td>7.59</td>\n",
       "    </tr>\n",
       "    <tr>\n",
       "      <th>2020-03-10</th>\n",
       "      <td>7.67</td>\n",
       "    </tr>\n",
       "    <tr>\n",
       "      <th>2020-03-11</th>\n",
       "      <td>7.94</td>\n",
       "    </tr>\n",
       "    <tr>\n",
       "      <th>2020-03-12</th>\n",
       "      <td>8.78</td>\n",
       "    </tr>\n",
       "    <tr>\n",
       "      <th>2020-03-13</th>\n",
       "      <td>9.14</td>\n",
       "    </tr>\n",
       "    <tr>\n",
       "      <th>2020-03-16</th>\n",
       "      <td>9.95</td>\n",
       "    </tr>\n",
       "    <tr>\n",
       "      <th>2020-03-17</th>\n",
       "      <td>10.51</td>\n",
       "    </tr>\n",
       "    <tr>\n",
       "      <th>2020-03-18</th>\n",
       "      <td>11.75</td>\n",
       "    </tr>\n",
       "    <tr>\n",
       "      <th>2020-03-19</th>\n",
       "      <td>12.76</td>\n",
       "    </tr>\n",
       "    <tr>\n",
       "      <th>2020-03-20</th>\n",
       "      <td>12.98</td>\n",
       "    </tr>\n",
       "    <tr>\n",
       "      <th>2020-03-23</th>\n",
       "      <td>13.55</td>\n",
       "    </tr>\n",
       "    <tr>\n",
       "      <th>2020-03-24</th>\n",
       "      <td>13.47</td>\n",
       "    </tr>\n",
       "    <tr>\n",
       "      <th>2020-03-25</th>\n",
       "      <td>13.07</td>\n",
       "    </tr>\n",
       "    <tr>\n",
       "      <th>2020-03-26</th>\n",
       "      <td>12.16</td>\n",
       "    </tr>\n",
       "  </tbody>\n",
       "</table>\n",
       "</div>"
      ],
      "text/plain": [
       "            BAMLEMHBHYCRPIEY\n",
       "DATE                        \n",
       "2020-02-17              6.05\n",
       "2020-02-18              6.01\n",
       "2020-02-19              6.01\n",
       "2020-02-20              5.98\n",
       "2020-02-21              5.98\n",
       "2020-02-24              6.09\n",
       "2020-02-25              6.12\n",
       "2020-02-26              6.25\n",
       "2020-02-27              6.45\n",
       "2020-02-28              6.67\n",
       "2020-02-29              6.70\n",
       "2020-03-02              6.73\n",
       "2020-03-03              6.57\n",
       "2020-03-04              6.48\n",
       "2020-03-05              6.53\n",
       "2020-03-06              6.71\n",
       "2020-03-09              7.59\n",
       "2020-03-10              7.67\n",
       "2020-03-11              7.94\n",
       "2020-03-12              8.78\n",
       "2020-03-13              9.14\n",
       "2020-03-16              9.95\n",
       "2020-03-17             10.51\n",
       "2020-03-18             11.75\n",
       "2020-03-19             12.76\n",
       "2020-03-20             12.98\n",
       "2020-03-23             13.55\n",
       "2020-03-24             13.47\n",
       "2020-03-25             13.07\n",
       "2020-03-26             12.16"
      ]
     },
     "execution_count": 31,
     "metadata": {},
     "output_type": "execute_result"
    }
   ],
   "source": [
    "EM_corpbond = quandl.get(\"ML/EMHYY\",start_date='2020-2-15')\n",
    "EM_corpbond.head(30)"
   ]
  },
  {
   "cell_type": "code",
   "execution_count": 32,
   "metadata": {},
   "outputs": [
    {
     "data": {
      "text/html": [
       "<div>\n",
       "<style scoped>\n",
       "    .dataframe tbody tr th:only-of-type {\n",
       "        vertical-align: middle;\n",
       "    }\n",
       "\n",
       "    .dataframe tbody tr th {\n",
       "        vertical-align: top;\n",
       "    }\n",
       "\n",
       "    .dataframe thead th {\n",
       "        text-align: right;\n",
       "    }\n",
       "</style>\n",
       "<table border=\"1\" class=\"dataframe\">\n",
       "  <thead>\n",
       "    <tr style=\"text-align: right;\">\n",
       "      <th></th>\n",
       "      <th>BAMLC0A1CAAAEY</th>\n",
       "    </tr>\n",
       "    <tr>\n",
       "      <th>DATE</th>\n",
       "      <th></th>\n",
       "    </tr>\n",
       "  </thead>\n",
       "  <tbody>\n",
       "    <tr>\n",
       "      <th>2020-03-16</th>\n",
       "      <td>2.28</td>\n",
       "    </tr>\n",
       "    <tr>\n",
       "      <th>2020-03-17</th>\n",
       "      <td>2.58</td>\n",
       "    </tr>\n",
       "    <tr>\n",
       "      <th>2020-03-18</th>\n",
       "      <td>2.96</td>\n",
       "    </tr>\n",
       "    <tr>\n",
       "      <th>2020-03-19</th>\n",
       "      <td>3.10</td>\n",
       "    </tr>\n",
       "    <tr>\n",
       "      <th>2020-03-20</th>\n",
       "      <td>3.36</td>\n",
       "    </tr>\n",
       "  </tbody>\n",
       "</table>\n",
       "</div>"
      ],
      "text/plain": [
       "            BAMLC0A1CAAAEY\n",
       "DATE                      \n",
       "2020-03-16            2.28\n",
       "2020-03-17            2.58\n",
       "2020-03-18            2.96\n",
       "2020-03-19            3.10\n",
       "2020-03-20            3.36"
      ]
     },
     "execution_count": 32,
     "metadata": {},
     "output_type": "execute_result"
    }
   ],
   "source": [
    "US_AAA = quandl.get(\"ML/AAAEY\",start_date='2020-3-15')\n",
    "US_AAA.head()"
   ]
  },
  {
   "cell_type": "code",
   "execution_count": null,
   "metadata": {},
   "outputs": [],
   "source": []
  }
 ],
 "metadata": {
  "kernelspec": {
   "display_name": "Python 3",
   "language": "python",
   "name": "python3"
  },
  "language_info": {
   "codemirror_mode": {
    "name": "ipython",
    "version": 3
   },
   "file_extension": ".py",
   "mimetype": "text/x-python",
   "name": "python",
   "nbconvert_exporter": "python",
   "pygments_lexer": "ipython3",
   "version": "3.7.6"
  }
 },
 "nbformat": 4,
 "nbformat_minor": 4
}
