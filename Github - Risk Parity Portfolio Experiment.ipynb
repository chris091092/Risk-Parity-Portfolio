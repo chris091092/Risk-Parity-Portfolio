{
 "cells": [
  {
   "cell_type": "markdown",
   "metadata": {},
   "source": [
    "# Project Description"
   ]
  },
  {
   "cell_type": "markdown",
   "metadata": {},
   "source": [
    "The goal of the project is to construct a simple risk parity portfolio. On a purist perspective, a risk parity portfolio means that there is an equal contribution of risk from each security in one's portfolio. For example, if one has 8 securities of in his portfolio, the contribution from each security must be the same. Note that I am referring to individual security level but not the portfolio level at a broader sense. The portfolio volatility as a whole might be greater, equal or smaller than the volatility of each security depending the correlation of return across each security."
   ]
  },
  {
   "cell_type": "markdown",
   "metadata": {},
   "source": [
    "In terms of security selection, I have selected 7 securities. 3 of them are REITs, 1 of them is a family office that has a heavy exposure to private equity and the remaining ones are growth stocks from various industries. There is no specific preference in terms of market cap, liquidity, style of the stocks selected as the whole purpose of this exercise is to demonstrate the prospect of the risk parity strategy. Therefore, the 3 growth stocks are chosen because of their higher volatilities. This is essential to implement risk parity strategy effectively  as it amplifies one's allocation to an asset that has a lower volatility and reduces one's allocation to risky assets at the same time."
   ]
  },
  {
   "cell_type": "markdown",
   "metadata": {},
   "source": [
    "To construct a risk parity portfolio I begin with an equally weighted portfolio at the beginning, and adjust the initial weight of each security that is inversely proportional to indivudual's volatility. Finally, a normalizing factor is multiplied to arrive at the final weight and make sure all weights add up to 1. For more details, please read Line [32]."
   ]
  },
  {
   "cell_type": "markdown",
   "metadata": {},
   "source": [
    "Finally, we also investigate other portfolio allocation strategies such as equal weighting, minimum variance and maximum sharpe ratio strategies to see if risk parity strategy is head and shoulders above its peers. For more details, please go to the bottom of the notebook under the section 'Summary of Findings', starting from Line [62]."
   ]
  },
  {
   "cell_type": "markdown",
   "metadata": {},
   "source": [
    "A relection on the analysis and further research direction can also be found from Line [64]."
   ]
  },
  {
   "cell_type": "markdown",
   "metadata": {},
   "source": [
    "## Import Packages"
   ]
  },
  {
   "cell_type": "code",
   "execution_count": 1,
   "metadata": {},
   "outputs": [
    {
     "name": "stderr",
     "output_type": "stream",
     "text": [
      "C:\\Users\\chris\\anaconda3\\lib\\site-packages\\pandas_datareader\\compat\\__init__.py:7: FutureWarning: pandas.util.testing is deprecated. Use the functions in the public API at pandas.testing instead.\n",
      "  from pandas.util.testing import assert_frame_equal\n"
     ]
    }
   ],
   "source": [
    "import numpy as np\n",
    "import pandas as pd\n",
    "from pandas_datareader import data as wb\n",
    "import matplotlib.pyplot as plt\n",
    "import seaborn as sb\n",
    "import plotly.express as px\n",
    "import quandl"
   ]
  },
  {
   "cell_type": "markdown",
   "metadata": {},
   "source": [
    "## Share Price Quote - Yahoo Finance"
   ]
  },
  {
   "cell_type": "code",
   "execution_count": 2,
   "metadata": {},
   "outputs": [],
   "source": [
    "tickers = ['SOF.BR', 'UMI.BR', 'AMT','0700.HK','2778.HK','DOCU','0823.HK']\n",
    "eq_price = pd.DataFrame()\n",
    "for t in tickers:\n",
    "    eq_price[t] = wb.DataReader(t,data_source = 'yahoo',start = '2015-1-1')['Adj Close']\n",
    "    eq_price.rename(columns={'SOF.BR': 'Sofina', 'UMI.BR':'Umicore','0700.HK':'Tencent',\\\n",
    "                             '2778.HK':'Champion REIT','DOCU':'Docusign','0823.HK':'Link REIT'}, inplace=True)"
   ]
  },
  {
   "cell_type": "code",
   "execution_count": 3,
   "metadata": {},
   "outputs": [
    {
     "data": {
      "text/html": [
       "<div>\n",
       "<style scoped>\n",
       "    .dataframe tbody tr th:only-of-type {\n",
       "        vertical-align: middle;\n",
       "    }\n",
       "\n",
       "    .dataframe tbody tr th {\n",
       "        vertical-align: top;\n",
       "    }\n",
       "\n",
       "    .dataframe thead th {\n",
       "        text-align: right;\n",
       "    }\n",
       "</style>\n",
       "<table border=\"1\" class=\"dataframe\">\n",
       "  <thead>\n",
       "    <tr style=\"text-align: right;\">\n",
       "      <th></th>\n",
       "      <th>Sofina</th>\n",
       "      <th>Umicore</th>\n",
       "      <th>AMT</th>\n",
       "      <th>Tencent</th>\n",
       "      <th>Champion REIT</th>\n",
       "      <th>Docusign</th>\n",
       "      <th>Link REIT</th>\n",
       "    </tr>\n",
       "    <tr>\n",
       "      <th>Date</th>\n",
       "      <th></th>\n",
       "      <th></th>\n",
       "      <th></th>\n",
       "      <th></th>\n",
       "      <th></th>\n",
       "      <th></th>\n",
       "      <th></th>\n",
       "    </tr>\n",
       "  </thead>\n",
       "  <tbody>\n",
       "    <tr>\n",
       "      <th>2020-07-27</th>\n",
       "      <td>236.5</td>\n",
       "      <td>44.900002</td>\n",
       "      <td>260.309998</td>\n",
       "      <td>520.0</td>\n",
       "      <td>3.93</td>\n",
       "      <td>196.270004</td>\n",
       "      <td>58.549999</td>\n",
       "    </tr>\n",
       "    <tr>\n",
       "      <th>2020-07-28</th>\n",
       "      <td>235.0</td>\n",
       "      <td>45.070000</td>\n",
       "      <td>266.799988</td>\n",
       "      <td>543.5</td>\n",
       "      <td>4.02</td>\n",
       "      <td>196.729996</td>\n",
       "      <td>58.200001</td>\n",
       "    </tr>\n",
       "    <tr>\n",
       "      <th>2020-07-29</th>\n",
       "      <td>236.5</td>\n",
       "      <td>44.910000</td>\n",
       "      <td>271.290009</td>\n",
       "      <td>541.5</td>\n",
       "      <td>4.00</td>\n",
       "      <td>209.149994</td>\n",
       "      <td>59.250000</td>\n",
       "    </tr>\n",
       "    <tr>\n",
       "      <th>2020-07-30</th>\n",
       "      <td>233.5</td>\n",
       "      <td>43.650002</td>\n",
       "      <td>262.489990</td>\n",
       "      <td>535.0</td>\n",
       "      <td>4.04</td>\n",
       "      <td>213.940002</td>\n",
       "      <td>60.299999</td>\n",
       "    </tr>\n",
       "    <tr>\n",
       "      <th>2020-07-31</th>\n",
       "      <td>238.0</td>\n",
       "      <td>39.939999</td>\n",
       "      <td>261.390015</td>\n",
       "      <td>534.0</td>\n",
       "      <td>4.11</td>\n",
       "      <td>216.830002</td>\n",
       "      <td>60.150002</td>\n",
       "    </tr>\n",
       "  </tbody>\n",
       "</table>\n",
       "</div>"
      ],
      "text/plain": [
       "            Sofina    Umicore         AMT  Tencent  Champion REIT    Docusign  \\\n",
       "Date                                                                            \n",
       "2020-07-27   236.5  44.900002  260.309998    520.0           3.93  196.270004   \n",
       "2020-07-28   235.0  45.070000  266.799988    543.5           4.02  196.729996   \n",
       "2020-07-29   236.5  44.910000  271.290009    541.5           4.00  209.149994   \n",
       "2020-07-30   233.5  43.650002  262.489990    535.0           4.04  213.940002   \n",
       "2020-07-31   238.0  39.939999  261.390015    534.0           4.11  216.830002   \n",
       "\n",
       "            Link REIT  \n",
       "Date                   \n",
       "2020-07-27  58.549999  \n",
       "2020-07-28  58.200001  \n",
       "2020-07-29  59.250000  \n",
       "2020-07-30  60.299999  \n",
       "2020-07-31  60.150002  "
      ]
     },
     "execution_count": 3,
     "metadata": {},
     "output_type": "execute_result"
    }
   ],
   "source": [
    "eq_price.tail()"
   ]
  },
  {
   "cell_type": "code",
   "execution_count": 4,
   "metadata": {
    "scrolled": true
   },
   "outputs": [
    {
     "data": {
      "image/png": "[encoded data removed]",
      "text/plain": [
       "<Figure size 1080x360 with 1 Axes>"
      ]
     },
     "metadata": {
      "needs_background": "light"
     },
     "output_type": "display_data"
    }
   ],
   "source": [
    "(eq_price / eq_price.iloc[0] * 100).plot(figsize = (15,5));\n",
    "plt.show()"
   ]
  },
  {
   "cell_type": "code",
   "execution_count": 5,
   "metadata": {},
   "outputs": [
    {
     "data": {
      "text/plain": [
       "array(['Sofina', 'Umicore', 'AMT', 'Tencent', 'Champion REIT', 'Docusign',\n",
       "       'Link REIT'], dtype=object)"
      ]
     },
     "execution_count": 5,
     "metadata": {},
     "output_type": "execute_result"
    }
   ],
   "source": [
    "# Create ticker labels for graphing processes later\n",
    "t_label = np.array(eq_price.columns)\n",
    "t_label"
   ]
  },
  {
   "cell_type": "markdown",
   "metadata": {},
   "source": [
    "## Benchmark Quote - Yahoo Finance"
   ]
  },
  {
   "cell_type": "code",
   "execution_count": 6,
   "metadata": {},
   "outputs": [],
   "source": [
    "tickers = ['^GSPC','^GDAXI','^FCHI']\n",
    "eq_indx_data = pd.DataFrame()\n",
    "for t in tickers:\n",
    "    eq_indx_data[t] = wb.DataReader(t, data_source='yahoo', start = '2015-1-1')['Adj Close']\n",
    "    eq_indx_data.rename(columns={'^GSPC': 'S&P 500', '^GDAXI':'DAX','^FCHI':'CAC 40'}, inplace=True)"
   ]
  },
  {
   "cell_type": "code",
   "execution_count": 7,
   "metadata": {},
   "outputs": [
    {
     "data": {
      "text/html": [
       "<div>\n",
       "<style scoped>\n",
       "    .dataframe tbody tr th:only-of-type {\n",
       "        vertical-align: middle;\n",
       "    }\n",
       "\n",
       "    .dataframe tbody tr th {\n",
       "        vertical-align: top;\n",
       "    }\n",
       "\n",
       "    .dataframe thead th {\n",
       "        text-align: right;\n",
       "    }\n",
       "</style>\n",
       "<table border=\"1\" class=\"dataframe\">\n",
       "  <thead>\n",
       "    <tr style=\"text-align: right;\">\n",
       "      <th></th>\n",
       "      <th>S&amp;P 500</th>\n",
       "      <th>DAX</th>\n",
       "      <th>CAC 40</th>\n",
       "    </tr>\n",
       "    <tr>\n",
       "      <th>Date</th>\n",
       "      <th></th>\n",
       "      <th></th>\n",
       "      <th></th>\n",
       "    </tr>\n",
       "  </thead>\n",
       "  <tbody>\n",
       "    <tr>\n",
       "      <th>2015-01-02</th>\n",
       "      <td>2058.199951</td>\n",
       "      <td>9764.730469</td>\n",
       "      <td>4252.290039</td>\n",
       "    </tr>\n",
       "    <tr>\n",
       "      <th>2015-01-05</th>\n",
       "      <td>2020.579956</td>\n",
       "      <td>9473.160156</td>\n",
       "      <td>4111.359863</td>\n",
       "    </tr>\n",
       "    <tr>\n",
       "      <th>2015-01-06</th>\n",
       "      <td>2002.609985</td>\n",
       "      <td>9469.660156</td>\n",
       "      <td>4083.500000</td>\n",
       "    </tr>\n",
       "    <tr>\n",
       "      <th>2015-01-07</th>\n",
       "      <td>2025.900024</td>\n",
       "      <td>9518.179688</td>\n",
       "      <td>4112.729980</td>\n",
       "    </tr>\n",
       "    <tr>\n",
       "      <th>2015-01-08</th>\n",
       "      <td>2062.139893</td>\n",
       "      <td>9837.610352</td>\n",
       "      <td>4260.189941</td>\n",
       "    </tr>\n",
       "  </tbody>\n",
       "</table>\n",
       "</div>"
      ],
      "text/plain": [
       "                S&P 500          DAX       CAC 40\n",
       "Date                                             \n",
       "2015-01-02  2058.199951  9764.730469  4252.290039\n",
       "2015-01-05  2020.579956  9473.160156  4111.359863\n",
       "2015-01-06  2002.609985  9469.660156  4083.500000\n",
       "2015-01-07  2025.900024  9518.179688  4112.729980\n",
       "2015-01-08  2062.139893  9837.610352  4260.189941"
      ]
     },
     "execution_count": 7,
     "metadata": {},
     "output_type": "execute_result"
    }
   ],
   "source": [
    "eq_indx_data.head()"
   ]
  },
  {
   "cell_type": "code",
   "execution_count": 8,
   "metadata": {},
   "outputs": [
    {
     "data": {
      "image/png": "[encoded data removed]",
      "text/plain": [
       "<Figure size 1080x576 with 1 Axes>"
      ]
     },
     "metadata": {
      "needs_background": "light"
     },
     "output_type": "display_data"
    }
   ],
   "source": [
    "(eq_indx_data / eq_indx_data.iloc[0] * 100).plot(figsize = (15,8));\n",
    "plt.show()"
   ]
  },
  {
   "cell_type": "code",
   "execution_count": 9,
   "metadata": {},
   "outputs": [
    {
     "data": {
      "text/html": [
       "<div>\n",
       "<style scoped>\n",
       "    .dataframe tbody tr th:only-of-type {\n",
       "        vertical-align: middle;\n",
       "    }\n",
       "\n",
       "    .dataframe tbody tr th {\n",
       "        vertical-align: top;\n",
       "    }\n",
       "\n",
       "    .dataframe thead th {\n",
       "        text-align: right;\n",
       "    }\n",
       "</style>\n",
       "<table border=\"1\" class=\"dataframe\">\n",
       "  <thead>\n",
       "    <tr style=\"text-align: right;\">\n",
       "      <th></th>\n",
       "      <th>S&amp;P 500</th>\n",
       "      <th>DAX</th>\n",
       "      <th>CAC 40</th>\n",
       "    </tr>\n",
       "    <tr>\n",
       "      <th>Date</th>\n",
       "      <th></th>\n",
       "      <th></th>\n",
       "      <th></th>\n",
       "    </tr>\n",
       "  </thead>\n",
       "  <tbody>\n",
       "    <tr>\n",
       "      <th>2015-01-02</th>\n",
       "      <td>NaN</td>\n",
       "      <td>NaN</td>\n",
       "      <td>NaN</td>\n",
       "    </tr>\n",
       "    <tr>\n",
       "      <th>2015-01-05</th>\n",
       "      <td>-0.018278</td>\n",
       "      <td>-0.029860</td>\n",
       "      <td>-0.033142</td>\n",
       "    </tr>\n",
       "    <tr>\n",
       "      <th>2015-01-06</th>\n",
       "      <td>-0.008893</td>\n",
       "      <td>-0.000369</td>\n",
       "      <td>-0.006776</td>\n",
       "    </tr>\n",
       "    <tr>\n",
       "      <th>2015-01-07</th>\n",
       "      <td>0.011630</td>\n",
       "      <td>0.005124</td>\n",
       "      <td>0.007158</td>\n",
       "    </tr>\n",
       "    <tr>\n",
       "      <th>2015-01-08</th>\n",
       "      <td>0.017888</td>\n",
       "      <td>0.033560</td>\n",
       "      <td>0.035855</td>\n",
       "    </tr>\n",
       "  </tbody>\n",
       "</table>\n",
       "</div>"
      ],
      "text/plain": [
       "             S&P 500       DAX    CAC 40\n",
       "Date                                    \n",
       "2015-01-02       NaN       NaN       NaN\n",
       "2015-01-05 -0.018278 -0.029860 -0.033142\n",
       "2015-01-06 -0.008893 -0.000369 -0.006776\n",
       "2015-01-07  0.011630  0.005124  0.007158\n",
       "2015-01-08  0.017888  0.033560  0.035855"
      ]
     },
     "execution_count": 9,
     "metadata": {},
     "output_type": "execute_result"
    }
   ],
   "source": [
    "# Calculate the Daily Benchmark Return\n",
    "eq_indx_returns = (eq_indx_data/ eq_indx_data.shift(1)) - 1\n",
    "eq_indx_returns.head()"
   ]
  },
  {
   "cell_type": "code",
   "execution_count": 10,
   "metadata": {
    "scrolled": true
   },
   "outputs": [
    {
     "data": {
      "text/html": [
       "<div>\n",
       "<style scoped>\n",
       "    .dataframe tbody tr th:only-of-type {\n",
       "        vertical-align: middle;\n",
       "    }\n",
       "\n",
       "    .dataframe tbody tr th {\n",
       "        vertical-align: top;\n",
       "    }\n",
       "\n",
       "    .dataframe thead th {\n",
       "        text-align: right;\n",
       "    }\n",
       "</style>\n",
       "<table border=\"1\" class=\"dataframe\">\n",
       "  <thead>\n",
       "    <tr style=\"text-align: right;\">\n",
       "      <th></th>\n",
       "      <th>A_Bench_R</th>\n",
       "    </tr>\n",
       "  </thead>\n",
       "  <tbody>\n",
       "    <tr>\n",
       "      <th>S&amp;P 500</th>\n",
       "      <td>0.100093</td>\n",
       "    </tr>\n",
       "    <tr>\n",
       "      <th>DAX</th>\n",
       "      <td>0.060729</td>\n",
       "    </tr>\n",
       "    <tr>\n",
       "      <th>CAC 40</th>\n",
       "      <td>0.053876</td>\n",
       "    </tr>\n",
       "  </tbody>\n",
       "</table>\n",
       "</div>"
      ],
      "text/plain": [
       "         A_Bench_R\n",
       "S&P 500   0.100093\n",
       "DAX       0.060729\n",
       "CAC 40    0.053876"
      ]
     },
     "execution_count": 10,
     "metadata": {},
     "output_type": "execute_result"
    }
   ],
   "source": [
    "# Calculate the Annualized Benchmark Return\n",
    "avg_indx_returns = pd.DataFrame({'A_Bench_R':eq_indx_returns.mean() *250})\n",
    "avg_indx_returns"
   ]
  },
  {
   "cell_type": "code",
   "execution_count": 11,
   "metadata": {},
   "outputs": [
    {
     "data": {
      "text/html": [
       "<div>\n",
       "<style scoped>\n",
       "    .dataframe tbody tr th:only-of-type {\n",
       "        vertical-align: middle;\n",
       "    }\n",
       "\n",
       "    .dataframe tbody tr th {\n",
       "        vertical-align: top;\n",
       "    }\n",
       "\n",
       "    .dataframe thead th {\n",
       "        text-align: right;\n",
       "    }\n",
       "</style>\n",
       "<table border=\"1\" class=\"dataframe\">\n",
       "  <thead>\n",
       "    <tr style=\"text-align: right;\">\n",
       "      <th></th>\n",
       "      <th>A_Bench_Vol</th>\n",
       "    </tr>\n",
       "  </thead>\n",
       "  <tbody>\n",
       "    <tr>\n",
       "      <th>S&amp;P 500</th>\n",
       "      <td>0.186993</td>\n",
       "    </tr>\n",
       "    <tr>\n",
       "      <th>DAX</th>\n",
       "      <td>0.210327</td>\n",
       "    </tr>\n",
       "    <tr>\n",
       "      <th>CAC 40</th>\n",
       "      <td>0.203467</td>\n",
       "    </tr>\n",
       "  </tbody>\n",
       "</table>\n",
       "</div>"
      ],
      "text/plain": [
       "         A_Bench_Vol\n",
       "S&P 500     0.186993\n",
       "DAX         0.210327\n",
       "CAC 40      0.203467"
      ]
     },
     "execution_count": 11,
     "metadata": {},
     "output_type": "execute_result"
    }
   ],
   "source": [
    "# Calculate the Annualized Benchmark Volatility\n",
    "avg_indx_vol = pd.DataFrame({'A_Bench_Vol':eq_indx_returns.std() *250 **0.5})\n",
    "avg_indx_vol"
   ]
  },
  {
   "cell_type": "markdown",
   "metadata": {},
   "source": [
    "## Stock Returns Calculation (Annualized Daily)"
   ]
  },
  {
   "cell_type": "code",
   "execution_count": 12,
   "metadata": {},
   "outputs": [
    {
     "data": {
      "text/html": [
       "<div>\n",
       "<style scoped>\n",
       "    .dataframe tbody tr th:only-of-type {\n",
       "        vertical-align: middle;\n",
       "    }\n",
       "\n",
       "    .dataframe tbody tr th {\n",
       "        vertical-align: top;\n",
       "    }\n",
       "\n",
       "    .dataframe thead th {\n",
       "        text-align: right;\n",
       "    }\n",
       "</style>\n",
       "<table border=\"1\" class=\"dataframe\">\n",
       "  <thead>\n",
       "    <tr style=\"text-align: right;\">\n",
       "      <th></th>\n",
       "      <th>Sofina</th>\n",
       "      <th>Umicore</th>\n",
       "      <th>AMT</th>\n",
       "      <th>Tencent</th>\n",
       "      <th>Champion REIT</th>\n",
       "      <th>Docusign</th>\n",
       "      <th>Link REIT</th>\n",
       "    </tr>\n",
       "    <tr>\n",
       "      <th>Date</th>\n",
       "      <th></th>\n",
       "      <th></th>\n",
       "      <th></th>\n",
       "      <th></th>\n",
       "      <th></th>\n",
       "      <th></th>\n",
       "      <th></th>\n",
       "    </tr>\n",
       "  </thead>\n",
       "  <tbody>\n",
       "    <tr>\n",
       "      <th>2020-07-27</th>\n",
       "      <td>0.015021</td>\n",
       "      <td>0.002904</td>\n",
       "      <td>0.015527</td>\n",
       "      <td>-0.015152</td>\n",
       "      <td>-0.010076</td>\n",
       "      <td>0.027861</td>\n",
       "      <td>-0.005942</td>\n",
       "    </tr>\n",
       "    <tr>\n",
       "      <th>2020-07-28</th>\n",
       "      <td>-0.006342</td>\n",
       "      <td>0.003786</td>\n",
       "      <td>0.024932</td>\n",
       "      <td>0.045192</td>\n",
       "      <td>0.022901</td>\n",
       "      <td>0.002344</td>\n",
       "      <td>-0.005978</td>\n",
       "    </tr>\n",
       "    <tr>\n",
       "      <th>2020-07-29</th>\n",
       "      <td>0.006383</td>\n",
       "      <td>-0.003550</td>\n",
       "      <td>0.016829</td>\n",
       "      <td>-0.003680</td>\n",
       "      <td>-0.004975</td>\n",
       "      <td>0.063132</td>\n",
       "      <td>0.018041</td>\n",
       "    </tr>\n",
       "    <tr>\n",
       "      <th>2020-07-30</th>\n",
       "      <td>-0.012685</td>\n",
       "      <td>-0.028056</td>\n",
       "      <td>-0.032438</td>\n",
       "      <td>-0.012004</td>\n",
       "      <td>0.010000</td>\n",
       "      <td>0.022902</td>\n",
       "      <td>0.017722</td>\n",
       "    </tr>\n",
       "    <tr>\n",
       "      <th>2020-07-31</th>\n",
       "      <td>0.019272</td>\n",
       "      <td>-0.084994</td>\n",
       "      <td>-0.004191</td>\n",
       "      <td>-0.001869</td>\n",
       "      <td>0.017327</td>\n",
       "      <td>0.013508</td>\n",
       "      <td>-0.002488</td>\n",
       "    </tr>\n",
       "  </tbody>\n",
       "</table>\n",
       "</div>"
      ],
      "text/plain": [
       "              Sofina   Umicore       AMT   Tencent  Champion REIT  Docusign  \\\n",
       "Date                                                                          \n",
       "2020-07-27  0.015021  0.002904  0.015527 -0.015152      -0.010076  0.027861   \n",
       "2020-07-28 -0.006342  0.003786  0.024932  0.045192       0.022901  0.002344   \n",
       "2020-07-29  0.006383 -0.003550  0.016829 -0.003680      -0.004975  0.063132   \n",
       "2020-07-30 -0.012685 -0.028056 -0.032438 -0.012004       0.010000  0.022902   \n",
       "2020-07-31  0.019272 -0.084994 -0.004191 -0.001869       0.017327  0.013508   \n",
       "\n",
       "            Link REIT  \n",
       "Date                   \n",
       "2020-07-27  -0.005942  \n",
       "2020-07-28  -0.005978  \n",
       "2020-07-29   0.018041  \n",
       "2020-07-30   0.017722  \n",
       "2020-07-31  -0.002488  "
      ]
     },
     "execution_count": 12,
     "metadata": {},
     "output_type": "execute_result"
    }
   ],
   "source": [
    "eq_returns = (eq_price/ eq_price.shift(1)) - 1\n",
    "eq_returns.tail()"
   ]
  },
  {
   "cell_type": "code",
   "execution_count": 13,
   "metadata": {
    "scrolled": true
   },
   "outputs": [
    {
     "data": {
      "text/html": [
       "<div>\n",
       "<style scoped>\n",
       "    .dataframe tbody tr th:only-of-type {\n",
       "        vertical-align: middle;\n",
       "    }\n",
       "\n",
       "    .dataframe tbody tr th {\n",
       "        vertical-align: top;\n",
       "    }\n",
       "\n",
       "    .dataframe thead th {\n",
       "        text-align: right;\n",
       "    }\n",
       "</style>\n",
       "<table border=\"1\" class=\"dataframe\">\n",
       "  <thead>\n",
       "    <tr style=\"text-align: right;\">\n",
       "      <th></th>\n",
       "      <th>A_Eq_R</th>\n",
       "    </tr>\n",
       "  </thead>\n",
       "  <tbody>\n",
       "    <tr>\n",
       "      <th>Sofina</th>\n",
       "      <td>0.213679</td>\n",
       "    </tr>\n",
       "    <tr>\n",
       "      <th>Umicore</th>\n",
       "      <td>0.242408</td>\n",
       "    </tr>\n",
       "    <tr>\n",
       "      <th>AMT</th>\n",
       "      <td>0.185290</td>\n",
       "    </tr>\n",
       "    <tr>\n",
       "      <th>Tencent</th>\n",
       "      <td>0.335513</td>\n",
       "    </tr>\n",
       "    <tr>\n",
       "      <th>Champion REIT</th>\n",
       "      <td>0.067500</td>\n",
       "    </tr>\n",
       "    <tr>\n",
       "      <th>Docusign</th>\n",
       "      <td>0.851816</td>\n",
       "    </tr>\n",
       "    <tr>\n",
       "      <th>Link REIT</th>\n",
       "      <td>0.089249</td>\n",
       "    </tr>\n",
       "  </tbody>\n",
       "</table>\n",
       "</div>"
      ],
      "text/plain": [
       "                 A_Eq_R\n",
       "Sofina         0.213679\n",
       "Umicore        0.242408\n",
       "AMT            0.185290\n",
       "Tencent        0.335513\n",
       "Champion REIT  0.067500\n",
       "Docusign       0.851816\n",
       "Link REIT      0.089249"
      ]
     },
     "execution_count": 13,
     "metadata": {},
     "output_type": "execute_result"
    }
   ],
   "source": [
    "annual_eq_returns = pd.DataFrame({'A_Eq_R':eq_returns.mean()*250})\n",
    "annual_eq_returns"
   ]
  },
  {
   "cell_type": "markdown",
   "metadata": {},
   "source": [
    "## Stock Risk Metrics Calculation"
   ]
  },
  {
   "cell_type": "code",
   "execution_count": 14,
   "metadata": {},
   "outputs": [
    {
     "data": {
      "text/html": [
       "<div>\n",
       "<style scoped>\n",
       "    .dataframe tbody tr th:only-of-type {\n",
       "        vertical-align: middle;\n",
       "    }\n",
       "\n",
       "    .dataframe tbody tr th {\n",
       "        vertical-align: top;\n",
       "    }\n",
       "\n",
       "    .dataframe thead th {\n",
       "        text-align: right;\n",
       "    }\n",
       "</style>\n",
       "<table border=\"1\" class=\"dataframe\">\n",
       "  <thead>\n",
       "    <tr style=\"text-align: right;\">\n",
       "      <th></th>\n",
       "      <th>A_Eq_Vol</th>\n",
       "    </tr>\n",
       "  </thead>\n",
       "  <tbody>\n",
       "    <tr>\n",
       "      <th>Sofina</th>\n",
       "      <td>0.191903</td>\n",
       "    </tr>\n",
       "    <tr>\n",
       "      <th>Umicore</th>\n",
       "      <td>0.323273</td>\n",
       "    </tr>\n",
       "    <tr>\n",
       "      <th>AMT</th>\n",
       "      <td>0.252554</td>\n",
       "    </tr>\n",
       "    <tr>\n",
       "      <th>Tencent</th>\n",
       "      <td>0.295593</td>\n",
       "    </tr>\n",
       "    <tr>\n",
       "      <th>Champion REIT</th>\n",
       "      <td>0.222351</td>\n",
       "    </tr>\n",
       "    <tr>\n",
       "      <th>Docusign</th>\n",
       "      <td>0.516894</td>\n",
       "    </tr>\n",
       "    <tr>\n",
       "      <th>Link REIT</th>\n",
       "      <td>0.207739</td>\n",
       "    </tr>\n",
       "  </tbody>\n",
       "</table>\n",
       "</div>"
      ],
      "text/plain": [
       "               A_Eq_Vol\n",
       "Sofina         0.191903\n",
       "Umicore        0.323273\n",
       "AMT            0.252554\n",
       "Tencent        0.295593\n",
       "Champion REIT  0.222351\n",
       "Docusign       0.516894\n",
       "Link REIT      0.207739"
      ]
     },
     "execution_count": 14,
     "metadata": {},
     "output_type": "execute_result"
    }
   ],
   "source": [
    "annual_eq_volatility = pd.DataFrame({'A_Eq_Vol':eq_returns.std() * 250 **0.5})\n",
    "annual_eq_volatility"
   ]
  },
  {
   "cell_type": "code",
   "execution_count": 15,
   "metadata": {},
   "outputs": [
    {
     "data": {
      "text/html": [
       "<div>\n",
       "<style scoped>\n",
       "    .dataframe tbody tr th:only-of-type {\n",
       "        vertical-align: middle;\n",
       "    }\n",
       "\n",
       "    .dataframe tbody tr th {\n",
       "        vertical-align: top;\n",
       "    }\n",
       "\n",
       "    .dataframe thead th {\n",
       "        text-align: right;\n",
       "    }\n",
       "</style>\n",
       "<table border=\"1\" class=\"dataframe\">\n",
       "  <thead>\n",
       "    <tr style=\"text-align: right;\">\n",
       "      <th></th>\n",
       "      <th>Sofina</th>\n",
       "      <th>Umicore</th>\n",
       "      <th>AMT</th>\n",
       "      <th>Tencent</th>\n",
       "      <th>Champion REIT</th>\n",
       "      <th>Docusign</th>\n",
       "      <th>Link REIT</th>\n",
       "    </tr>\n",
       "  </thead>\n",
       "  <tbody>\n",
       "    <tr>\n",
       "      <th>Sofina</th>\n",
       "      <td>1.000000</td>\n",
       "      <td>0.329696</td>\n",
       "      <td>0.213997</td>\n",
       "      <td>0.261001</td>\n",
       "      <td>0.137742</td>\n",
       "      <td>0.250339</td>\n",
       "      <td>0.081365</td>\n",
       "    </tr>\n",
       "    <tr>\n",
       "      <th>Umicore</th>\n",
       "      <td>0.329696</td>\n",
       "      <td>1.000000</td>\n",
       "      <td>0.151887</td>\n",
       "      <td>0.218630</td>\n",
       "      <td>0.107549</td>\n",
       "      <td>0.194467</td>\n",
       "      <td>0.084760</td>\n",
       "    </tr>\n",
       "    <tr>\n",
       "      <th>AMT</th>\n",
       "      <td>0.213997</td>\n",
       "      <td>0.151887</td>\n",
       "      <td>1.000000</td>\n",
       "      <td>0.088589</td>\n",
       "      <td>0.090902</td>\n",
       "      <td>0.124658</td>\n",
       "      <td>0.056208</td>\n",
       "    </tr>\n",
       "    <tr>\n",
       "      <th>Tencent</th>\n",
       "      <td>0.261001</td>\n",
       "      <td>0.218630</td>\n",
       "      <td>0.088589</td>\n",
       "      <td>1.000000</td>\n",
       "      <td>0.273426</td>\n",
       "      <td>0.133584</td>\n",
       "      <td>0.295657</td>\n",
       "    </tr>\n",
       "    <tr>\n",
       "      <th>Champion REIT</th>\n",
       "      <td>0.137742</td>\n",
       "      <td>0.107549</td>\n",
       "      <td>0.090902</td>\n",
       "      <td>0.273426</td>\n",
       "      <td>1.000000</td>\n",
       "      <td>0.050591</td>\n",
       "      <td>0.387628</td>\n",
       "    </tr>\n",
       "    <tr>\n",
       "      <th>Docusign</th>\n",
       "      <td>0.250339</td>\n",
       "      <td>0.194467</td>\n",
       "      <td>0.124658</td>\n",
       "      <td>0.133584</td>\n",
       "      <td>0.050591</td>\n",
       "      <td>1.000000</td>\n",
       "      <td>0.055062</td>\n",
       "    </tr>\n",
       "    <tr>\n",
       "      <th>Link REIT</th>\n",
       "      <td>0.081365</td>\n",
       "      <td>0.084760</td>\n",
       "      <td>0.056208</td>\n",
       "      <td>0.295657</td>\n",
       "      <td>0.387628</td>\n",
       "      <td>0.055062</td>\n",
       "      <td>1.000000</td>\n",
       "    </tr>\n",
       "  </tbody>\n",
       "</table>\n",
       "</div>"
      ],
      "text/plain": [
       "                 Sofina   Umicore       AMT   Tencent  Champion REIT  \\\n",
       "Sofina         1.000000  0.329696  0.213997  0.261001       0.137742   \n",
       "Umicore        0.329696  1.000000  0.151887  0.218630       0.107549   \n",
       "AMT            0.213997  0.151887  1.000000  0.088589       0.090902   \n",
       "Tencent        0.261001  0.218630  0.088589  1.000000       0.273426   \n",
       "Champion REIT  0.137742  0.107549  0.090902  0.273426       1.000000   \n",
       "Docusign       0.250339  0.194467  0.124658  0.133584       0.050591   \n",
       "Link REIT      0.081365  0.084760  0.056208  0.295657       0.387628   \n",
       "\n",
       "               Docusign  Link REIT  \n",
       "Sofina         0.250339   0.081365  \n",
       "Umicore        0.194467   0.084760  \n",
       "AMT            0.124658   0.056208  \n",
       "Tencent        0.133584   0.295657  \n",
       "Champion REIT  0.050591   0.387628  \n",
       "Docusign       1.000000   0.055062  \n",
       "Link REIT      0.055062   1.000000  "
      ]
     },
     "execution_count": 15,
     "metadata": {},
     "output_type": "execute_result"
    }
   ],
   "source": [
    "eq_corr_matrix = eq_returns.corr()\n",
    "eq_corr_matrix"
   ]
  },
  {
   "cell_type": "code",
   "execution_count": 16,
   "metadata": {},
   "outputs": [
    {
     "data": {
      "image/png": "[encoded data removed]",
      "text/plain": [
       "<Figure size 432x288 with 2 Axes>"
      ]
     },
     "metadata": {
      "needs_background": "light"
     },
     "output_type": "display_data"
    }
   ],
   "source": [
    "eq_heat_map_corr = sb.heatmap(eq_corr_matrix, annot=True, cmap=\"YlGnBu\")\n",
    "plt.xlabel(\"Correlation Matrix of Stock Sub-Portfolio\")\n",
    "plt.ylabel(\"Ticker\")\n",
    "plt.show()"
   ]
  },
  {
   "cell_type": "code",
   "execution_count": 17,
   "metadata": {},
   "outputs": [
    {
     "data": {
      "text/html": [
       "<div>\n",
       "<style scoped>\n",
       "    .dataframe tbody tr th:only-of-type {\n",
       "        vertical-align: middle;\n",
       "    }\n",
       "\n",
       "    .dataframe tbody tr th {\n",
       "        vertical-align: top;\n",
       "    }\n",
       "\n",
       "    .dataframe thead th {\n",
       "        text-align: right;\n",
       "    }\n",
       "</style>\n",
       "<table border=\"1\" class=\"dataframe\">\n",
       "  <thead>\n",
       "    <tr style=\"text-align: right;\">\n",
       "      <th></th>\n",
       "      <th>Sofina</th>\n",
       "      <th>Umicore</th>\n",
       "      <th>AMT</th>\n",
       "      <th>Tencent</th>\n",
       "      <th>Champion REIT</th>\n",
       "      <th>Docusign</th>\n",
       "      <th>Link REIT</th>\n",
       "    </tr>\n",
       "  </thead>\n",
       "  <tbody>\n",
       "    <tr>\n",
       "      <th>Sofina</th>\n",
       "      <td>0.036827</td>\n",
       "      <td>0.020453</td>\n",
       "      <td>0.010432</td>\n",
       "      <td>0.014799</td>\n",
       "      <td>0.005875</td>\n",
       "      <td>0.032040</td>\n",
       "      <td>0.003242</td>\n",
       "    </tr>\n",
       "    <tr>\n",
       "      <th>Umicore</th>\n",
       "      <td>0.020453</td>\n",
       "      <td>0.104505</td>\n",
       "      <td>0.012551</td>\n",
       "      <td>0.021001</td>\n",
       "      <td>0.007771</td>\n",
       "      <td>0.041100</td>\n",
       "      <td>0.005722</td>\n",
       "    </tr>\n",
       "    <tr>\n",
       "      <th>AMT</th>\n",
       "      <td>0.010432</td>\n",
       "      <td>0.012551</td>\n",
       "      <td>0.063784</td>\n",
       "      <td>0.006719</td>\n",
       "      <td>0.005148</td>\n",
       "      <td>0.020584</td>\n",
       "      <td>0.003003</td>\n",
       "    </tr>\n",
       "    <tr>\n",
       "      <th>Tencent</th>\n",
       "      <td>0.014799</td>\n",
       "      <td>0.021001</td>\n",
       "      <td>0.006719</td>\n",
       "      <td>0.087375</td>\n",
       "      <td>0.017971</td>\n",
       "      <td>0.022497</td>\n",
       "      <td>0.018155</td>\n",
       "    </tr>\n",
       "    <tr>\n",
       "      <th>Champion REIT</th>\n",
       "      <td>0.005875</td>\n",
       "      <td>0.007771</td>\n",
       "      <td>0.005148</td>\n",
       "      <td>0.017971</td>\n",
       "      <td>0.049440</td>\n",
       "      <td>0.005894</td>\n",
       "      <td>0.017905</td>\n",
       "    </tr>\n",
       "    <tr>\n",
       "      <th>Docusign</th>\n",
       "      <td>0.032040</td>\n",
       "      <td>0.041100</td>\n",
       "      <td>0.020584</td>\n",
       "      <td>0.022497</td>\n",
       "      <td>0.005894</td>\n",
       "      <td>0.267179</td>\n",
       "      <td>0.006799</td>\n",
       "    </tr>\n",
       "    <tr>\n",
       "      <th>Link REIT</th>\n",
       "      <td>0.003242</td>\n",
       "      <td>0.005722</td>\n",
       "      <td>0.003003</td>\n",
       "      <td>0.018155</td>\n",
       "      <td>0.017905</td>\n",
       "      <td>0.006799</td>\n",
       "      <td>0.043155</td>\n",
       "    </tr>\n",
       "  </tbody>\n",
       "</table>\n",
       "</div>"
      ],
      "text/plain": [
       "                 Sofina   Umicore       AMT   Tencent  Champion REIT  \\\n",
       "Sofina         0.036827  0.020453  0.010432  0.014799       0.005875   \n",
       "Umicore        0.020453  0.104505  0.012551  0.021001       0.007771   \n",
       "AMT            0.010432  0.012551  0.063784  0.006719       0.005148   \n",
       "Tencent        0.014799  0.021001  0.006719  0.087375       0.017971   \n",
       "Champion REIT  0.005875  0.007771  0.005148  0.017971       0.049440   \n",
       "Docusign       0.032040  0.041100  0.020584  0.022497       0.005894   \n",
       "Link REIT      0.003242  0.005722  0.003003  0.018155       0.017905   \n",
       "\n",
       "               Docusign  Link REIT  \n",
       "Sofina         0.032040   0.003242  \n",
       "Umicore        0.041100   0.005722  \n",
       "AMT            0.020584   0.003003  \n",
       "Tencent        0.022497   0.018155  \n",
       "Champion REIT  0.005894   0.017905  \n",
       "Docusign       0.267179   0.006799  \n",
       "Link REIT      0.006799   0.043155  "
      ]
     },
     "execution_count": 17,
     "metadata": {},
     "output_type": "execute_result"
    }
   ],
   "source": [
    "eq_cov_matrix_a = eq_returns.cov() *250\n",
    "eq_cov_matrix_a"
   ]
  },
  {
   "cell_type": "code",
   "execution_count": 18,
   "metadata": {
    "scrolled": true
   },
   "outputs": [
    {
     "data": {
      "image/png": "[encoded data removed]",
      "text/plain": [
       "<Figure size 432x288 with 2 Axes>"
      ]
     },
     "metadata": {
      "needs_background": "light"
     },
     "output_type": "display_data"
    }
   ],
   "source": [
    "eq_heat_map_cov = sb.heatmap(eq_cov_matrix_a, annot=True, cmap=\"YlGnBu\")\n",
    "plt.xlabel(\"Covariance Matrix of Stock Sub-Portfolio\")\n",
    "plt.ylabel(\"Ticker\")\n",
    "plt.show()"
   ]
  },
  {
   "cell_type": "markdown",
   "metadata": {},
   "source": [
    "## Risk Parity Portfolio"
   ]
  },
  {
   "cell_type": "code",
   "execution_count": 19,
   "metadata": {},
   "outputs": [],
   "source": [
    "# Define annualized volatility for the whole portfolio\n",
    "rpp_vol = 0.1"
   ]
  },
  {
   "cell_type": "code",
   "execution_count": 20,
   "metadata": {},
   "outputs": [
    {
     "name": "stdout",
     "output_type": "stream",
     "text": [
      "7\n"
     ]
    }
   ],
   "source": [
    "# Calculate the no. of securities in your portfolio\n",
    "numstocks = len(eq_price.columns)\n",
    "print(numstocks)"
   ]
  },
  {
   "cell_type": "code",
   "execution_count": 21,
   "metadata": {},
   "outputs": [
    {
     "data": {
      "text/plain": [
       "0.014285714285714287"
      ]
     },
     "execution_count": 21,
     "metadata": {},
     "output_type": "execute_result"
    }
   ],
   "source": [
    "# Depending how many securities you put in a portfolio, calculate the risk budget per security \n",
    "rpp_rb = rpp_vol/numstocks\n",
    "rpp_rb"
   ]
  },
  {
   "cell_type": "code",
   "execution_count": 22,
   "metadata": {},
   "outputs": [
    {
     "data": {
      "text/html": [
       "<div>\n",
       "<style scoped>\n",
       "    .dataframe tbody tr th:only-of-type {\n",
       "        vertical-align: middle;\n",
       "    }\n",
       "\n",
       "    .dataframe tbody tr th {\n",
       "        vertical-align: top;\n",
       "    }\n",
       "\n",
       "    .dataframe thead th {\n",
       "        text-align: right;\n",
       "    }\n",
       "</style>\n",
       "<table border=\"1\" class=\"dataframe\">\n",
       "  <thead>\n",
       "    <tr style=\"text-align: right;\">\n",
       "      <th></th>\n",
       "      <th>A_Eq_Vol</th>\n",
       "    </tr>\n",
       "  </thead>\n",
       "  <tbody>\n",
       "    <tr>\n",
       "      <th>Sofina</th>\n",
       "      <td>0.191903</td>\n",
       "    </tr>\n",
       "    <tr>\n",
       "      <th>Umicore</th>\n",
       "      <td>0.323273</td>\n",
       "    </tr>\n",
       "    <tr>\n",
       "      <th>AMT</th>\n",
       "      <td>0.252554</td>\n",
       "    </tr>\n",
       "    <tr>\n",
       "      <th>Tencent</th>\n",
       "      <td>0.295593</td>\n",
       "    </tr>\n",
       "    <tr>\n",
       "      <th>Champion REIT</th>\n",
       "      <td>0.222351</td>\n",
       "    </tr>\n",
       "    <tr>\n",
       "      <th>Docusign</th>\n",
       "      <td>0.516894</td>\n",
       "    </tr>\n",
       "    <tr>\n",
       "      <th>Link REIT</th>\n",
       "      <td>0.207739</td>\n",
       "    </tr>\n",
       "  </tbody>\n",
       "</table>\n",
       "</div>"
      ],
      "text/plain": [
       "               A_Eq_Vol\n",
       "Sofina         0.191903\n",
       "Umicore        0.323273\n",
       "AMT            0.252554\n",
       "Tencent        0.295593\n",
       "Champion REIT  0.222351\n",
       "Docusign       0.516894\n",
       "Link REIT      0.207739"
      ]
     },
     "execution_count": 22,
     "metadata": {},
     "output_type": "execute_result"
    }
   ],
   "source": [
    "# Calculate the volatility of each security (Copy from Risk Metrics Section)\n",
    "annual_eq_volatility"
   ]
  },
  {
   "cell_type": "code",
   "execution_count": 23,
   "metadata": {},
   "outputs": [
    {
     "data": {
      "text/html": [
       "<div>\n",
       "<style scoped>\n",
       "    .dataframe tbody tr th:only-of-type {\n",
       "        vertical-align: middle;\n",
       "    }\n",
       "\n",
       "    .dataframe tbody tr th {\n",
       "        vertical-align: top;\n",
       "    }\n",
       "\n",
       "    .dataframe thead th {\n",
       "        text-align: right;\n",
       "    }\n",
       "</style>\n",
       "<table border=\"1\" class=\"dataframe\">\n",
       "  <thead>\n",
       "    <tr style=\"text-align: right;\">\n",
       "      <th></th>\n",
       "      <th>Port_w</th>\n",
       "    </tr>\n",
       "  </thead>\n",
       "  <tbody>\n",
       "    <tr>\n",
       "      <th>Sofina</th>\n",
       "      <td>0.074442</td>\n",
       "    </tr>\n",
       "    <tr>\n",
       "      <th>Umicore</th>\n",
       "      <td>0.044191</td>\n",
       "    </tr>\n",
       "    <tr>\n",
       "      <th>AMT</th>\n",
       "      <td>0.056565</td>\n",
       "    </tr>\n",
       "    <tr>\n",
       "      <th>Tencent</th>\n",
       "      <td>0.048329</td>\n",
       "    </tr>\n",
       "    <tr>\n",
       "      <th>Champion REIT</th>\n",
       "      <td>0.064249</td>\n",
       "    </tr>\n",
       "    <tr>\n",
       "      <th>Docusign</th>\n",
       "      <td>0.027638</td>\n",
       "    </tr>\n",
       "    <tr>\n",
       "      <th>Link REIT</th>\n",
       "      <td>0.068768</td>\n",
       "    </tr>\n",
       "  </tbody>\n",
       "</table>\n",
       "</div>"
      ],
      "text/plain": [
       "                 Port_w\n",
       "Sofina         0.074442\n",
       "Umicore        0.044191\n",
       "AMT            0.056565\n",
       "Tencent        0.048329\n",
       "Champion REIT  0.064249\n",
       "Docusign       0.027638\n",
       "Link REIT      0.068768"
      ]
     },
     "execution_count": 23,
     "metadata": {},
     "output_type": "execute_result"
    }
   ],
   "source": [
    "# Calculate portfolio weights (risk budget per security / annual_eq_volatility)\n",
    "rpp_rb_w = rpp_rb / annual_eq_volatility\n",
    "rpp_rb_w.columns = ['Port_w']\n",
    "rpp_rb_w"
   ]
  },
  {
   "cell_type": "code",
   "execution_count": 24,
   "metadata": {},
   "outputs": [
    {
     "data": {
      "text/plain": [
       "Port_w    2.60294\n",
       "dtype: float64"
      ]
     },
     "execution_count": 24,
     "metadata": {},
     "output_type": "execute_result"
    }
   ],
   "source": [
    "# Calculate the Normalizing Factor \n",
    "rpp_norm_f = np.repeat(1/rpp_rb_w.sum(),1)\n",
    "rpp_norm_f"
   ]
  },
  {
   "cell_type": "code",
   "execution_count": 25,
   "metadata": {},
   "outputs": [
    {
     "data": {
      "text/html": [
       "<div>\n",
       "<style scoped>\n",
       "    .dataframe tbody tr th:only-of-type {\n",
       "        vertical-align: middle;\n",
       "    }\n",
       "\n",
       "    .dataframe tbody tr th {\n",
       "        vertical-align: top;\n",
       "    }\n",
       "\n",
       "    .dataframe thead th {\n",
       "        text-align: right;\n",
       "    }\n",
       "</style>\n",
       "<table border=\"1\" class=\"dataframe\">\n",
       "  <thead>\n",
       "    <tr style=\"text-align: right;\">\n",
       "      <th></th>\n",
       "      <th>F_Port_w</th>\n",
       "    </tr>\n",
       "  </thead>\n",
       "  <tbody>\n",
       "    <tr>\n",
       "      <th>Sofina</th>\n",
       "      <td>0.193769</td>\n",
       "    </tr>\n",
       "    <tr>\n",
       "      <th>Umicore</th>\n",
       "      <td>0.115026</td>\n",
       "    </tr>\n",
       "    <tr>\n",
       "      <th>AMT</th>\n",
       "      <td>0.147235</td>\n",
       "    </tr>\n",
       "    <tr>\n",
       "      <th>Tencent</th>\n",
       "      <td>0.125798</td>\n",
       "    </tr>\n",
       "    <tr>\n",
       "      <th>Champion REIT</th>\n",
       "      <td>0.167235</td>\n",
       "    </tr>\n",
       "    <tr>\n",
       "      <th>Docusign</th>\n",
       "      <td>0.071939</td>\n",
       "    </tr>\n",
       "    <tr>\n",
       "      <th>Link REIT</th>\n",
       "      <td>0.178998</td>\n",
       "    </tr>\n",
       "  </tbody>\n",
       "</table>\n",
       "</div>"
      ],
      "text/plain": [
       "               F_Port_w\n",
       "Sofina         0.193769\n",
       "Umicore        0.115026\n",
       "AMT            0.147235\n",
       "Tencent        0.125798\n",
       "Champion REIT  0.167235\n",
       "Docusign       0.071939\n",
       "Link REIT      0.178998"
      ]
     },
     "execution_count": 25,
     "metadata": {},
     "output_type": "execute_result"
    }
   ],
   "source": [
    "# Recalculate the weight\n",
    "rpp_rb_w_final = rpp_rb_w * rpp_norm_f\n",
    "rpp_rb_w_final.columns = ['F_Port_w']\n",
    "rpp_rb_w_final"
   ]
  },
  {
   "cell_type": "code",
   "execution_count": 26,
   "metadata": {},
   "outputs": [
    {
     "data": {
      "text/plain": [
       "F_Port_w    True\n",
       "dtype: bool"
      ]
     },
     "execution_count": 26,
     "metadata": {},
     "output_type": "execute_result"
    }
   ],
   "source": [
    "# Make sure all the weights add up to 1\n",
    "round(rpp_rb_w_final.sum(),9)==1"
   ]
  },
  {
   "cell_type": "code",
   "execution_count": 27,
   "metadata": {},
   "outputs": [
    {
     "name": "stderr",
     "output_type": "stream",
     "text": [
      "C:\\Users\\chris\\anaconda3\\lib\\site-packages\\ipykernel_launcher.py:9: MatplotlibDeprecationWarning:\n",
      "\n",
      "Non-1D inputs to pie() are currently squeeze()d, but this behavior is deprecated since 3.1 and will be removed in 3.3; pass a 1D array instead.\n",
      "\n"
     ]
    },
    {
     "data": {
      "image/png": "[encoded data removed]",
      "text/plain": [
       "<Figure size 720x360 with 1 Axes>"
      ]
     },
     "metadata": {},
     "output_type": "display_data"
    }
   ],
   "source": [
    "# Visualize the portfolio weights\n",
    "plt.figure(figsize=(10,5))\n",
    "\n",
    "labels = t_label\n",
    "values = np.array(rpp_rb_w_final)\n",
    "explode = [0.1,0,0.0,0,0,0,0]\n",
    "\n",
    "plt.title(\"Risk Parity Portfolio Weights\", bbox={'facecolor':'0.8', 'pad':5})\n",
    "plt.pie(values, labels=labels, autopct=\"%.1f%%\", explode=explode)\n",
    "plt.show()"
   ]
  },
  {
   "cell_type": "code",
   "execution_count": 28,
   "metadata": {},
   "outputs": [
    {
     "data": {
      "text/html": [
       "<div>\n",
       "<style scoped>\n",
       "    .dataframe tbody tr th:only-of-type {\n",
       "        vertical-align: middle;\n",
       "    }\n",
       "\n",
       "    .dataframe tbody tr th {\n",
       "        vertical-align: top;\n",
       "    }\n",
       "\n",
       "    .dataframe thead th {\n",
       "        text-align: right;\n",
       "    }\n",
       "</style>\n",
       "<table border=\"1\" class=\"dataframe\">\n",
       "  <thead>\n",
       "    <tr style=\"text-align: right;\">\n",
       "      <th></th>\n",
       "      <th>Risk Contribution</th>\n",
       "    </tr>\n",
       "  </thead>\n",
       "  <tbody>\n",
       "    <tr>\n",
       "      <th>Sofina</th>\n",
       "      <td>0.014286</td>\n",
       "    </tr>\n",
       "    <tr>\n",
       "      <th>Umicore</th>\n",
       "      <td>0.014286</td>\n",
       "    </tr>\n",
       "    <tr>\n",
       "      <th>AMT</th>\n",
       "      <td>0.014286</td>\n",
       "    </tr>\n",
       "    <tr>\n",
       "      <th>Tencent</th>\n",
       "      <td>0.014286</td>\n",
       "    </tr>\n",
       "    <tr>\n",
       "      <th>Champion REIT</th>\n",
       "      <td>0.014286</td>\n",
       "    </tr>\n",
       "    <tr>\n",
       "      <th>Docusign</th>\n",
       "      <td>0.014286</td>\n",
       "    </tr>\n",
       "    <tr>\n",
       "      <th>Link REIT</th>\n",
       "      <td>0.014286</td>\n",
       "    </tr>\n",
       "  </tbody>\n",
       "</table>\n",
       "</div>"
      ],
      "text/plain": [
       "               Risk Contribution\n",
       "Sofina                  0.014286\n",
       "Umicore                 0.014286\n",
       "AMT                     0.014286\n",
       "Tencent                 0.014286\n",
       "Champion REIT           0.014286\n",
       "Docusign                0.014286\n",
       "Link REIT               0.014286"
      ]
     },
     "execution_count": 28,
     "metadata": {},
     "output_type": "execute_result"
    }
   ],
   "source": [
    "# Multiply the weight with individual volatilites to see if each security has the same risk budget\n",
    "rpp_check = pd.DataFrame({'Risk Contribution':rpp_rb_w['Port_w'] * annual_eq_volatility['A_Eq_Vol']})\n",
    "rpp_check"
   ]
  },
  {
   "cell_type": "code",
   "execution_count": 29,
   "metadata": {},
   "outputs": [
    {
     "data": {
      "text/plain": [
       "0.14184678754989136"
      ]
     },
     "execution_count": 29,
     "metadata": {},
     "output_type": "execute_result"
    }
   ],
   "source": [
    "# Calculate the annualized portfolio volatility, factoring into the correlation of each asset\n",
    "rpp_vol = np.sqrt(np.dot(rpp_rb_w_final['F_Port_w'].T,np.dot(eq_cov_matrix_a,rpp_rb_w_final['F_Port_w'])))\n",
    "rpp_vol"
   ]
  },
  {
   "cell_type": "code",
   "execution_count": 30,
   "metadata": {},
   "outputs": [
    {
     "data": {
      "text/html": [
       "<div>\n",
       "<style scoped>\n",
       "    .dataframe tbody tr th:only-of-type {\n",
       "        vertical-align: middle;\n",
       "    }\n",
       "\n",
       "    .dataframe tbody tr th {\n",
       "        vertical-align: top;\n",
       "    }\n",
       "\n",
       "    .dataframe thead th {\n",
       "        text-align: right;\n",
       "    }\n",
       "</style>\n",
       "<table border=\"1\" class=\"dataframe\">\n",
       "  <thead>\n",
       "    <tr style=\"text-align: right;\">\n",
       "      <th></th>\n",
       "      <th>F_Port_w * A_Eq_R</th>\n",
       "    </tr>\n",
       "  </thead>\n",
       "  <tbody>\n",
       "    <tr>\n",
       "      <th>Sofina</th>\n",
       "      <td>0.041404</td>\n",
       "    </tr>\n",
       "    <tr>\n",
       "      <th>Umicore</th>\n",
       "      <td>0.027883</td>\n",
       "    </tr>\n",
       "    <tr>\n",
       "      <th>AMT</th>\n",
       "      <td>0.027281</td>\n",
       "    </tr>\n",
       "    <tr>\n",
       "      <th>Tencent</th>\n",
       "      <td>0.042207</td>\n",
       "    </tr>\n",
       "    <tr>\n",
       "      <th>Champion REIT</th>\n",
       "      <td>0.011288</td>\n",
       "    </tr>\n",
       "    <tr>\n",
       "      <th>Docusign</th>\n",
       "      <td>0.061279</td>\n",
       "    </tr>\n",
       "    <tr>\n",
       "      <th>Link REIT</th>\n",
       "      <td>0.015975</td>\n",
       "    </tr>\n",
       "  </tbody>\n",
       "</table>\n",
       "</div>"
      ],
      "text/plain": [
       "               F_Port_w * A_Eq_R\n",
       "Sofina                  0.041404\n",
       "Umicore                 0.027883\n",
       "AMT                     0.027281\n",
       "Tencent                 0.042207\n",
       "Champion REIT           0.011288\n",
       "Docusign                0.061279\n",
       "Link REIT               0.015975"
      ]
     },
     "execution_count": 30,
     "metadata": {},
     "output_type": "execute_result"
    }
   ],
   "source": [
    "# Calculate the annualized expected return of the securities\n",
    "rpp_ret =  pd.DataFrame({'F_Port_w * A_Eq_R':rpp_rb_w_final['F_Port_w'] * annual_eq_returns['A_Eq_R']})\n",
    "rpp_ret"
   ]
  },
  {
   "cell_type": "code",
   "execution_count": 31,
   "metadata": {},
   "outputs": [
    {
     "data": {
      "text/plain": [
       "F_Port_w * A_Eq_R    0.227318\n",
       "dtype: float64"
      ]
     },
     "execution_count": 31,
     "metadata": {},
     "output_type": "execute_result"
    }
   ],
   "source": [
    "# Calculate the annualized expected return of the portfolio\n",
    "rpp_ret.sum()"
   ]
  },
  {
   "cell_type": "code",
   "execution_count": 32,
   "metadata": {},
   "outputs": [
    {
     "data": {
      "text/html": [
       "<div>\n",
       "<style scoped>\n",
       "    .dataframe tbody tr th:only-of-type {\n",
       "        vertical-align: middle;\n",
       "    }\n",
       "\n",
       "    .dataframe tbody tr th {\n",
       "        vertical-align: top;\n",
       "    }\n",
       "\n",
       "    .dataframe thead th {\n",
       "        text-align: right;\n",
       "    }\n",
       "</style>\n",
       "<table border=\"1\" class=\"dataframe\">\n",
       "  <thead>\n",
       "    <tr style=\"text-align: right;\">\n",
       "      <th></th>\n",
       "      <th>Risk Contribution</th>\n",
       "      <th>A_Eq_Vol</th>\n",
       "      <th>Port_w</th>\n",
       "      <th>F_Port_w</th>\n",
       "      <th>A_Eq_R</th>\n",
       "      <th>F_Port_w * A_Eq_R</th>\n",
       "    </tr>\n",
       "  </thead>\n",
       "  <tbody>\n",
       "    <tr>\n",
       "      <th>Sofina</th>\n",
       "      <td>0.014286</td>\n",
       "      <td>0.191903</td>\n",
       "      <td>0.074442</td>\n",
       "      <td>0.193769</td>\n",
       "      <td>0.213679</td>\n",
       "      <td>0.041404</td>\n",
       "    </tr>\n",
       "    <tr>\n",
       "      <th>Umicore</th>\n",
       "      <td>0.014286</td>\n",
       "      <td>0.323273</td>\n",
       "      <td>0.044191</td>\n",
       "      <td>0.115026</td>\n",
       "      <td>0.242408</td>\n",
       "      <td>0.027883</td>\n",
       "    </tr>\n",
       "    <tr>\n",
       "      <th>AMT</th>\n",
       "      <td>0.014286</td>\n",
       "      <td>0.252554</td>\n",
       "      <td>0.056565</td>\n",
       "      <td>0.147235</td>\n",
       "      <td>0.185290</td>\n",
       "      <td>0.027281</td>\n",
       "    </tr>\n",
       "    <tr>\n",
       "      <th>Tencent</th>\n",
       "      <td>0.014286</td>\n",
       "      <td>0.295593</td>\n",
       "      <td>0.048329</td>\n",
       "      <td>0.125798</td>\n",
       "      <td>0.335513</td>\n",
       "      <td>0.042207</td>\n",
       "    </tr>\n",
       "    <tr>\n",
       "      <th>Champion REIT</th>\n",
       "      <td>0.014286</td>\n",
       "      <td>0.222351</td>\n",
       "      <td>0.064249</td>\n",
       "      <td>0.167235</td>\n",
       "      <td>0.067500</td>\n",
       "      <td>0.011288</td>\n",
       "    </tr>\n",
       "    <tr>\n",
       "      <th>Docusign</th>\n",
       "      <td>0.014286</td>\n",
       "      <td>0.516894</td>\n",
       "      <td>0.027638</td>\n",
       "      <td>0.071939</td>\n",
       "      <td>0.851816</td>\n",
       "      <td>0.061279</td>\n",
       "    </tr>\n",
       "    <tr>\n",
       "      <th>Link REIT</th>\n",
       "      <td>0.014286</td>\n",
       "      <td>0.207739</td>\n",
       "      <td>0.068768</td>\n",
       "      <td>0.178998</td>\n",
       "      <td>0.089249</td>\n",
       "      <td>0.015975</td>\n",
       "    </tr>\n",
       "  </tbody>\n",
       "</table>\n",
       "</div>"
      ],
      "text/plain": [
       "               Risk Contribution  A_Eq_Vol    Port_w  F_Port_w    A_Eq_R  \\\n",
       "Sofina                  0.014286  0.191903  0.074442  0.193769  0.213679   \n",
       "Umicore                 0.014286  0.323273  0.044191  0.115026  0.242408   \n",
       "AMT                     0.014286  0.252554  0.056565  0.147235  0.185290   \n",
       "Tencent                 0.014286  0.295593  0.048329  0.125798  0.335513   \n",
       "Champion REIT           0.014286  0.222351  0.064249  0.167235  0.067500   \n",
       "Docusign                0.014286  0.516894  0.027638  0.071939  0.851816   \n",
       "Link REIT               0.014286  0.207739  0.068768  0.178998  0.089249   \n",
       "\n",
       "               F_Port_w * A_Eq_R  \n",
       "Sofina                  0.041404  \n",
       "Umicore                 0.027883  \n",
       "AMT                     0.027281  \n",
       "Tencent                 0.042207  \n",
       "Champion REIT           0.011288  \n",
       "Docusign                0.061279  \n",
       "Link REIT               0.015975  "
      ]
     },
     "execution_count": 32,
     "metadata": {},
     "output_type": "execute_result"
    }
   ],
   "source": [
    "# Risk Parity Portfolio Metrics Summary\n",
    "pd.concat([rpp_check,annual_eq_volatility,rpp_rb_w,rpp_rb_w_final,annual_eq_returns,rpp_ret],axis=1)"
   ]
  },
  {
   "cell_type": "markdown",
   "metadata": {},
   "source": [
    "To understand the risk parity strategy, we begin with an equally weighted portfolio. Starting from the first column on the left, we see that the allocation to each security is 1/7, as there are 7 securities in our portfolio. The second column has listed the respective volatility of each stock, by measuring the standard deviation of the annualized daily stock returns over 250 trading days."
   ]
  },
  {
   "cell_type": "markdown",
   "metadata": {},
   "source": [
    "The 'Port_w' column is the weight allocation adjusted by the repsective volatilities, the lower the value in column 'A_Eq_Vol',the higer the value in 'Port_w\" column. However, the sum of this column does not add up to 1. Thais is why the 'F_Port_w' exists. We multiply the 'Port_w' column with a normalizing factor to generate the values in the 'F_Port_w' column. "
   ]
  },
  {
   "cell_type": "markdown",
   "metadata": {},
   "source": [
    "The right most column is just a product between the 'F_Port_w' column and the 'A_Eq_R', for which the latter is the annualized daily returns of each stock. "
   ]
  },
  {
   "cell_type": "markdown",
   "metadata": {},
   "source": [
    "Performance Evaluation (Return Analysis)"
   ]
  },
  {
   "cell_type": "code",
   "execution_count": 33,
   "metadata": {},
   "outputs": [
    {
     "data": {
      "text/html": [
       "<div>\n",
       "<style scoped>\n",
       "    .dataframe tbody tr th:only-of-type {\n",
       "        vertical-align: middle;\n",
       "    }\n",
       "\n",
       "    .dataframe tbody tr th {\n",
       "        vertical-align: top;\n",
       "    }\n",
       "\n",
       "    .dataframe thead th {\n",
       "        text-align: right;\n",
       "    }\n",
       "</style>\n",
       "<table border=\"1\" class=\"dataframe\">\n",
       "  <thead>\n",
       "    <tr style=\"text-align: right;\">\n",
       "      <th></th>\n",
       "      <th>Risk Parity</th>\n",
       "      <th>S&amp;P 500</th>\n",
       "      <th>DAX</th>\n",
       "      <th>CAC</th>\n",
       "    </tr>\n",
       "  </thead>\n",
       "  <tbody>\n",
       "    <tr>\n",
       "      <th>Annualized Return</th>\n",
       "      <td>0.227318</td>\n",
       "      <td>0.100093</td>\n",
       "      <td>0.060729</td>\n",
       "      <td>0.053876</td>\n",
       "    </tr>\n",
       "  </tbody>\n",
       "</table>\n",
       "</div>"
      ],
      "text/plain": [
       "                   Risk Parity   S&P 500       DAX       CAC\n",
       "Annualized Return     0.227318  0.100093  0.060729  0.053876"
      ]
     },
     "execution_count": 33,
     "metadata": {},
     "output_type": "execute_result"
    }
   ],
   "source": [
    "eq_bench_port = pd.DataFrame({'Risk Parity':rpp_ret['F_Port_w * A_Eq_R'].sum(), 'S&P 500':avg_indx_returns.T['S&P 500'], \\\n",
    "                              'DAX':avg_indx_returns.T['DAX'], 'CAC':avg_indx_returns.T['CAC 40'] })\n",
    "eq_bench_port.rename(index={'A_Bench_R':'Annualized Return'}, inplace = True)\n",
    "eq_bench_port"
   ]
  },
  {
   "cell_type": "code",
   "execution_count": 34,
   "metadata": {},
   "outputs": [
    {
     "data": {
      "text/html": [
       "<div>\n",
       "<style scoped>\n",
       "    .dataframe tbody tr th:only-of-type {\n",
       "        vertical-align: middle;\n",
       "    }\n",
       "\n",
       "    .dataframe tbody tr th {\n",
       "        vertical-align: top;\n",
       "    }\n",
       "\n",
       "    .dataframe thead th {\n",
       "        text-align: right;\n",
       "    }\n",
       "</style>\n",
       "<table border=\"1\" class=\"dataframe\">\n",
       "  <thead>\n",
       "    <tr style=\"text-align: right;\">\n",
       "      <th></th>\n",
       "      <th>Risk Parity</th>\n",
       "      <th>S&amp;P 500</th>\n",
       "      <th>DAX</th>\n",
       "      <th>CAC</th>\n",
       "    </tr>\n",
       "  </thead>\n",
       "  <tbody>\n",
       "    <tr>\n",
       "      <th>Annualized Return</th>\n",
       "      <td>0.227318</td>\n",
       "      <td>0.100093</td>\n",
       "      <td>0.060729</td>\n",
       "      <td>0.053876</td>\n",
       "    </tr>\n",
       "    <tr>\n",
       "      <th>Delta Benchmark</th>\n",
       "      <td>0.000000</td>\n",
       "      <td>0.127225</td>\n",
       "      <td>0.166589</td>\n",
       "      <td>0.173442</td>\n",
       "    </tr>\n",
       "  </tbody>\n",
       "</table>\n",
       "</div>"
      ],
      "text/plain": [
       "                   Risk Parity   S&P 500       DAX       CAC\n",
       "Annualized Return     0.227318  0.100093  0.060729  0.053876\n",
       "Delta Benchmark       0.000000  0.127225  0.166589  0.173442"
      ]
     },
     "execution_count": 34,
     "metadata": {},
     "output_type": "execute_result"
    }
   ],
   "source": [
    "delta = pd.DataFrame({'Risk Parity':eq_bench_port['Risk Parity']-eq_bench_port['Risk Parity'],\\\n",
    "                      'S&P 500':eq_bench_port['Risk Parity']-eq_bench_port['S&P 500'], \\\n",
    "                     'DAX':eq_bench_port['Risk Parity']-eq_bench_port['DAX'], \\\n",
    "                      'CAC':eq_bench_port['Risk Parity']-eq_bench_port['CAC']})\n",
    "\n",
    "eq_bench_port_delta = eq_bench_port.append(delta,ignore_index = True)\n",
    "eq_bench_port_delta.rename(index={0:'Annualized Return', 1:'Delta Benchmark'}, inplace = True)\n",
    "eq_bench_port_delta"
   ]
  },
  {
   "cell_type": "markdown",
   "metadata": {},
   "source": [
    "Performance Evaluation (Risk Analysis)"
   ]
  },
  {
   "cell_type": "code",
   "execution_count": 35,
   "metadata": {},
   "outputs": [
    {
     "data": {
      "text/html": [
       "<div>\n",
       "<style scoped>\n",
       "    .dataframe tbody tr th:only-of-type {\n",
       "        vertical-align: middle;\n",
       "    }\n",
       "\n",
       "    .dataframe tbody tr th {\n",
       "        vertical-align: top;\n",
       "    }\n",
       "\n",
       "    .dataframe thead th {\n",
       "        text-align: right;\n",
       "    }\n",
       "</style>\n",
       "<table border=\"1\" class=\"dataframe\">\n",
       "  <thead>\n",
       "    <tr style=\"text-align: right;\">\n",
       "      <th></th>\n",
       "      <th>Risk Parity</th>\n",
       "      <th>S&amp;P 500</th>\n",
       "      <th>DAX</th>\n",
       "      <th>CAC</th>\n",
       "    </tr>\n",
       "  </thead>\n",
       "  <tbody>\n",
       "    <tr>\n",
       "      <th>Annualized Volatility</th>\n",
       "      <td>0.141847</td>\n",
       "      <td>0.186993</td>\n",
       "      <td>0.210327</td>\n",
       "      <td>0.203467</td>\n",
       "    </tr>\n",
       "  </tbody>\n",
       "</table>\n",
       "</div>"
      ],
      "text/plain": [
       "                       Risk Parity   S&P 500       DAX       CAC\n",
       "Annualized Volatility     0.141847  0.186993  0.210327  0.203467"
      ]
     },
     "execution_count": 35,
     "metadata": {},
     "output_type": "execute_result"
    }
   ],
   "source": [
    "eq_risk_bench = pd.DataFrame({'Risk Parity':rpp_vol, 'S&P 500':avg_indx_vol.T['S&P 500'], \\\n",
    "                              'DAX':avg_indx_vol.T['DAX'], 'CAC':avg_indx_vol.T['CAC 40'] })\n",
    "eq_risk_bench.rename(index={'A_Bench_Vol':'Annualized Volatility'}, inplace = True)\n",
    "eq_risk_bench"
   ]
  },
  {
   "cell_type": "markdown",
   "metadata": {},
   "source": [
    "Performance Evaluation (Return per unit risk taken)"
   ]
  },
  {
   "cell_type": "code",
   "execution_count": 36,
   "metadata": {},
   "outputs": [
    {
     "data": {
      "text/html": [
       "<div>\n",
       "<style scoped>\n",
       "    .dataframe tbody tr th:only-of-type {\n",
       "        vertical-align: middle;\n",
       "    }\n",
       "\n",
       "    .dataframe tbody tr th {\n",
       "        vertical-align: top;\n",
       "    }\n",
       "\n",
       "    .dataframe thead th {\n",
       "        text-align: right;\n",
       "    }\n",
       "</style>\n",
       "<table border=\"1\" class=\"dataframe\">\n",
       "  <thead>\n",
       "    <tr style=\"text-align: right;\">\n",
       "      <th></th>\n",
       "      <th>10 YR</th>\n",
       "    </tr>\n",
       "    <tr>\n",
       "      <th>Date</th>\n",
       "      <th></th>\n",
       "    </tr>\n",
       "  </thead>\n",
       "  <tbody>\n",
       "    <tr>\n",
       "      <th>2020-07-27</th>\n",
       "      <td>0.62</td>\n",
       "    </tr>\n",
       "    <tr>\n",
       "      <th>2020-07-28</th>\n",
       "      <td>0.59</td>\n",
       "    </tr>\n",
       "    <tr>\n",
       "      <th>2020-07-29</th>\n",
       "      <td>0.58</td>\n",
       "    </tr>\n",
       "    <tr>\n",
       "      <th>2020-07-30</th>\n",
       "      <td>0.55</td>\n",
       "    </tr>\n",
       "    <tr>\n",
       "      <th>2020-07-31</th>\n",
       "      <td>0.55</td>\n",
       "    </tr>\n",
       "  </tbody>\n",
       "</table>\n",
       "</div>"
      ],
      "text/plain": [
       "            10 YR\n",
       "Date             \n",
       "2020-07-27   0.62\n",
       "2020-07-28   0.59\n",
       "2020-07-29   0.58\n",
       "2020-07-30   0.55\n",
       "2020-07-31   0.55"
      ]
     },
     "execution_count": 36,
     "metadata": {},
     "output_type": "execute_result"
    }
   ],
   "source": [
    "# Obtain 10 Yr Treasury Yield to calculate the bond data using Quandl API\n",
    "quandl.ApiConfig.api_key = \"yoEsoBnNjeqBCG8b1zQo\"\n",
    "US_t_yield = pd.DataFrame(quandl.get(\"USTREASURY/YIELD\",start_date='2020-2-15')['10 YR'])\n",
    "US_t_yield.tail(5)"
   ]
  },
  {
   "cell_type": "code",
   "execution_count": 37,
   "metadata": {},
   "outputs": [
    {
     "data": {
      "text/plain": [
       "0.0055000000000000005"
      ]
     },
     "execution_count": 37,
     "metadata": {},
     "output_type": "execute_result"
    }
   ],
   "source": [
    "# We just want to use the latest bond yield (1% = 100bps)\n",
    "latest_yield = US_t_yield['10 YR'].iloc[-1]/100\n",
    "latest_yield"
   ]
  },
  {
   "cell_type": "code",
   "execution_count": 38,
   "metadata": {},
   "outputs": [
    {
     "data": {
      "text/html": [
       "<div>\n",
       "<style scoped>\n",
       "    .dataframe tbody tr th:only-of-type {\n",
       "        vertical-align: middle;\n",
       "    }\n",
       "\n",
       "    .dataframe tbody tr th {\n",
       "        vertical-align: top;\n",
       "    }\n",
       "\n",
       "    .dataframe thead th {\n",
       "        text-align: right;\n",
       "    }\n",
       "</style>\n",
       "<table border=\"1\" class=\"dataframe\">\n",
       "  <thead>\n",
       "    <tr style=\"text-align: right;\">\n",
       "      <th></th>\n",
       "      <th>Excess Return</th>\n",
       "    </tr>\n",
       "  </thead>\n",
       "  <tbody>\n",
       "    <tr>\n",
       "      <th>Risk Parity</th>\n",
       "      <td>0.221818</td>\n",
       "    </tr>\n",
       "    <tr>\n",
       "      <th>S&amp;P 500</th>\n",
       "      <td>0.094593</td>\n",
       "    </tr>\n",
       "    <tr>\n",
       "      <th>DAX</th>\n",
       "      <td>0.055229</td>\n",
       "    </tr>\n",
       "    <tr>\n",
       "      <th>CAC</th>\n",
       "      <td>0.048376</td>\n",
       "    </tr>\n",
       "  </tbody>\n",
       "</table>\n",
       "</div>"
      ],
      "text/plain": [
       "             Excess Return\n",
       "Risk Parity       0.221818\n",
       "S&P 500           0.094593\n",
       "DAX               0.055229\n",
       "CAC               0.048376"
      ]
     },
     "execution_count": 38,
     "metadata": {},
     "output_type": "execute_result"
    }
   ],
   "source": [
    "# Prepare the excess return for later calculation of Sharpe Ratio\n",
    "ex_ret = pd.DataFrame(eq_bench_port.loc['Annualized Return']-latest_yield)\n",
    "ex_ret.columns = ['Excess Return']\n",
    "ex_ret"
   ]
  },
  {
   "cell_type": "code",
   "execution_count": 39,
   "metadata": {},
   "outputs": [
    {
     "data": {
      "text/html": [
       "<div>\n",
       "<style scoped>\n",
       "    .dataframe tbody tr th:only-of-type {\n",
       "        vertical-align: middle;\n",
       "    }\n",
       "\n",
       "    .dataframe tbody tr th {\n",
       "        vertical-align: top;\n",
       "    }\n",
       "\n",
       "    .dataframe thead th {\n",
       "        text-align: right;\n",
       "    }\n",
       "</style>\n",
       "<table border=\"1\" class=\"dataframe\">\n",
       "  <thead>\n",
       "    <tr style=\"text-align: right;\">\n",
       "      <th></th>\n",
       "      <th>Sharpe Ratio</th>\n",
       "    </tr>\n",
       "  </thead>\n",
       "  <tbody>\n",
       "    <tr>\n",
       "      <th>Risk Parity</th>\n",
       "      <td>1.563785</td>\n",
       "    </tr>\n",
       "    <tr>\n",
       "      <th>S&amp;P 500</th>\n",
       "      <td>0.505866</td>\n",
       "    </tr>\n",
       "    <tr>\n",
       "      <th>DAX</th>\n",
       "      <td>0.262585</td>\n",
       "    </tr>\n",
       "    <tr>\n",
       "      <th>CAC</th>\n",
       "      <td>0.237758</td>\n",
       "    </tr>\n",
       "  </tbody>\n",
       "</table>\n",
       "</div>"
      ],
      "text/plain": [
       "             Sharpe Ratio\n",
       "Risk Parity      1.563785\n",
       "S&P 500          0.505866\n",
       "DAX              0.262585\n",
       "CAC              0.237758"
      ]
     },
     "execution_count": 39,
     "metadata": {},
     "output_type": "execute_result"
    }
   ],
   "source": [
    "# Calculate the Sharpe Ratio\n",
    "sh_ratio = pd.DataFrame({'Sharpe Ratio':ex_ret['Excess Return'].T/eq_risk_bench.loc['Annualized Volatility']})\n",
    "sh_ratio"
   ]
  },
  {
   "cell_type": "code",
   "execution_count": 40,
   "metadata": {},
   "outputs": [
    {
     "data": {
      "text/html": [
       "<div>\n",
       "<style scoped>\n",
       "    .dataframe tbody tr th:only-of-type {\n",
       "        vertical-align: middle;\n",
       "    }\n",
       "\n",
       "    .dataframe tbody tr th {\n",
       "        vertical-align: top;\n",
       "    }\n",
       "\n",
       "    .dataframe thead th {\n",
       "        text-align: right;\n",
       "    }\n",
       "</style>\n",
       "<table border=\"1\" class=\"dataframe\">\n",
       "  <thead>\n",
       "    <tr style=\"text-align: right;\">\n",
       "      <th></th>\n",
       "      <th>Risk Parity</th>\n",
       "      <th>S&amp;P 500</th>\n",
       "      <th>DAX</th>\n",
       "      <th>CAC</th>\n",
       "    </tr>\n",
       "  </thead>\n",
       "  <tbody>\n",
       "    <tr>\n",
       "      <th>Sharpe Ratio</th>\n",
       "      <td>1.563785</td>\n",
       "      <td>0.505866</td>\n",
       "      <td>0.262585</td>\n",
       "      <td>0.237758</td>\n",
       "    </tr>\n",
       "    <tr>\n",
       "      <th>Annualized Return</th>\n",
       "      <td>0.227318</td>\n",
       "      <td>0.100093</td>\n",
       "      <td>0.060729</td>\n",
       "      <td>0.053876</td>\n",
       "    </tr>\n",
       "    <tr>\n",
       "      <th>Delta Benchmark</th>\n",
       "      <td>0.000000</td>\n",
       "      <td>0.127225</td>\n",
       "      <td>0.166589</td>\n",
       "      <td>0.173442</td>\n",
       "    </tr>\n",
       "    <tr>\n",
       "      <th>Excess Return</th>\n",
       "      <td>0.221818</td>\n",
       "      <td>0.094593</td>\n",
       "      <td>0.055229</td>\n",
       "      <td>0.048376</td>\n",
       "    </tr>\n",
       "    <tr>\n",
       "      <th>Annualized Volatility</th>\n",
       "      <td>0.141847</td>\n",
       "      <td>0.186993</td>\n",
       "      <td>0.210327</td>\n",
       "      <td>0.203467</td>\n",
       "    </tr>\n",
       "  </tbody>\n",
       "</table>\n",
       "</div>"
      ],
      "text/plain": [
       "                       Risk Parity   S&P 500       DAX       CAC\n",
       "Sharpe Ratio              1.563785  0.505866  0.262585  0.237758\n",
       "Annualized Return         0.227318  0.100093  0.060729  0.053876\n",
       "Delta Benchmark           0.000000  0.127225  0.166589  0.173442\n",
       "Excess Return             0.221818  0.094593  0.055229  0.048376\n",
       "Annualized Volatility     0.141847  0.186993  0.210327  0.203467"
      ]
     },
     "execution_count": 40,
     "metadata": {},
     "output_type": "execute_result"
    }
   ],
   "source": [
    "# Summarize all the metrics in 1 table\n",
    "sh_alys_1 = sh_ratio.T.append(eq_bench_port_delta)\n",
    "sh_alys_2 = sh_alys_1.append(ex_ret.T)\n",
    "sh_alys = sh_alys_2.append(eq_risk_bench)\n",
    "sh_alys"
   ]
  },
  {
   "cell_type": "code",
   "execution_count": 41,
   "metadata": {},
   "outputs": [
    {
     "data": {
      "image/png": "[encoded data removed]",
      "text/plain": [
       "<Figure size 432x288 with 2 Axes>"
      ]
     },
     "metadata": {
      "needs_background": "light"
     },
     "output_type": "display_data"
    }
   ],
   "source": [
    "# Correlation matrix\n",
    "eq_heat_map_corr = sb.heatmap(eq_corr_matrix, annot=True, cmap=\"YlGnBu\")\n",
    "plt.xlabel(\"Correlation Matrix of Stock Sub-Portfolio\")\n",
    "plt.ylabel(\"Ticker\")\n",
    "plt.show()"
   ]
  },
  {
   "cell_type": "markdown",
   "metadata": {},
   "source": [
    "## Efficient Frontier - All possible weight allocations within the 7 securities"
   ]
  },
  {
   "cell_type": "code",
   "execution_count": 42,
   "metadata": {},
   "outputs": [
    {
     "data": {
      "text/html": [
       "<div>\n",
       "<style scoped>\n",
       "    .dataframe tbody tr th:only-of-type {\n",
       "        vertical-align: middle;\n",
       "    }\n",
       "\n",
       "    .dataframe tbody tr th {\n",
       "        vertical-align: top;\n",
       "    }\n",
       "\n",
       "    .dataframe thead th {\n",
       "        text-align: right;\n",
       "    }\n",
       "</style>\n",
       "<table border=\"1\" class=\"dataframe\">\n",
       "  <thead>\n",
       "    <tr style=\"text-align: right;\">\n",
       "      <th></th>\n",
       "      <th>Risk Parity</th>\n",
       "      <th>S&amp;P 500</th>\n",
       "      <th>DAX</th>\n",
       "      <th>CAC</th>\n",
       "    </tr>\n",
       "  </thead>\n",
       "  <tbody>\n",
       "    <tr>\n",
       "      <th>Annualized Return</th>\n",
       "      <td>0.227318</td>\n",
       "      <td>0.100093</td>\n",
       "      <td>0.060729</td>\n",
       "      <td>0.053876</td>\n",
       "    </tr>\n",
       "  </tbody>\n",
       "</table>\n",
       "</div>"
      ],
      "text/plain": [
       "                   Risk Parity   S&P 500       DAX       CAC\n",
       "Annualized Return     0.227318  0.100093  0.060729  0.053876"
      ]
     },
     "execution_count": 42,
     "metadata": {},
     "output_type": "execute_result"
    }
   ],
   "source": [
    "# Risk Parity Portfolio Expected Return\n",
    "eq_bench_port"
   ]
  },
  {
   "cell_type": "code",
   "execution_count": 43,
   "metadata": {},
   "outputs": [
    {
     "data": {
      "text/plain": [
       "0.14184678754989136"
      ]
     },
     "execution_count": 43,
     "metadata": {},
     "output_type": "execute_result"
    }
   ],
   "source": [
    "# Risk Parity Portfolio Volatility\n",
    "rpp_vol"
   ]
  },
  {
   "cell_type": "code",
   "execution_count": 44,
   "metadata": {},
   "outputs": [
    {
     "data": {
      "text/plain": [
       "(array([0.28758511, 0.24785958, 0.20689611, 0.36219651, 0.22994296,\n",
       "        0.25312891, 0.2346029 , 0.22301162, 0.26254793, 0.44582087,\n",
       "        0.19872777, 0.18316291, 0.27767021, 0.25806597, 0.30564284,\n",
       "        0.24790768, 0.3006229 , 0.20298284, 0.33024335, 0.27243538,\n",
       "        0.16881769, 0.28112429, 0.32333451, 0.29844422, 0.27683099,\n",
       "        0.3270097 , 0.33336558, 0.28723539, 0.20697651, 0.2461677 ,\n",
       "        0.27746035, 0.35935764, 0.25847258, 0.27654861, 0.26493672,\n",
       "        0.26070356, 0.23222953, 0.27731534, 0.33722425, 0.33346802,\n",
       "        0.29591565, 0.27458766, 0.32960319, 0.35320564, 0.21805688,\n",
       "        0.22791646, 0.33170979, 0.21853108, 0.17877031, 0.21198554,\n",
       "        0.18912003, 0.24159363, 0.35997289, 0.22656796, 0.31388016,\n",
       "        0.300432  , 0.2936663 , 0.38056265, 0.37458405, 0.37757955,\n",
       "        0.19351132, 0.31361287, 0.33186053, 0.32311124, 0.22463629,\n",
       "        0.23174441, 0.20563428, 0.32476363, 0.36770392, 0.18612543,\n",
       "        0.20731145, 0.26051086, 0.25809366, 0.27712199, 0.3618718 ,\n",
       "        0.37603428, 0.40755884, 0.32533161, 0.22634488, 0.27282148,\n",
       "        0.3110597 , 0.31947758, 0.30165235, 0.29442661, 0.28402219,\n",
       "        0.2490963 , 0.25143327, 0.25390272, 0.29349086, 0.30095056,\n",
       "        0.24597154, 0.2621851 , 0.32545515, 0.27809807, 0.24514374,\n",
       "        0.23749503, 0.20468048, 0.2799252 , 0.29293481, 0.31675326,\n",
       "        0.26723836, 0.2161023 , 0.26686553, 0.31410505, 0.34139464,\n",
       "        0.30000741, 0.30043643, 0.31508561, 0.25079549, 0.21967175,\n",
       "        0.2988105 , 0.2943014 , 0.30151026, 0.34960069, 0.19288223,\n",
       "        0.18627584, 0.29998997, 0.3332297 , 0.20369974, 0.25361052,\n",
       "        0.35957723, 0.37902381, 0.21965575, 0.30219829, 0.3173921 ,\n",
       "        0.21903785, 0.32821394, 0.22343215, 0.36250593, 0.30565318,\n",
       "        0.26081955, 0.33265095, 0.31144331, 0.26172782, 0.28208201,\n",
       "        0.31295064, 0.204928  , 0.31331513, 0.30673427, 0.29881631,\n",
       "        0.25231382, 0.26004182, 0.19326013, 0.24250412, 0.20465295,\n",
       "        0.33053746, 0.36340815, 0.36846661, 0.26232783, 0.17502966,\n",
       "        0.23312498, 0.23844901, 0.22675726, 0.28296679, 0.34450676,\n",
       "        0.26657167, 0.32994021, 0.23151815, 0.33704797, 0.18685003,\n",
       "        0.22475644, 0.21492133, 0.26766538, 0.2240682 , 0.22098909,\n",
       "        0.21658641, 0.28811947, 0.29453996, 0.25599721, 0.21830533,\n",
       "        0.36368577, 0.33877308, 0.21555031, 0.27516495, 0.2778588 ,\n",
       "        0.20888469, 0.34760658, 0.20606485, 0.33513841, 0.34850078,\n",
       "        0.24634875, 0.22745611, 0.40251293, 0.29679436, 0.17149946,\n",
       "        0.17796639, 0.33461764, 0.24302549, 0.28737315, 0.28557191,\n",
       "        0.26070084, 0.29391692, 0.32830993, 0.22219601, 0.27928541,\n",
       "        0.28950642, 0.30512138, 0.23329618, 0.25544788, 0.2300393 ,\n",
       "        0.23498543, 0.21255915, 0.25137183, 0.29365725, 0.24809034,\n",
       "        0.26083607, 0.1809458 , 0.21431767, 0.28872674, 0.35760731,\n",
       "        0.27790412, 0.24915419, 0.27691852, 0.22014808, 0.34069697,\n",
       "        0.31009769, 0.25452984, 0.32635621, 0.26054037, 0.31238027,\n",
       "        0.31071166, 0.22491802, 0.25349906, 0.27815109, 0.26954576,\n",
       "        0.29731069, 0.25163956, 0.28519771, 0.3929892 , 0.31025345,\n",
       "        0.24392861, 0.32001571, 0.39496302, 0.28530645, 0.20068797,\n",
       "        0.25798011, 0.32952196, 0.26900828, 0.29941009, 0.21390987,\n",
       "        0.33634259, 0.350375  , 0.21161964, 0.24236254, 0.27904395,\n",
       "        0.26412577, 0.24178703, 0.31696795, 0.22085589, 0.37410106,\n",
       "        0.36534671, 0.45391988, 0.3683623 , 0.25201131, 0.19930751,\n",
       "        0.28231183, 0.23922957, 0.16860456, 0.30157029, 0.2684379 ,\n",
       "        0.29819938, 0.25049355, 0.23530206, 0.36264047, 0.40892218,\n",
       "        0.35845557, 0.19461108, 0.29619473, 0.32105085, 0.27630472,\n",
       "        0.3323119 , 0.20976748, 0.353119  , 0.29479443, 0.19989933,\n",
       "        0.17606168, 0.33842936, 0.25050763, 0.31535388, 0.29768428,\n",
       "        0.32610003, 0.16679817, 0.22789117, 0.34055504, 0.20629301,\n",
       "        0.37372797, 0.16912248, 0.27520289, 0.31380405, 0.33075933,\n",
       "        0.20852957, 0.17295033, 0.25368619, 0.27888302, 0.29491297,\n",
       "        0.32874618, 0.24857216, 0.3014506 , 0.33300139, 0.30049348,\n",
       "        0.3390084 , 0.25044702, 0.32193073, 0.19271364, 0.29611474,\n",
       "        0.31644625, 0.24512412, 0.34493007, 0.39449908, 0.3405705 ,\n",
       "        0.2658512 , 0.38014405, 0.23740537, 0.3364375 , 0.24086347,\n",
       "        0.19195654, 0.19404789, 0.19560496, 0.2346542 , 0.20877213,\n",
       "        0.37892066, 0.35997315, 0.30262881, 0.32881972, 0.29573312,\n",
       "        0.21970402, 0.31043462, 0.33891478, 0.34151841, 0.37207988,\n",
       "        0.17782881, 0.20798399, 0.31765652, 0.30316112, 0.29682682,\n",
       "        0.23188533, 0.32502059, 0.26010224, 0.24943404, 0.24262991,\n",
       "        0.33950605, 0.18072946, 0.25703059, 0.18041855, 0.30540588,\n",
       "        0.33473475, 0.29665339, 0.23607912, 0.13983874, 0.20812223,\n",
       "        0.20575667, 0.26854386, 0.34508956, 0.20991608, 0.30013922,\n",
       "        0.30438626, 0.4053386 , 0.21748308, 0.21024322, 0.40563796,\n",
       "        0.40783328, 0.36230857, 0.2206577 , 0.26687031, 0.34008933,\n",
       "        0.25673962, 0.32375868, 0.28781399, 0.31415935, 0.21175075,\n",
       "        0.22678356, 0.32131496, 0.34513869, 0.2525023 , 0.28747747,\n",
       "        0.26865074, 0.25607754, 0.32436664, 0.29986016, 0.27859484,\n",
       "        0.17825141, 0.3123089 , 0.20034667, 0.24410393, 0.25201546,\n",
       "        0.24559945, 0.21365471, 0.23360128, 0.25494733, 0.48397299,\n",
       "        0.36209758, 0.32226594, 0.17129099, 0.31451984, 0.26973334,\n",
       "        0.41894446, 0.27831314, 0.30655279, 0.28457245, 0.31256591,\n",
       "        0.23873896, 0.21197875, 0.34144727, 0.21339908, 0.19540942,\n",
       "        0.30947567, 0.26684148, 0.28014335, 0.32019577, 0.34933704,\n",
       "        0.22614104, 0.36553211, 0.30410842, 0.37299593, 0.2585742 ,\n",
       "        0.21846412, 0.24949767, 0.32174276, 0.40543312, 0.18653342,\n",
       "        0.32112929, 0.28822619, 0.24736993, 0.29138969, 0.2377274 ,\n",
       "        0.36879993, 0.31959146, 0.3162601 , 0.34121785, 0.31882835,\n",
       "        0.35715808, 0.28343592, 0.35284941, 0.35651194, 0.21670982,\n",
       "        0.253817  , 0.20449318, 0.29852589, 0.31645184, 0.28133673,\n",
       "        0.29218003, 0.30504874, 0.31951842, 0.27004038, 0.2236599 ,\n",
       "        0.28361101, 0.22436951, 0.20393029, 0.30772898, 0.33523968,\n",
       "        0.3165213 , 0.28116617, 0.29713238, 0.29063827, 0.33475912,\n",
       "        0.30033524, 0.19026114, 0.27184984, 0.22607671, 0.32481042,\n",
       "        0.32942173, 0.29340468, 0.31919857, 0.26852608, 0.26444694,\n",
       "        0.22546304, 0.25176463, 0.24718164, 0.34628423, 0.22460671,\n",
       "        0.40438425, 0.26742419, 0.33678192, 0.33646251, 0.31660294,\n",
       "        0.31217127, 0.32009805, 0.35501071, 0.33000172, 0.25921609,\n",
       "        0.33786968, 0.31561384, 0.31919756, 0.23603327, 0.26641297,\n",
       "        0.42999431, 0.36908448, 0.29362453, 0.27419786, 0.2966116 ,\n",
       "        0.37671554, 0.33406675, 0.29606476, 0.26393289, 0.26919544,\n",
       "        0.34683356, 0.25473096, 0.31757582, 0.29592907, 0.29547344,\n",
       "        0.1741301 , 0.26110227, 0.20333233, 0.35158267, 0.22939183,\n",
       "        0.31157132, 0.25816142, 0.25791079, 0.23659074, 0.2092513 ,\n",
       "        0.33325142, 0.25608336, 0.25644565, 0.23150899, 0.24957643,\n",
       "        0.40489823, 0.2965005 , 0.30262399, 0.2887976 , 0.21293211,\n",
       "        0.33672055, 0.29002515, 0.18491413, 0.18977896, 0.314964  ,\n",
       "        0.23616213, 0.19671064, 0.28709386, 0.3548758 , 0.24671304,\n",
       "        0.31467872, 0.26254889, 0.21752419, 0.27506283, 0.3198986 ,\n",
       "        0.38443644, 0.29535964, 0.31679302, 0.22726519, 0.32374074,\n",
       "        0.29850105, 0.29040437, 0.22351017, 0.19630968, 0.34034046,\n",
       "        0.30572085, 0.30463741, 0.22381968, 0.18748348, 0.20586942,\n",
       "        0.32499597, 0.30901518, 0.29990238, 0.40773319, 0.2587469 ,\n",
       "        0.18173613, 0.24265724, 0.20581579, 0.20245682, 0.35442417,\n",
       "        0.21406203, 0.24491811, 0.20854177, 0.17929221, 0.28287437,\n",
       "        0.28289751, 0.38887551, 0.33548559, 0.21307207, 0.34873007,\n",
       "        0.34493645, 0.25035032, 0.19323127, 0.29207984, 0.2073601 ,\n",
       "        0.27053985, 0.37610877, 0.34007804, 0.27725905, 0.27129872,\n",
       "        0.24238751, 0.28657015, 0.18869758, 0.36886787, 0.35919299,\n",
       "        0.21565132, 0.22648101, 0.37242415, 0.25538002, 0.21362901,\n",
       "        0.34644289, 0.31967807, 0.27490469, 0.26845549, 0.28934754,\n",
       "        0.24518569, 0.30058854, 0.20530599, 0.22807276, 0.20485446,\n",
       "        0.30045216, 0.22986724, 0.18666423, 0.2078069 , 0.33431565,\n",
       "        0.19449145, 0.23155569, 0.33076001, 0.32730922, 0.38085996,\n",
       "        0.35669415, 0.209874  , 0.26879658, 0.30756695, 0.2275345 ,\n",
       "        0.22557036, 0.36973682, 0.33814207, 0.22787798, 0.27526428,\n",
       "        0.29800558, 0.29107541, 0.23415324, 0.28495077, 0.34217818,\n",
       "        0.27700913, 0.34430548, 0.32792098, 0.21940884, 0.35889264,\n",
       "        0.24854086, 0.19649971, 0.28926709, 0.36005414, 0.28028594,\n",
       "        0.29217861, 0.22625455, 0.20132621, 0.25701578, 0.2301027 ,\n",
       "        0.25878458, 0.25765199, 0.32928073, 0.28405944, 0.28419985,\n",
       "        0.33343901, 0.3344468 , 0.29890688, 0.33134367, 0.30577541,\n",
       "        0.27963886, 0.31270103, 0.33527142, 0.32731469, 0.30800406,\n",
       "        0.1838734 , 0.24583231, 0.25808028, 0.30080562, 0.19631563,\n",
       "        0.29017462, 0.32809813, 0.26438422, 0.3022341 , 0.27071674,\n",
       "        0.20406531, 0.31396177, 0.33454115, 0.17408093, 0.30853273,\n",
       "        0.19963815, 0.30245641, 0.17607956, 0.29746664, 0.35987716,\n",
       "        0.2516419 , 0.16347685, 0.18720059, 0.24712681, 0.3320658 ,\n",
       "        0.36766382, 0.23795363, 0.31817397, 0.23007433, 0.32364716,\n",
       "        0.29729043, 0.29078917, 0.31049015, 0.24709517, 0.23996473,\n",
       "        0.19227221, 0.30272337, 0.31186106, 0.1860207 , 0.23931009,\n",
       "        0.22792024, 0.38524565, 0.284549  , 0.22556982, 0.40929612,\n",
       "        0.28714922, 0.32465278, 0.31872891, 0.43576072, 0.31513418,\n",
       "        0.2629911 , 0.29572451, 0.21669648, 0.22464316, 0.24897519,\n",
       "        0.26179189, 0.38129091, 0.25978345, 0.26143088, 0.2824551 ,\n",
       "        0.22768282, 0.44585954, 0.28284165, 0.32967996, 0.22407733,\n",
       "        0.2482664 , 0.22345059, 0.33781956, 0.37419513, 0.20377751,\n",
       "        0.32382991, 0.30835524, 0.22991775, 0.2167032 , 0.17366754,\n",
       "        0.33078257, 0.24800195, 0.35920389, 0.3437023 , 0.33381521,\n",
       "        0.3538042 , 0.22034475, 0.34052764, 0.19672161, 0.27147108,\n",
       "        0.29905696, 0.30268203, 0.29131162, 0.34252977, 0.19970178,\n",
       "        0.30521501, 0.23890446, 0.22887679, 0.32058769, 0.26949536,\n",
       "        0.26389138, 0.3291182 , 0.22969001, 0.34677572, 0.29171757,\n",
       "        0.22995928, 0.41555955, 0.26072594, 0.35546301, 0.38473692,\n",
       "        0.31437475, 0.33019181, 0.31035571, 0.27069427, 0.42803887,\n",
       "        0.20783159, 0.35277365, 0.24755768, 0.3449146 , 0.33185448,\n",
       "        0.21324756, 0.25083705, 0.37089336, 0.29188926, 0.31849713,\n",
       "        0.45101093, 0.27546533, 0.31434245, 0.19132159, 0.2767243 ,\n",
       "        0.27870003, 0.34879593, 0.22157245, 0.28972989, 0.30625047,\n",
       "        0.28656275, 0.2650141 , 0.30708023, 0.20203948, 0.33760486,\n",
       "        0.21272886, 0.36284386, 0.3420525 , 0.27437001, 0.35833569,\n",
       "        0.30012816, 0.2861175 , 0.32938537, 0.3194262 , 0.36047528,\n",
       "        0.25272632, 0.44220186, 0.22159178, 0.2308505 , 0.23013295,\n",
       "        0.2769101 , 0.21945347, 0.3036376 , 0.36106045, 0.27137474,\n",
       "        0.29660681, 0.22711004, 0.29173547, 0.36752606, 0.36115203,\n",
       "        0.33593055, 0.33462839, 0.32297052, 0.32883136, 0.34514403,\n",
       "        0.32057803, 0.29127449, 0.30009396, 0.30226968, 0.23669643,\n",
       "        0.3254024 , 0.2936079 , 0.30102792, 0.3475141 , 0.35990979,\n",
       "        0.24478539, 0.26098548, 0.24491133, 0.39106775, 0.18900904,\n",
       "        0.32312948, 0.19428667, 0.17319617, 0.30437281, 0.30302379,\n",
       "        0.2866768 , 0.22723487, 0.21865349, 0.26220209, 0.32657552,\n",
       "        0.36580477, 0.27607636, 0.3127311 , 0.28137464, 0.20444151,\n",
       "        0.34523375, 0.269241  , 0.19755604, 0.27807419, 0.22121513,\n",
       "        0.21516566, 0.30161066, 0.19020861, 0.25455704, 0.25540077,\n",
       "        0.2245948 , 0.34326026, 0.31417807, 0.29634958, 0.21208039,\n",
       "        0.20044385, 0.25301074, 0.2805952 , 0.31033157, 0.34194512,\n",
       "        0.32874185, 0.31594501, 0.36891745, 0.41304087, 0.20145226,\n",
       "        0.42163269, 0.32580249, 0.3088837 , 0.23434769, 0.33904071,\n",
       "        0.33832076, 0.23028375, 0.1943302 , 0.31749426, 0.27555746,\n",
       "        0.34141206, 0.29172227, 0.18653445, 0.2700029 , 0.35181108,\n",
       "        0.25692531, 0.17659683, 0.29431771, 0.28338179, 0.27947848,\n",
       "        0.28509721, 0.23848843, 0.23127285, 0.37635082, 0.29726593,\n",
       "        0.32665449, 0.34955986, 0.31480042, 0.3177107 , 0.26208084,\n",
       "        0.27482884, 0.2873115 , 0.24612535, 0.19574738, 0.23243197,\n",
       "        0.19954584, 0.27631439, 0.33043277, 0.2837874 , 0.31098649,\n",
       "        0.27711014, 0.31925541, 0.27789221, 0.2063884 , 0.34156068,\n",
       "        0.20603265, 0.26633148, 0.31438375, 0.34350112, 0.21788714,\n",
       "        0.21366376, 0.27854562, 0.32799801, 0.31903113, 0.31648199,\n",
       "        0.34981223, 0.27285659, 0.27378132, 0.27722445, 0.3089433 ,\n",
       "        0.20322726, 0.24057862, 0.24324532, 0.23160083, 0.27187442,\n",
       "        0.30853559, 0.33347687, 0.3696611 , 0.34754913, 0.36220165,\n",
       "        0.20254891, 0.33433887, 0.33401817, 0.35615226, 0.30926752,\n",
       "        0.24754678, 0.33090636, 0.23288835, 0.29412223, 0.33222418,\n",
       "        0.29245292, 0.29988102, 0.17324647, 0.2238848 , 0.26875113,\n",
       "        0.35051029, 0.3143539 , 0.33345315, 0.17492708, 0.24921433,\n",
       "        0.32408262, 0.19316621, 0.27548548, 0.21225416, 0.34812564,\n",
       "        0.34257481, 0.32458611, 0.30774607, 0.19754143, 0.19591363,\n",
       "        0.30266157, 0.29183106, 0.23057116, 0.37445007, 0.22180745,\n",
       "        0.19240355, 0.32844141, 0.31748343, 0.31096152, 0.19336562,\n",
       "        0.31312604, 0.24148412, 0.25664921, 0.29890791, 0.35448775,\n",
       "        0.34134988, 0.35559333, 0.22553584, 0.17627844, 0.31888332,\n",
       "        0.29488438, 0.31860764, 0.32895465, 0.28248748, 0.39136909]),\n",
       " array([0.16347921, 0.15616706, 0.14199844, 0.19688601, 0.15842713,\n",
       "        0.15348042, 0.14210357, 0.14538318, 0.15243313, 0.24696539,\n",
       "        0.13674043, 0.16514188, 0.18557641, 0.14966811, 0.17502799,\n",
       "        0.15614987, 0.17767552, 0.16087411, 0.18169788, 0.16659964,\n",
       "        0.13835436, 0.1701479 , 0.17911832, 0.17811749, 0.15732289,\n",
       "        0.18253797, 0.18234767, 0.16453777, 0.14886643, 0.14855291,\n",
       "        0.15649744, 0.20100619, 0.16887408, 0.15653905, 0.15652754,\n",
       "        0.15635861, 0.1485548 , 0.16431103, 0.18498775, 0.18029202,\n",
       "        0.16373496, 0.15705398, 0.17427528, 0.19790664, 0.1449548 ,\n",
       "        0.1614565 , 0.17975784, 0.14460366, 0.13734886, 0.14878376,\n",
       "        0.1433417 , 0.15283372, 0.19615343, 0.14561371, 0.18591571,\n",
       "        0.16742187, 0.17228177, 0.20213412, 0.19996796, 0.20398208,\n",
       "        0.14278225, 0.16865171, 0.18602077, 0.17249892, 0.14403578,\n",
       "        0.15120006, 0.14998176, 0.18366988, 0.20195448, 0.14099021,\n",
       "        0.14323334, 0.15397028, 0.15528976, 0.17089417, 0.19193692,\n",
       "        0.19681022, 0.21308403, 0.19007726, 0.14599699, 0.16555691,\n",
       "        0.16962437, 0.17628951, 0.16690821, 0.1755061 , 0.16407778,\n",
       "        0.15650079, 0.15351871, 0.15586915, 0.16456748, 0.1804282 ,\n",
       "        0.15933435, 0.16122   , 0.17751438, 0.16620874, 0.16995383,\n",
       "        0.14688445, 0.14368051, 0.1683862 , 0.16612105, 0.17678974,\n",
       "        0.15778425, 0.14392023, 0.15900245, 0.17931267, 0.1827776 ,\n",
       "        0.16830721, 0.16699198, 0.17062492, 0.15085292, 0.14100011,\n",
       "        0.16702729, 0.1725752 , 0.17491622, 0.18934767, 0.14197607,\n",
       "        0.15062619, 0.16747129, 0.18926407, 0.14894739, 0.16566643,\n",
       "        0.21240029, 0.2013135 , 0.14506099, 0.17058967, 0.17803979,\n",
       "        0.15346114, 0.17861313, 0.14693995, 0.19345679, 0.16949089,\n",
       "        0.16110982, 0.18760896, 0.17215454, 0.16557098, 0.16992987,\n",
       "        0.17043934, 0.15916393, 0.17787435, 0.17193856, 0.16527791,\n",
       "        0.15344111, 0.1512717 , 0.14240216, 0.15050824, 0.15041885,\n",
       "        0.18513307, 0.19434426, 0.20292346, 0.15746333, 0.14640336,\n",
       "        0.17179531, 0.15724012, 0.1445377 , 0.15818486, 0.1885782 ,\n",
       "        0.15376987, 0.175424  , 0.14550927, 0.19092079, 0.1474912 ,\n",
       "        0.14499561, 0.14524296, 0.16651295, 0.16131052, 0.15592174,\n",
       "        0.17044558, 0.17635769, 0.17175547, 0.16132737, 0.149574  ,\n",
       "        0.20550169, 0.17954908, 0.14776041, 0.15511565, 0.16034469,\n",
       "        0.14317176, 0.18806189, 0.16657481, 0.18859194, 0.18939484,\n",
       "        0.14947889, 0.14952748, 0.21465307, 0.17456976, 0.13457807,\n",
       "        0.14627187, 0.18929559, 0.15127128, 0.16577993, 0.16363825,\n",
       "        0.15413371, 0.1692395 , 0.18185153, 0.1571099 , 0.16119835,\n",
       "        0.16839581, 0.17479375, 0.1514167 , 0.15614866, 0.15636243,\n",
       "        0.15788873, 0.14015382, 0.1482977 , 0.17990138, 0.16307598,\n",
       "        0.15823079, 0.15688282, 0.14142378, 0.16968417, 0.20209936,\n",
       "        0.17614261, 0.1623345 , 0.16582158, 0.15571866, 0.1895766 ,\n",
       "        0.16698795, 0.15815068, 0.17889218, 0.16985158, 0.17906261,\n",
       "        0.17730713, 0.15319336, 0.17293521, 0.156623  , 0.15659882,\n",
       "        0.17400778, 0.15122857, 0.16588583, 0.2058232 , 0.17080298,\n",
       "        0.15210191, 0.18232816, 0.20904868, 0.15887115, 0.14992764,\n",
       "        0.15683505, 0.17843465, 0.16113477, 0.17095956, 0.15897625,\n",
       "        0.18529221, 0.19374422, 0.15484843, 0.1528076 , 0.16527174,\n",
       "        0.16151882, 0.15172939, 0.17666292, 0.14359927, 0.20302312,\n",
       "        0.19725971, 0.25719927, 0.1965958 , 0.160202  , 0.14729732,\n",
       "        0.16218396, 0.15891828, 0.13439348, 0.17117866, 0.15620135,\n",
       "        0.16900259, 0.17839171, 0.15515664, 0.19060314, 0.22953347,\n",
       "        0.20131208, 0.13424759, 0.16357933, 0.17567503, 0.16450046,\n",
       "        0.19422631, 0.15293983, 0.19130221, 0.16662592, 0.14438346,\n",
       "        0.13695411, 0.18220651, 0.16054822, 0.18324669, 0.17346673,\n",
       "        0.19787532, 0.14570419, 0.16933274, 0.1834596 , 0.14520619,\n",
       "        0.20344589, 0.13730148, 0.16908827, 0.17223707, 0.18773723,\n",
       "        0.14768195, 0.14197122, 0.16445278, 0.15621749, 0.16977775,\n",
       "        0.1881073 , 0.1583721 , 0.17090257, 0.18076452, 0.16629327,\n",
       "        0.18914899, 0.15682929, 0.18441919, 0.14572459, 0.17166625,\n",
       "        0.17908713, 0.15027964, 0.18889812, 0.2058256 , 0.18893457,\n",
       "        0.15380906, 0.20666933, 0.15650516, 0.184608  , 0.15174859,\n",
       "        0.13579334, 0.14132343, 0.13877348, 0.17423066, 0.14484143,\n",
       "        0.2140146 , 0.19307189, 0.17893637, 0.18120235, 0.16305965,\n",
       "        0.16172034, 0.17020733, 0.18649947, 0.18105454, 0.20455296,\n",
       "        0.14398353, 0.15150109, 0.17567574, 0.18030089, 0.17008806,\n",
       "        0.1564499 , 0.18061399, 0.15865333, 0.14616727, 0.15191473,\n",
       "        0.1845113 , 0.14848494, 0.15362533, 0.14002388, 0.17321285,\n",
       "        0.18255604, 0.16198527, 0.15529911, 0.15711616, 0.1493349 ,\n",
       "        0.14276498, 0.1665418 , 0.18868126, 0.15738608, 0.16589995,\n",
       "        0.16534216, 0.21216415, 0.1491989 , 0.15080418, 0.21260269,\n",
       "        0.21886344, 0.2022473 , 0.14601268, 0.18446316, 0.18836733,\n",
       "        0.15530547, 0.18108319, 0.16228487, 0.20015994, 0.1415109 ,\n",
       "        0.16193299, 0.19075021, 0.18674735, 0.16054496, 0.16051758,\n",
       "        0.1604312 , 0.15685011, 0.17594608, 0.16737185, 0.15635666,\n",
       "        0.13457041, 0.18151952, 0.14320616, 0.15533261, 0.15776083,\n",
       "        0.18096547, 0.15085208, 0.14711363, 0.14959033, 0.26472935,\n",
       "        0.1918636 , 0.18906035, 0.14582149, 0.17135928, 0.15732823,\n",
       "        0.23477685, 0.17522605, 0.18525621, 0.16025872, 0.17075205,\n",
       "        0.16291865, 0.15084181, 0.18745439, 0.16401278, 0.14943253,\n",
       "        0.18573715, 0.1660767 , 0.16575006, 0.17889214, 0.18789394,\n",
       "        0.15361693, 0.19050904, 0.18462412, 0.20159946, 0.16837405,\n",
       "        0.15979144, 0.15433149, 0.18772848, 0.22167486, 0.15078449,\n",
       "        0.17175843, 0.16404099, 0.15452006, 0.16550721, 0.15939247,\n",
       "        0.19779592, 0.17449294, 0.17529682, 0.18756633, 0.17370678,\n",
       "        0.19270644, 0.16755591, 0.20135256, 0.19590236, 0.14704033,\n",
       "        0.16518357, 0.16345657, 0.16407374, 0.17539138, 0.1583403 ,\n",
       "        0.17919505, 0.18115982, 0.18732444, 0.16333563, 0.15196347,\n",
       "        0.16030442, 0.14443672, 0.14972259, 0.1744699 , 0.18735226,\n",
       "        0.17769462, 0.18099183, 0.16695506, 0.1680707 , 0.18470705,\n",
       "        0.17777803, 0.14207497, 0.15184868, 0.15198947, 0.1757962 ,\n",
       "        0.17775281, 0.1715299 , 0.17606518, 0.15804162, 0.17292292,\n",
       "        0.15046123, 0.14988761, 0.15639379, 0.19182436, 0.15170032,\n",
       "        0.21905376, 0.15674117, 0.17764241, 0.17947933, 0.1788166 ,\n",
       "        0.17079052, 0.17578418, 0.19360747, 0.18494128, 0.15003148,\n",
       "        0.18566196, 0.16890791, 0.17561908, 0.16155307, 0.16194159,\n",
       "        0.22353696, 0.20116624, 0.17817912, 0.16413624, 0.16145638,\n",
       "        0.21130354, 0.19345108, 0.16856847, 0.18299415, 0.15231172,\n",
       "        0.18925444, 0.1529423 , 0.18296618, 0.16600126, 0.17051921,\n",
       "        0.14999994, 0.15102164, 0.15577695, 0.19215466, 0.15618632,\n",
       "        0.17942591, 0.17498862, 0.16025644, 0.15214541, 0.14761175,\n",
       "        0.18826706, 0.16216983, 0.16979714, 0.15649591, 0.15641128,\n",
       "        0.22476908, 0.17056459, 0.16557368, 0.16570732, 0.14695187,\n",
       "        0.18811558, 0.18305104, 0.1480095 , 0.14674552, 0.17525073,\n",
       "        0.14489278, 0.14261973, 0.1603305 , 0.20078896, 0.15307749,\n",
       "        0.17542299, 0.16136487, 0.14768759, 0.16234922, 0.17373335,\n",
       "        0.20037151, 0.16871966, 0.176178  , 0.14805874, 0.18760125,\n",
       "        0.17383035, 0.18095921, 0.16524658, 0.1498374 , 0.1827325 ,\n",
       "        0.17536067, 0.17913011, 0.15417794, 0.13485445, 0.18093718,\n",
       "        0.19280795, 0.17495846, 0.17523093, 0.2188392 , 0.15621538,\n",
       "        0.13347569, 0.16372287, 0.15081391, 0.14603325, 0.1891178 ,\n",
       "        0.14955216, 0.15196531, 0.14937122, 0.14910237, 0.17223193,\n",
       "        0.1713824 , 0.21591147, 0.18617556, 0.15357024, 0.19340127,\n",
       "        0.20284423, 0.15487343, 0.14072546, 0.16506569, 0.14716836,\n",
       "        0.15508589, 0.19783594, 0.18134966, 0.16312482, 0.16195156,\n",
       "        0.15120827, 0.16592566, 0.15042703, 0.19601061, 0.18787533,\n",
       "        0.14960143, 0.14786487, 0.21060293, 0.15919533, 0.16404991,\n",
       "        0.1855173 , 0.17978417, 0.1608629 , 0.15598474, 0.16353303,\n",
       "        0.1545285 , 0.16394836, 0.14614424, 0.16339686, 0.1458418 ,\n",
       "        0.16629146, 0.16235317, 0.15716492, 0.14831652, 0.18741419,\n",
       "        0.13583695, 0.14886459, 0.18139806, 0.18157643, 0.20067351,\n",
       "        0.19484643, 0.15962525, 0.15912253, 0.16785928, 0.15026284,\n",
       "        0.14103243, 0.2050632 , 0.18794864, 0.1486119 , 0.15524126,\n",
       "        0.16962379, 0.1659677 , 0.1568061 , 0.16490242, 0.18445961,\n",
       "        0.16167252, 0.18377238, 0.18041178, 0.14180769, 0.19557997,\n",
       "        0.14826845, 0.13766197, 0.16595011, 0.20761967, 0.15734087,\n",
       "        0.17571145, 0.14741571, 0.14660951, 0.15283344, 0.14718094,\n",
       "        0.16032617, 0.16931054, 0.19215394, 0.15814714, 0.16047502,\n",
       "        0.1811809 , 0.18532025, 0.17378516, 0.18187868, 0.17333807,\n",
       "        0.16918178, 0.17853705, 0.17915586, 0.18328748, 0.17517415,\n",
       "        0.14482789, 0.16343894, 0.14967804, 0.17463257, 0.14145404,\n",
       "        0.16702597, 0.17658376, 0.16487375, 0.18737341, 0.16335747,\n",
       "        0.14473095, 0.1779052 , 0.18235153, 0.14182277, 0.17617515,\n",
       "        0.15513364, 0.17062641, 0.13735586, 0.16171819, 0.19748118,\n",
       "        0.15295598, 0.13749996, 0.14047176, 0.16432079, 0.18478944,\n",
       "        0.20792957, 0.15552651, 0.17696174, 0.14638264, 0.1723551 ,\n",
       "        0.1715971 , 0.17495777, 0.17986376, 0.15011873, 0.14698861,\n",
       "        0.14454129, 0.17108962, 0.17817186, 0.14901639, 0.15280591,\n",
       "        0.15042935, 0.20458093, 0.16770822, 0.14667498, 0.21641716,\n",
       "        0.16077373, 0.18056621, 0.17008999, 0.23965543, 0.17599237,\n",
       "        0.15738493, 0.16160768, 0.13753673, 0.14642369, 0.14682097,\n",
       "        0.18404903, 0.21223457, 0.15884578, 0.15525702, 0.17071601,\n",
       "        0.16065432, 0.2464602 , 0.18348609, 0.18412275, 0.14735932,\n",
       "        0.15188074, 0.16890259, 0.18582782, 0.21721463, 0.14198206,\n",
       "        0.17842597, 0.17239751, 0.14423942, 0.15601768, 0.14843269,\n",
       "        0.17831453, 0.14702462, 0.19322512, 0.18445484, 0.18023258,\n",
       "        0.18730056, 0.14342554, 0.18665187, 0.13607628, 0.17039235,\n",
       "        0.17778523, 0.16788802, 0.17759529, 0.18738905, 0.14239901,\n",
       "        0.17568937, 0.1596825 , 0.156062  , 0.18241608, 0.15692796,\n",
       "        0.16648895, 0.1837025 , 0.14542038, 0.19073294, 0.16056613,\n",
       "        0.14780685, 0.23399166, 0.16274447, 0.20860675, 0.22177753,\n",
       "        0.18403735, 0.18828086, 0.17263741, 0.15647097, 0.22971093,\n",
       "        0.15733697, 0.19066141, 0.15116962, 0.19117384, 0.17787983,\n",
       "        0.15215956, 0.1534044 , 0.20307089, 0.16068827, 0.18162661,\n",
       "        0.24613254, 0.17256176, 0.17374224, 0.14846162, 0.15808748,\n",
       "        0.16522771, 0.19183833, 0.16023584, 0.16941016, 0.17487409,\n",
       "        0.17007527, 0.16207827, 0.16966828, 0.13789524, 0.1808824 ,\n",
       "        0.16217704, 0.1896499 , 0.18627189, 0.16058794, 0.18798337,\n",
       "        0.18108057, 0.15748368, 0.18244599, 0.17810388, 0.19105265,\n",
       "        0.1525941 , 0.23253483, 0.15459335, 0.15000047, 0.15313055,\n",
       "        0.17469191, 0.13985066, 0.17461628, 0.19046279, 0.16823028,\n",
       "        0.17392229, 0.15029323, 0.16354001, 0.20301865, 0.20809102,\n",
       "        0.18633625, 0.18468023, 0.17755991, 0.1772813 , 0.19698744,\n",
       "        0.18496701, 0.1638682 , 0.16849824, 0.16914357, 0.1453054 ,\n",
       "        0.18584271, 0.16618756, 0.17133752, 0.18723299, 0.20276506,\n",
       "        0.15198127, 0.16484626, 0.16346913, 0.20840027, 0.13807871,\n",
       "        0.17749637, 0.14276821, 0.13989803, 0.16496781, 0.18488355,\n",
       "        0.16583051, 0.14640948, 0.14507079, 0.15939028, 0.1878179 ,\n",
       "        0.20501921, 0.16463159, 0.17233561, 0.16247913, 0.14169093,\n",
       "        0.1899257 , 0.15539929, 0.14972861, 0.15651341, 0.14971668,\n",
       "        0.16587363, 0.17217966, 0.15184137, 0.16066299, 0.1541832 ,\n",
       "        0.14748998, 0.18234421, 0.17169358, 0.16997383, 0.14892923,\n",
       "        0.14207891, 0.14673271, 0.16394859, 0.19083241, 0.18403218,\n",
       "        0.18079079, 0.18300424, 0.19917074, 0.23228422, 0.14686653,\n",
       "        0.23117696, 0.17448897, 0.17191608, 0.16298116, 0.18062608,\n",
       "        0.18380508, 0.1538691 , 0.14663348, 0.18170517, 0.16189943,\n",
       "        0.18759306, 0.16067999, 0.14290766, 0.17041831, 0.18242971,\n",
       "        0.15977084, 0.13808465, 0.16366042, 0.15831927, 0.16948866,\n",
       "        0.15694848, 0.1497887 , 0.14945364, 0.21654505, 0.16209547,\n",
       "        0.17673907, 0.19899267, 0.17556036, 0.18753196, 0.1558076 ,\n",
       "        0.15518696, 0.17267603, 0.16110986, 0.15415531, 0.15007088,\n",
       "        0.15142221, 0.16614708, 0.18430994, 0.17586057, 0.17751457,\n",
       "        0.16071324, 0.19487959, 0.1610777 , 0.15533821, 0.19421933,\n",
       "        0.1823847 , 0.16337368, 0.17887941, 0.19336452, 0.14872022,\n",
       "        0.16618174, 0.16859896, 0.19147806, 0.18330417, 0.16930424,\n",
       "        0.19429704, 0.15669945, 0.17201761, 0.15882667, 0.17956117,\n",
       "        0.1465973 , 0.17102566, 0.1524503 , 0.15098868, 0.1559389 ,\n",
       "        0.17431688, 0.19510915, 0.20720239, 0.19625795, 0.19378829,\n",
       "        0.14473328, 0.19264467, 0.18751257, 0.18538602, 0.17380307,\n",
       "        0.16884495, 0.19456017, 0.14856228, 0.16349366, 0.18098948,\n",
       "        0.16033433, 0.16677856, 0.15349743, 0.15442757, 0.15113006,\n",
       "        0.19517304, 0.17682016, 0.18810959, 0.13889691, 0.14672741,\n",
       "        0.17715701, 0.14691938, 0.16230367, 0.14775645, 0.18244535,\n",
       "        0.18375202, 0.19764987, 0.17191523, 0.13818873, 0.16542365,\n",
       "        0.17585356, 0.16506644, 0.14371278, 0.19968659, 0.14518955,\n",
       "        0.16254699, 0.17592165, 0.17808396, 0.16922627, 0.14831494,\n",
       "        0.17377885, 0.15282639, 0.15088973, 0.16192607, 0.20765582,\n",
       "        0.18472484, 0.20554773, 0.15399094, 0.13373012, 0.17684461,\n",
       "        0.16578679, 0.17401101, 0.19636865, 0.17158993, 0.21684912]))"
      ]
     },
     "execution_count": 44,
     "metadata": {},
     "output_type": "execute_result"
    }
   ],
   "source": [
    "# Starting with two empty lists, one for portfolio return and the other for portfolio volatility, generate \n",
    "# a random no. sets of weights and hence respective volatilities\n",
    "pfolio_ret = []\n",
    "pfolio_vol = []\n",
    "\n",
    "for i in range (1000):\n",
    "    weights = np.random.random(numstocks)\n",
    "    weights /= np.sum(weights)\n",
    "    pfolio_ret.append(np.sum(weights * eq_returns.mean()*250))\n",
    "    pfolio_vol.append(np.sqrt(np.dot(weights.T,np.dot(eq_returns.cov()*250, weights))))\n",
    "    \n",
    "pfolio_ret = np.array(pfolio_ret)\n",
    "pfolio_vol = np.array(pfolio_vol)   \n",
    "\n",
    "pfolio_ret, pfolio_vol"
   ]
  },
  {
   "cell_type": "code",
   "execution_count": 45,
   "metadata": {},
   "outputs": [
    {
     "data": {
      "text/html": [
       "<div>\n",
       "<style scoped>\n",
       "    .dataframe tbody tr th:only-of-type {\n",
       "        vertical-align: middle;\n",
       "    }\n",
       "\n",
       "    .dataframe tbody tr th {\n",
       "        vertical-align: top;\n",
       "    }\n",
       "\n",
       "    .dataframe thead th {\n",
       "        text-align: right;\n",
       "    }\n",
       "</style>\n",
       "<table border=\"1\" class=\"dataframe\">\n",
       "  <thead>\n",
       "    <tr style=\"text-align: right;\">\n",
       "      <th></th>\n",
       "      <th>Return</th>\n",
       "      <th>Volatility</th>\n",
       "    </tr>\n",
       "  </thead>\n",
       "  <tbody>\n",
       "    <tr>\n",
       "      <th>0</th>\n",
       "      <td>0.287585</td>\n",
       "      <td>0.163479</td>\n",
       "    </tr>\n",
       "    <tr>\n",
       "      <th>1</th>\n",
       "      <td>0.247860</td>\n",
       "      <td>0.156167</td>\n",
       "    </tr>\n",
       "    <tr>\n",
       "      <th>2</th>\n",
       "      <td>0.206896</td>\n",
       "      <td>0.141998</td>\n",
       "    </tr>\n",
       "    <tr>\n",
       "      <th>3</th>\n",
       "      <td>0.362197</td>\n",
       "      <td>0.196886</td>\n",
       "    </tr>\n",
       "    <tr>\n",
       "      <th>4</th>\n",
       "      <td>0.229943</td>\n",
       "      <td>0.158427</td>\n",
       "    </tr>\n",
       "  </tbody>\n",
       "</table>\n",
       "</div>"
      ],
      "text/plain": [
       "     Return  Volatility\n",
       "0  0.287585    0.163479\n",
       "1  0.247860    0.156167\n",
       "2  0.206896    0.141998\n",
       "3  0.362197    0.196886\n",
       "4  0.229943    0.158427"
      ]
     },
     "execution_count": 45,
     "metadata": {},
     "output_type": "execute_result"
    }
   ],
   "source": [
    "portfolios = pd.DataFrame({'Return': pfolio_ret, 'Volatility': pfolio_vol})\n",
    "portfolios.head()"
   ]
  },
  {
   "cell_type": "code",
   "execution_count": 46,
   "metadata": {},
   "outputs": [
    {
     "data": {
      "text/plain": [
       "Text(0, 0.5, 'Expected Return')"
      ]
     },
     "execution_count": 46,
     "metadata": {},
     "output_type": "execute_result"
    },
    {
     "data": {
      "image/png": "[encoded data removed]",
      "text/plain": [
       "<Figure size 1080x576 with 1 Axes>"
      ]
     },
     "metadata": {
      "needs_background": "light"
     },
     "output_type": "display_data"
    }
   ],
   "source": [
    "portfolios.plot.scatter(x='Volatility', y='Return',figsize=(15,8))\n",
    "plt.xlabel('Expected Volatility')\n",
    "plt.ylabel('Expected Return')"
   ]
  },
  {
   "cell_type": "code",
   "execution_count": 47,
   "metadata": {},
   "outputs": [
    {
     "data": {
      "text/html": [
       "<div>\n",
       "<style scoped>\n",
       "    .dataframe tbody tr th:only-of-type {\n",
       "        vertical-align: middle;\n",
       "    }\n",
       "\n",
       "    .dataframe tbody tr th {\n",
       "        vertical-align: top;\n",
       "    }\n",
       "\n",
       "    .dataframe thead th {\n",
       "        text-align: right;\n",
       "    }\n",
       "</style>\n",
       "<table border=\"1\" class=\"dataframe\">\n",
       "  <thead>\n",
       "    <tr style=\"text-align: right;\">\n",
       "      <th></th>\n",
       "      <th>Return</th>\n",
       "      <th>Volatility</th>\n",
       "    </tr>\n",
       "  </thead>\n",
       "  <tbody>\n",
       "    <tr>\n",
       "      <th>389</th>\n",
       "      <td>0.483973</td>\n",
       "      <td>0.264729</td>\n",
       "    </tr>\n",
       "    <tr>\n",
       "      <th>251</th>\n",
       "      <td>0.453920</td>\n",
       "      <td>0.257199</td>\n",
       "    </tr>\n",
       "    <tr>\n",
       "      <th>775</th>\n",
       "      <td>0.451011</td>\n",
       "      <td>0.246133</td>\n",
       "    </tr>\n",
       "    <tr>\n",
       "      <th>716</th>\n",
       "      <td>0.445860</td>\n",
       "      <td>0.246460</td>\n",
       "    </tr>\n",
       "    <tr>\n",
       "      <th>9</th>\n",
       "      <td>0.445821</td>\n",
       "      <td>0.246965</td>\n",
       "    </tr>\n",
       "  </tbody>\n",
       "</table>\n",
       "</div>"
      ],
      "text/plain": [
       "       Return  Volatility\n",
       "389  0.483973    0.264729\n",
       "251  0.453920    0.257199\n",
       "775  0.451011    0.246133\n",
       "716  0.445860    0.246460\n",
       "9    0.445821    0.246965"
      ]
     },
     "execution_count": 47,
     "metadata": {},
     "output_type": "execute_result"
    }
   ],
   "source": [
    "portfolios = pd.DataFrame({'Return': pfolio_ret, 'Volatility': pfolio_vol})\n",
    "portfolios.sort_values(by='Return', ascending=False).head()"
   ]
  },
  {
   "cell_type": "code",
   "execution_count": 48,
   "metadata": {},
   "outputs": [
    {
     "data": {
      "text/html": [
       "<div>\n",
       "<style scoped>\n",
       "    .dataframe tbody tr th:only-of-type {\n",
       "        vertical-align: middle;\n",
       "    }\n",
       "\n",
       "    .dataframe tbody tr th {\n",
       "        vertical-align: top;\n",
       "    }\n",
       "\n",
       "    .dataframe thead th {\n",
       "        text-align: right;\n",
       "    }\n",
       "</style>\n",
       "<table border=\"1\" class=\"dataframe\">\n",
       "  <thead>\n",
       "    <tr style=\"text-align: right;\">\n",
       "      <th></th>\n",
       "      <th>Return</th>\n",
       "      <th>Volatility</th>\n",
       "    </tr>\n",
       "  </thead>\n",
       "  <tbody>\n",
       "    <tr>\n",
       "      <th>348</th>\n",
       "      <td>0.139839</td>\n",
       "      <td>0.157116</td>\n",
       "    </tr>\n",
       "    <tr>\n",
       "      <th>676</th>\n",
       "      <td>0.163477</td>\n",
       "      <td>0.137500</td>\n",
       "    </tr>\n",
       "    <tr>\n",
       "      <th>281</th>\n",
       "      <td>0.166798</td>\n",
       "      <td>0.145704</td>\n",
       "    </tr>\n",
       "    <tr>\n",
       "      <th>257</th>\n",
       "      <td>0.168605</td>\n",
       "      <td>0.134393</td>\n",
       "    </tr>\n",
       "    <tr>\n",
       "      <th>20</th>\n",
       "      <td>0.168818</td>\n",
       "      <td>0.138354</td>\n",
       "    </tr>\n",
       "  </tbody>\n",
       "</table>\n",
       "</div>"
      ],
      "text/plain": [
       "       Return  Volatility\n",
       "348  0.139839    0.157116\n",
       "676  0.163477    0.137500\n",
       "281  0.166798    0.145704\n",
       "257  0.168605    0.134393\n",
       "20   0.168818    0.138354"
      ]
     },
     "execution_count": 48,
     "metadata": {},
     "output_type": "execute_result"
    }
   ],
   "source": [
    "portfolios.sort_values(by='Return').head()"
   ]
  },
  {
   "cell_type": "code",
   "execution_count": 49,
   "metadata": {},
   "outputs": [
    {
     "data": {
      "text/html": [
       "<div>\n",
       "<style scoped>\n",
       "    .dataframe tbody tr th:only-of-type {\n",
       "        vertical-align: middle;\n",
       "    }\n",
       "\n",
       "    .dataframe tbody tr th {\n",
       "        vertical-align: top;\n",
       "    }\n",
       "\n",
       "    .dataframe thead th {\n",
       "        text-align: right;\n",
       "    }\n",
       "</style>\n",
       "<table border=\"1\" class=\"dataframe\">\n",
       "  <thead>\n",
       "    <tr style=\"text-align: right;\">\n",
       "      <th></th>\n",
       "      <th>Return</th>\n",
       "      <th>Volatility</th>\n",
       "    </tr>\n",
       "  </thead>\n",
       "  <tbody>\n",
       "    <tr>\n",
       "      <th>555</th>\n",
       "      <td>0.181736</td>\n",
       "      <td>0.133476</td>\n",
       "    </tr>\n",
       "    <tr>\n",
       "      <th>993</th>\n",
       "      <td>0.176278</td>\n",
       "      <td>0.133730</td>\n",
       "    </tr>\n",
       "    <tr>\n",
       "      <th>266</th>\n",
       "      <td>0.194611</td>\n",
       "      <td>0.134248</td>\n",
       "    </tr>\n",
       "    <tr>\n",
       "      <th>257</th>\n",
       "      <td>0.168605</td>\n",
       "      <td>0.134393</td>\n",
       "    </tr>\n",
       "    <tr>\n",
       "      <th>380</th>\n",
       "      <td>0.178251</td>\n",
       "      <td>0.134570</td>\n",
       "    </tr>\n",
       "  </tbody>\n",
       "</table>\n",
       "</div>"
      ],
      "text/plain": [
       "       Return  Volatility\n",
       "555  0.181736    0.133476\n",
       "993  0.176278    0.133730\n",
       "266  0.194611    0.134248\n",
       "257  0.168605    0.134393\n",
       "380  0.178251    0.134570"
      ]
     },
     "execution_count": 49,
     "metadata": {},
     "output_type": "execute_result"
    }
   ],
   "source": [
    "portfolios.sort_values(by='Volatility').head()"
   ]
  },
  {
   "cell_type": "code",
   "execution_count": 50,
   "metadata": {},
   "outputs": [
    {
     "data": {
      "text/html": [
       "<div>\n",
       "<style scoped>\n",
       "    .dataframe tbody tr th:only-of-type {\n",
       "        vertical-align: middle;\n",
       "    }\n",
       "\n",
       "    .dataframe tbody tr th {\n",
       "        vertical-align: top;\n",
       "    }\n",
       "\n",
       "    .dataframe thead th {\n",
       "        text-align: right;\n",
       "    }\n",
       "</style>\n",
       "<table border=\"1\" class=\"dataframe\">\n",
       "  <thead>\n",
       "    <tr style=\"text-align: right;\">\n",
       "      <th></th>\n",
       "      <th>Sharpe Ratio</th>\n",
       "    </tr>\n",
       "  </thead>\n",
       "  <tbody>\n",
       "    <tr>\n",
       "      <th>0</th>\n",
       "      <td>1.725511</td>\n",
       "    </tr>\n",
       "    <tr>\n",
       "      <th>1</th>\n",
       "      <td>1.551925</td>\n",
       "    </tr>\n",
       "    <tr>\n",
       "      <th>2</th>\n",
       "      <td>1.418298</td>\n",
       "    </tr>\n",
       "    <tr>\n",
       "      <th>3</th>\n",
       "      <td>1.811691</td>\n",
       "    </tr>\n",
       "    <tr>\n",
       "      <th>4</th>\n",
       "      <td>1.416695</td>\n",
       "    </tr>\n",
       "    <tr>\n",
       "      <th>...</th>\n",
       "      <td>...</td>\n",
       "    </tr>\n",
       "    <tr>\n",
       "      <th>995</th>\n",
       "      <td>1.745521</td>\n",
       "    </tr>\n",
       "    <tr>\n",
       "      <th>996</th>\n",
       "      <td>1.799355</td>\n",
       "    </tr>\n",
       "    <tr>\n",
       "      <th>997</th>\n",
       "      <td>1.647181</td>\n",
       "    </tr>\n",
       "    <tr>\n",
       "      <th>998</th>\n",
       "      <td>1.614241</td>\n",
       "    </tr>\n",
       "    <tr>\n",
       "      <th>999</th>\n",
       "      <td>1.779436</td>\n",
       "    </tr>\n",
       "  </tbody>\n",
       "</table>\n",
       "<p>1000 rows × 1 columns</p>\n",
       "</div>"
      ],
      "text/plain": [
       "     Sharpe Ratio\n",
       "0        1.725511\n",
       "1        1.551925\n",
       "2        1.418298\n",
       "3        1.811691\n",
       "4        1.416695\n",
       "..            ...\n",
       "995      1.745521\n",
       "996      1.799355\n",
       "997      1.647181\n",
       "998      1.614241\n",
       "999      1.779436\n",
       "\n",
       "[1000 rows x 1 columns]"
      ]
     },
     "execution_count": 50,
     "metadata": {},
     "output_type": "execute_result"
    }
   ],
   "source": [
    "#Calculate the Sharpe Ratio for each possible combination\n",
    "s_cal = pd.DataFrame((portfolios['Return']-latest_yield)/portfolios['Volatility'])\n",
    "s_cal.columns=['Sharpe Ratio']\n",
    "s_cal"
   ]
  },
  {
   "cell_type": "code",
   "execution_count": 51,
   "metadata": {},
   "outputs": [
    {
     "data": {
      "text/plain": [
       "Sharpe Ratio    1.898989\n",
       "dtype: float64"
      ]
     },
     "execution_count": 51,
     "metadata": {},
     "output_type": "execute_result"
    }
   ],
   "source": [
    "# Max Sharpe Ratio\n",
    "s_cal.max()"
   ]
  },
  {
   "cell_type": "code",
   "execution_count": 52,
   "metadata": {},
   "outputs": [
    {
     "data": {
      "text/html": [
       "<div>\n",
       "<style scoped>\n",
       "    .dataframe tbody tr th:only-of-type {\n",
       "        vertical-align: middle;\n",
       "    }\n",
       "\n",
       "    .dataframe tbody tr th {\n",
       "        vertical-align: top;\n",
       "    }\n",
       "\n",
       "    .dataframe thead th {\n",
       "        text-align: right;\n",
       "    }\n",
       "</style>\n",
       "<table border=\"1\" class=\"dataframe\">\n",
       "  <thead>\n",
       "    <tr style=\"text-align: right;\">\n",
       "      <th></th>\n",
       "      <th>Return</th>\n",
       "      <th>Volatility</th>\n",
       "      <th>Sharpe Ratio</th>\n",
       "    </tr>\n",
       "  </thead>\n",
       "  <tbody>\n",
       "    <tr>\n",
       "      <th>0</th>\n",
       "      <td>0.287585</td>\n",
       "      <td>0.163479</td>\n",
       "      <td>1.725511</td>\n",
       "    </tr>\n",
       "    <tr>\n",
       "      <th>1</th>\n",
       "      <td>0.247860</td>\n",
       "      <td>0.156167</td>\n",
       "      <td>1.551925</td>\n",
       "    </tr>\n",
       "    <tr>\n",
       "      <th>2</th>\n",
       "      <td>0.206896</td>\n",
       "      <td>0.141998</td>\n",
       "      <td>1.418298</td>\n",
       "    </tr>\n",
       "    <tr>\n",
       "      <th>3</th>\n",
       "      <td>0.362197</td>\n",
       "      <td>0.196886</td>\n",
       "      <td>1.811691</td>\n",
       "    </tr>\n",
       "    <tr>\n",
       "      <th>4</th>\n",
       "      <td>0.229943</td>\n",
       "      <td>0.158427</td>\n",
       "      <td>1.416695</td>\n",
       "    </tr>\n",
       "    <tr>\n",
       "      <th>...</th>\n",
       "      <td>...</td>\n",
       "      <td>...</td>\n",
       "      <td>...</td>\n",
       "    </tr>\n",
       "    <tr>\n",
       "      <th>995</th>\n",
       "      <td>0.294884</td>\n",
       "      <td>0.165787</td>\n",
       "      <td>1.745521</td>\n",
       "    </tr>\n",
       "    <tr>\n",
       "      <th>996</th>\n",
       "      <td>0.318608</td>\n",
       "      <td>0.174011</td>\n",
       "      <td>1.799355</td>\n",
       "    </tr>\n",
       "    <tr>\n",
       "      <th>997</th>\n",
       "      <td>0.328955</td>\n",
       "      <td>0.196369</td>\n",
       "      <td>1.647181</td>\n",
       "    </tr>\n",
       "    <tr>\n",
       "      <th>998</th>\n",
       "      <td>0.282487</td>\n",
       "      <td>0.171590</td>\n",
       "      <td>1.614241</td>\n",
       "    </tr>\n",
       "    <tr>\n",
       "      <th>999</th>\n",
       "      <td>0.391369</td>\n",
       "      <td>0.216849</td>\n",
       "      <td>1.779436</td>\n",
       "    </tr>\n",
       "  </tbody>\n",
       "</table>\n",
       "<p>1000 rows × 3 columns</p>\n",
       "</div>"
      ],
      "text/plain": [
       "       Return  Volatility  Sharpe Ratio\n",
       "0    0.287585    0.163479      1.725511\n",
       "1    0.247860    0.156167      1.551925\n",
       "2    0.206896    0.141998      1.418298\n",
       "3    0.362197    0.196886      1.811691\n",
       "4    0.229943    0.158427      1.416695\n",
       "..        ...         ...           ...\n",
       "995  0.294884    0.165787      1.745521\n",
       "996  0.318608    0.174011      1.799355\n",
       "997  0.328955    0.196369      1.647181\n",
       "998  0.282487    0.171590      1.614241\n",
       "999  0.391369    0.216849      1.779436\n",
       "\n",
       "[1000 rows x 3 columns]"
      ]
     },
     "execution_count": 52,
     "metadata": {},
     "output_type": "execute_result"
    }
   ],
   "source": [
    "# Summary Table for 1000 simulations of different weights for the same stock portfolio\n",
    "combine_summary = pd.concat([portfolios,s_cal], axis = 1, join='inner')\n",
    "combine_summary"
   ]
  },
  {
   "cell_type": "code",
   "execution_count": 53,
   "metadata": {},
   "outputs": [
    {
     "data": {
      "text/html": [
       "<div>\n",
       "<style scoped>\n",
       "    .dataframe tbody tr th:only-of-type {\n",
       "        vertical-align: middle;\n",
       "    }\n",
       "\n",
       "    .dataframe tbody tr th {\n",
       "        vertical-align: top;\n",
       "    }\n",
       "\n",
       "    .dataframe thead th {\n",
       "        text-align: right;\n",
       "    }\n",
       "</style>\n",
       "<table border=\"1\" class=\"dataframe\">\n",
       "  <thead>\n",
       "    <tr style=\"text-align: right;\">\n",
       "      <th></th>\n",
       "      <th>Return</th>\n",
       "      <th>Volatility</th>\n",
       "      <th>Sharpe Ratio</th>\n",
       "    </tr>\n",
       "  </thead>\n",
       "  <tbody>\n",
       "    <tr>\n",
       "      <th>0</th>\n",
       "      <td>0.429994</td>\n",
       "      <td>0.223537</td>\n",
       "      <td>1.898989</td>\n",
       "    </tr>\n",
       "    <tr>\n",
       "      <th>1</th>\n",
       "      <td>0.351811</td>\n",
       "      <td>0.182430</td>\n",
       "      <td>1.898326</td>\n",
       "    </tr>\n",
       "    <tr>\n",
       "      <th>2</th>\n",
       "      <td>0.356152</td>\n",
       "      <td>0.185386</td>\n",
       "      <td>1.891471</td>\n",
       "    </tr>\n",
       "    <tr>\n",
       "      <th>3</th>\n",
       "      <td>0.384436</td>\n",
       "      <td>0.200372</td>\n",
       "      <td>1.891169</td>\n",
       "    </tr>\n",
       "    <tr>\n",
       "      <th>4</th>\n",
       "      <td>0.394499</td>\n",
       "      <td>0.205826</td>\n",
       "      <td>1.889945</td>\n",
       "    </tr>\n",
       "  </tbody>\n",
       "</table>\n",
       "</div>"
      ],
      "text/plain": [
       "     Return  Volatility  Sharpe Ratio\n",
       "0  0.429994    0.223537      1.898989\n",
       "1  0.351811    0.182430      1.898326\n",
       "2  0.356152    0.185386      1.891471\n",
       "3  0.384436    0.200372      1.891169\n",
       "4  0.394499    0.205826      1.889945"
      ]
     },
     "execution_count": 53,
     "metadata": {},
     "output_type": "execute_result"
    }
   ],
   "source": [
    "Shp_desc = combine_summary.sort_values(\"Sharpe Ratio\",ascending=False).head()\n",
    "Shp_desc.reset_index(drop=True, inplace=True)\n",
    "Shp_desc"
   ]
  },
  {
   "cell_type": "code",
   "execution_count": 54,
   "metadata": {},
   "outputs": [
    {
     "data": {
      "text/html": [
       "<div>\n",
       "<style scoped>\n",
       "    .dataframe tbody tr th:only-of-type {\n",
       "        vertical-align: middle;\n",
       "    }\n",
       "\n",
       "    .dataframe tbody tr th {\n",
       "        vertical-align: top;\n",
       "    }\n",
       "\n",
       "    .dataframe thead th {\n",
       "        text-align: right;\n",
       "    }\n",
       "</style>\n",
       "<table border=\"1\" class=\"dataframe\">\n",
       "  <thead>\n",
       "    <tr style=\"text-align: right;\">\n",
       "      <th></th>\n",
       "      <th>Return</th>\n",
       "      <th>Volatility</th>\n",
       "      <th>Sharpe Ratio</th>\n",
       "    </tr>\n",
       "  </thead>\n",
       "  <tbody>\n",
       "    <tr>\n",
       "      <th>0</th>\n",
       "      <td>0.181736</td>\n",
       "      <td>0.133476</td>\n",
       "      <td>1.320361</td>\n",
       "    </tr>\n",
       "    <tr>\n",
       "      <th>1</th>\n",
       "      <td>0.176278</td>\n",
       "      <td>0.133730</td>\n",
       "      <td>1.277038</td>\n",
       "    </tr>\n",
       "    <tr>\n",
       "      <th>2</th>\n",
       "      <td>0.194611</td>\n",
       "      <td>0.134248</td>\n",
       "      <td>1.408674</td>\n",
       "    </tr>\n",
       "    <tr>\n",
       "      <th>3</th>\n",
       "      <td>0.168605</td>\n",
       "      <td>0.134393</td>\n",
       "      <td>1.213634</td>\n",
       "    </tr>\n",
       "    <tr>\n",
       "      <th>4</th>\n",
       "      <td>0.178251</td>\n",
       "      <td>0.134570</td>\n",
       "      <td>1.283725</td>\n",
       "    </tr>\n",
       "  </tbody>\n",
       "</table>\n",
       "</div>"
      ],
      "text/plain": [
       "     Return  Volatility  Sharpe Ratio\n",
       "0  0.181736    0.133476      1.320361\n",
       "1  0.176278    0.133730      1.277038\n",
       "2  0.194611    0.134248      1.408674\n",
       "3  0.168605    0.134393      1.213634\n",
       "4  0.178251    0.134570      1.283725"
      ]
     },
     "execution_count": 54,
     "metadata": {},
     "output_type": "execute_result"
    }
   ],
   "source": [
    "Vol_asc = combine_summary.sort_values(\"Volatility\").head()\n",
    "Vol_asc.reset_index(drop=True, inplace=True)\n",
    "Vol_asc"
   ]
  },
  {
   "cell_type": "code",
   "execution_count": 55,
   "metadata": {},
   "outputs": [
    {
     "data": {
      "text/html": [
       "<div>\n",
       "<style scoped>\n",
       "    .dataframe tbody tr th:only-of-type {\n",
       "        vertical-align: middle;\n",
       "    }\n",
       "\n",
       "    .dataframe tbody tr th {\n",
       "        vertical-align: top;\n",
       "    }\n",
       "\n",
       "    .dataframe thead th {\n",
       "        text-align: right;\n",
       "    }\n",
       "</style>\n",
       "<table border=\"1\" class=\"dataframe\">\n",
       "  <thead>\n",
       "    <tr style=\"text-align: right;\">\n",
       "      <th></th>\n",
       "      <th>Sharpe Ratio</th>\n",
       "      <th>Annualized Return</th>\n",
       "      <th>Annualized Volatility</th>\n",
       "      <th>Excess Return</th>\n",
       "    </tr>\n",
       "  </thead>\n",
       "  <tbody>\n",
       "    <tr>\n",
       "      <th>Max. Sharpe</th>\n",
       "      <td>1.898989</td>\n",
       "      <td>0.429994</td>\n",
       "      <td>0.223537</td>\n",
       "      <td>0.424494</td>\n",
       "    </tr>\n",
       "  </tbody>\n",
       "</table>\n",
       "</div>"
      ],
      "text/plain": [
       "             Sharpe Ratio  Annualized Return  Annualized Volatility  \\\n",
       "Max. Sharpe      1.898989           0.429994               0.223537   \n",
       "\n",
       "             Excess Return  \n",
       "Max. Sharpe       0.424494  "
      ]
     },
     "execution_count": 55,
     "metadata": {},
     "output_type": "execute_result"
    }
   ],
   "source": [
    "#Summary for the Highest Sharpe Portfolio \n",
    "hs_port_summary = pd.DataFrame({'Sharpe Ratio' : (Shp_desc.at[0,'Return'] - latest_yield)/Shp_desc.at[0,'Volatility'],\n",
    "                                'Annualized Return':Shp_desc.at[0,'Return'],\n",
    "                                'Annualized Volatility':Shp_desc.at[0,'Volatility'],\n",
    "                                'Excess Return': Shp_desc.at[0,'Return'] - latest_yield\n",
    "                                },index=[0])\n",
    "hs_port_summary.rename(index={0:'Max. Sharpe'}, inplace = True)\n",
    "hs_port_summary"
   ]
  },
  {
   "cell_type": "code",
   "execution_count": 56,
   "metadata": {},
   "outputs": [
    {
     "data": {
      "text/html": [
       "<div>\n",
       "<style scoped>\n",
       "    .dataframe tbody tr th:only-of-type {\n",
       "        vertical-align: middle;\n",
       "    }\n",
       "\n",
       "    .dataframe tbody tr th {\n",
       "        vertical-align: top;\n",
       "    }\n",
       "\n",
       "    .dataframe thead th {\n",
       "        text-align: right;\n",
       "    }\n",
       "</style>\n",
       "<table border=\"1\" class=\"dataframe\">\n",
       "  <thead>\n",
       "    <tr style=\"text-align: right;\">\n",
       "      <th></th>\n",
       "      <th>Sharpe Ratio</th>\n",
       "      <th>Annualized Return</th>\n",
       "      <th>Annualized Volatility</th>\n",
       "      <th>Excess Return</th>\n",
       "    </tr>\n",
       "  </thead>\n",
       "  <tbody>\n",
       "    <tr>\n",
       "      <th>Min. Variance</th>\n",
       "      <td>1.320361</td>\n",
       "      <td>0.181736</td>\n",
       "      <td>0.133476</td>\n",
       "      <td>0.176236</td>\n",
       "    </tr>\n",
       "  </tbody>\n",
       "</table>\n",
       "</div>"
      ],
      "text/plain": [
       "               Sharpe Ratio  Annualized Return  Annualized Volatility  \\\n",
       "Min. Variance      1.320361           0.181736               0.133476   \n",
       "\n",
       "               Excess Return  \n",
       "Min. Variance       0.176236  "
      ]
     },
     "execution_count": 56,
     "metadata": {},
     "output_type": "execute_result"
    }
   ],
   "source": [
    "#Summary for the Min. Variance Portfolio \n",
    "min_var_summary = pd.DataFrame({'Sharpe Ratio' : (Vol_asc.at[0,'Return'] - latest_yield)/Vol_asc.at[0,'Volatility'],\n",
    "                                'Annualized Return':Vol_asc.at[0,'Return'],\n",
    "                                'Annualized Volatility':Vol_asc.at[0,'Volatility'],\n",
    "                                'Excess Return': Vol_asc.at[0,'Return'] - latest_yield,\n",
    "                                },index=[0])\n",
    "min_var_summary.rename(index={0:'Min. Variance'}, inplace = True)\n",
    "min_var_summary"
   ]
  },
  {
   "cell_type": "markdown",
   "metadata": {},
   "source": [
    "## Equally Weighted Portfolio"
   ]
  },
  {
   "cell_type": "code",
   "execution_count": 57,
   "metadata": {},
   "outputs": [
    {
     "data": {
      "text/plain": [
       "0.14285714285714285"
      ]
     },
     "execution_count": 57,
     "metadata": {},
     "output_type": "execute_result"
    }
   ],
   "source": [
    "# Calculate the weight of each security which is just 1/n\n",
    "ewp_w = 1/ numstocks\n",
    "ewp_w"
   ]
  },
  {
   "cell_type": "code",
   "execution_count": 58,
   "metadata": {},
   "outputs": [
    {
     "data": {
      "text/html": [
       "<div>\n",
       "<style scoped>\n",
       "    .dataframe tbody tr th:only-of-type {\n",
       "        vertical-align: middle;\n",
       "    }\n",
       "\n",
       "    .dataframe tbody tr th {\n",
       "        vertical-align: top;\n",
       "    }\n",
       "\n",
       "    .dataframe thead th {\n",
       "        text-align: right;\n",
       "    }\n",
       "</style>\n",
       "<table border=\"1\" class=\"dataframe\">\n",
       "  <thead>\n",
       "    <tr style=\"text-align: right;\">\n",
       "      <th></th>\n",
       "      <th>Ticker</th>\n",
       "      <th>Weight</th>\n",
       "    </tr>\n",
       "  </thead>\n",
       "  <tbody>\n",
       "    <tr>\n",
       "      <th>0</th>\n",
       "      <td>Sofina</td>\n",
       "      <td>0.142857</td>\n",
       "    </tr>\n",
       "    <tr>\n",
       "      <th>1</th>\n",
       "      <td>Umicore</td>\n",
       "      <td>0.142857</td>\n",
       "    </tr>\n",
       "    <tr>\n",
       "      <th>2</th>\n",
       "      <td>AMT</td>\n",
       "      <td>0.142857</td>\n",
       "    </tr>\n",
       "    <tr>\n",
       "      <th>3</th>\n",
       "      <td>Tencent</td>\n",
       "      <td>0.142857</td>\n",
       "    </tr>\n",
       "    <tr>\n",
       "      <th>4</th>\n",
       "      <td>Champion REIT</td>\n",
       "      <td>0.142857</td>\n",
       "    </tr>\n",
       "    <tr>\n",
       "      <th>5</th>\n",
       "      <td>Docusign</td>\n",
       "      <td>0.142857</td>\n",
       "    </tr>\n",
       "    <tr>\n",
       "      <th>6</th>\n",
       "      <td>Link REIT</td>\n",
       "      <td>0.142857</td>\n",
       "    </tr>\n",
       "  </tbody>\n",
       "</table>\n",
       "</div>"
      ],
      "text/plain": [
       "          Ticker    Weight\n",
       "0         Sofina  0.142857\n",
       "1        Umicore  0.142857\n",
       "2            AMT  0.142857\n",
       "3        Tencent  0.142857\n",
       "4  Champion REIT  0.142857\n",
       "5       Docusign  0.142857\n",
       "6      Link REIT  0.142857"
      ]
     },
     "execution_count": 58,
     "metadata": {},
     "output_type": "execute_result"
    }
   ],
   "source": [
    "# Put the same weight in the form of columns\n",
    "ewp_w_c = pd.DataFrame({'Ticker': t_label, 'Weight': ewp_w})\n",
    "ewp_w_c"
   ]
  },
  {
   "cell_type": "code",
   "execution_count": 59,
   "metadata": {},
   "outputs": [
    {
     "data": {
      "text/html": [
       "<div>\n",
       "<style scoped>\n",
       "    .dataframe tbody tr th:only-of-type {\n",
       "        vertical-align: middle;\n",
       "    }\n",
       "\n",
       "    .dataframe tbody tr th {\n",
       "        vertical-align: top;\n",
       "    }\n",
       "\n",
       "    .dataframe thead th {\n",
       "        text-align: right;\n",
       "    }\n",
       "</style>\n",
       "<table border=\"1\" class=\"dataframe\">\n",
       "  <thead>\n",
       "    <tr style=\"text-align: right;\">\n",
       "      <th></th>\n",
       "      <th>A_Eq_R</th>\n",
       "    </tr>\n",
       "  </thead>\n",
       "  <tbody>\n",
       "    <tr>\n",
       "      <th>Sofina</th>\n",
       "      <td>0.030526</td>\n",
       "    </tr>\n",
       "    <tr>\n",
       "      <th>Umicore</th>\n",
       "      <td>0.034630</td>\n",
       "    </tr>\n",
       "    <tr>\n",
       "      <th>AMT</th>\n",
       "      <td>0.026470</td>\n",
       "    </tr>\n",
       "    <tr>\n",
       "      <th>Tencent</th>\n",
       "      <td>0.047930</td>\n",
       "    </tr>\n",
       "    <tr>\n",
       "      <th>Champion REIT</th>\n",
       "      <td>0.009643</td>\n",
       "    </tr>\n",
       "    <tr>\n",
       "      <th>Docusign</th>\n",
       "      <td>0.121688</td>\n",
       "    </tr>\n",
       "    <tr>\n",
       "      <th>Link REIT</th>\n",
       "      <td>0.012750</td>\n",
       "    </tr>\n",
       "  </tbody>\n",
       "</table>\n",
       "</div>"
      ],
      "text/plain": [
       "                 A_Eq_R\n",
       "Sofina         0.030526\n",
       "Umicore        0.034630\n",
       "AMT            0.026470\n",
       "Tencent        0.047930\n",
       "Champion REIT  0.009643\n",
       "Docusign       0.121688\n",
       "Link REIT      0.012750"
      ]
     },
     "execution_count": 59,
     "metadata": {},
     "output_type": "execute_result"
    }
   ],
   "source": [
    "# Calculate the annualized return of the portfolio\n",
    "ewp_A_ret = ewp_w * annual_eq_returns\n",
    "ewp_A_ret"
   ]
  },
  {
   "cell_type": "code",
   "execution_count": 60,
   "metadata": {},
   "outputs": [
    {
     "data": {
      "text/plain": [
       "0.15982021219535034"
      ]
     },
     "execution_count": 60,
     "metadata": {},
     "output_type": "execute_result"
    }
   ],
   "source": [
    "# Calculate the portfolio volatility\n",
    "ewp_vol = np.sqrt(np.dot(ewp_w_c['Weight'],np.dot(ewp_w_c['Weight'].T,eq_cov_matrix_a)))\n",
    "ewp_vol"
   ]
  },
  {
   "cell_type": "code",
   "execution_count": 61,
   "metadata": {},
   "outputs": [
    {
     "data": {
      "text/html": [
       "<div>\n",
       "<style scoped>\n",
       "    .dataframe tbody tr th:only-of-type {\n",
       "        vertical-align: middle;\n",
       "    }\n",
       "\n",
       "    .dataframe tbody tr th {\n",
       "        vertical-align: top;\n",
       "    }\n",
       "\n",
       "    .dataframe thead th {\n",
       "        text-align: right;\n",
       "    }\n",
       "</style>\n",
       "<table border=\"1\" class=\"dataframe\">\n",
       "  <thead>\n",
       "    <tr style=\"text-align: right;\">\n",
       "      <th></th>\n",
       "      <th>Sharpe Ratio</th>\n",
       "      <th>Annualized Return</th>\n",
       "      <th>Annualized Volatility</th>\n",
       "      <th>Excess Return</th>\n",
       "    </tr>\n",
       "  </thead>\n",
       "  <tbody>\n",
       "    <tr>\n",
       "      <th>Equal Weight</th>\n",
       "      <td>1.740307</td>\n",
       "      <td>0.283636</td>\n",
       "      <td>0.15982</td>\n",
       "      <td>0.278136</td>\n",
       "    </tr>\n",
       "  </tbody>\n",
       "</table>\n",
       "</div>"
      ],
      "text/plain": [
       "              Sharpe Ratio  Annualized Return  Annualized Volatility  \\\n",
       "Equal Weight      1.740307           0.283636                0.15982   \n",
       "\n",
       "              Excess Return  \n",
       "Equal Weight       0.278136  "
      ]
     },
     "execution_count": 61,
     "metadata": {},
     "output_type": "execute_result"
    }
   ],
   "source": [
    "# Summarize all the metrics in 1 table\n",
    "ewp_summary = pd.DataFrame({\n",
    "                            'Sharpe Ratio' : (ewp_A_ret.sum() - latest_yield)/ewp_vol,\n",
    "                            'Annualized Return': ewp_A_ret.sum(),\n",
    "                            'Annualized Volatility':ewp_vol,\n",
    "                            'Excess Return': ewp_A_ret.sum() - latest_yield,\n",
    "                            \n",
    "})\n",
    "ewp_summary.rename(index={'A_Eq_R':'Equal Weight'}, inplace = True)\n",
    "ewp_summary"
   ]
  },
  {
   "cell_type": "markdown",
   "metadata": {},
   "source": [
    "## Summary of Findings"
   ]
  },
  {
   "cell_type": "code",
   "execution_count": 62,
   "metadata": {},
   "outputs": [
    {
     "data": {
      "text/html": [
       "<div>\n",
       "<style scoped>\n",
       "    .dataframe tbody tr th:only-of-type {\n",
       "        vertical-align: middle;\n",
       "    }\n",
       "\n",
       "    .dataframe tbody tr th {\n",
       "        vertical-align: top;\n",
       "    }\n",
       "\n",
       "    .dataframe thead th {\n",
       "        text-align: right;\n",
       "    }\n",
       "</style>\n",
       "<table border=\"1\" class=\"dataframe\">\n",
       "  <thead>\n",
       "    <tr style=\"text-align: right;\">\n",
       "      <th></th>\n",
       "      <th>S&amp;P 500</th>\n",
       "      <th>DAX</th>\n",
       "      <th>CAC</th>\n",
       "      <th>Risk Parity</th>\n",
       "      <th>Equal Weight</th>\n",
       "      <th>Max. Sharpe</th>\n",
       "      <th>Min. Variance</th>\n",
       "    </tr>\n",
       "  </thead>\n",
       "  <tbody>\n",
       "    <tr>\n",
       "      <th>Sharpe Ratio</th>\n",
       "      <td>0.505866</td>\n",
       "      <td>0.262585</td>\n",
       "      <td>0.237758</td>\n",
       "      <td>1.563785</td>\n",
       "      <td>1.740307</td>\n",
       "      <td>1.898989</td>\n",
       "      <td>1.320361</td>\n",
       "    </tr>\n",
       "    <tr>\n",
       "      <th>Annualized Return</th>\n",
       "      <td>0.100093</td>\n",
       "      <td>0.060729</td>\n",
       "      <td>0.053876</td>\n",
       "      <td>0.227318</td>\n",
       "      <td>0.283636</td>\n",
       "      <td>0.429994</td>\n",
       "      <td>0.181736</td>\n",
       "    </tr>\n",
       "    <tr>\n",
       "      <th>Excess Return</th>\n",
       "      <td>0.094593</td>\n",
       "      <td>0.055229</td>\n",
       "      <td>0.048376</td>\n",
       "      <td>0.221818</td>\n",
       "      <td>0.278136</td>\n",
       "      <td>0.424494</td>\n",
       "      <td>0.176236</td>\n",
       "    </tr>\n",
       "    <tr>\n",
       "      <th>Annualized Volatility</th>\n",
       "      <td>0.186993</td>\n",
       "      <td>0.210327</td>\n",
       "      <td>0.203467</td>\n",
       "      <td>0.141847</td>\n",
       "      <td>0.159820</td>\n",
       "      <td>0.223537</td>\n",
       "      <td>0.133476</td>\n",
       "    </tr>\n",
       "  </tbody>\n",
       "</table>\n",
       "</div>"
      ],
      "text/plain": [
       "                        S&P 500       DAX       CAC  Risk Parity  \\\n",
       "Sharpe Ratio           0.505866  0.262585  0.237758     1.563785   \n",
       "Annualized Return      0.100093  0.060729  0.053876     0.227318   \n",
       "Excess Return          0.094593  0.055229  0.048376     0.221818   \n",
       "Annualized Volatility  0.186993  0.210327  0.203467     0.141847   \n",
       "\n",
       "                       Equal Weight  Max. Sharpe  Min. Variance  \n",
       "Sharpe Ratio               1.740307     1.898989       1.320361  \n",
       "Annualized Return          0.283636     0.429994       0.181736  \n",
       "Excess Return              0.278136     0.424494       0.176236  \n",
       "Annualized Volatility      0.159820     0.223537       0.133476  "
      ]
     },
     "execution_count": 62,
     "metadata": {},
     "output_type": "execute_result"
    }
   ],
   "source": [
    "sh_alys_sum = sh_alys.drop(['Delta Benchmark'])\n",
    "sh_alys_sum = sh_alys_sum[['S&P 500','DAX','CAC','Risk Parity']]\n",
    "sh_alys_sum = pd.concat([sh_alys_sum,ewp_summary.T,hs_port_summary.T,min_var_summary.T], axis = 1, join='inner')\n",
    "sh_alys_sum"
   ]
  },
  {
   "cell_type": "markdown",
   "metadata": {},
   "source": [
    "The performance is encouraging. The annualized returns of our stock selection has outperformed the benchmarks by a wide margin. Risk Parity approach has the second lowest return compared to allocation strategies with the same 7 securities. The same goes for the volatility of the portfolio. "
   ]
  },
  {
   "cell_type": "markdown",
   "metadata": {},
   "source": [
    "However, the annualized standard devidation is only 1% higher than the Min. Variance Portfolio, but in return we gain 4% more excess return in the same year. Excess Return is defined as the Annualized Return minus the latest 10 years US Treasury Yield. This has practical implications, as the Min. Variance Portfolio is often criticised by academics as unpractical where extreme weights is often observed in the optimization process. "
   ]
  },
  {
   "cell_type": "markdown",
   "metadata": {},
   "source": [
    "In contrast with the Equal Weighting Strategy, Risk Parity Strategy is slightly less risky, but it has underperformed by ~6%. The reason for that is the latter has underweighted Docusign significantly, while the Equal Weight Strategy has twice the exposure. The off the charts return of 85% is going to have huge impact on return in situations like that. Finally, the Max. Sharpe Portfolio, also known as the most efficient portfolio, has generated the greatest return with the greatest exposure as well."
   ]
  },
  {
   "cell_type": "code",
   "execution_count": 63,
   "metadata": {},
   "outputs": [
    {
     "name": "stderr",
     "output_type": "stream",
     "text": [
      "C:\\Users\\chris\\anaconda3\\lib\\site-packages\\ipykernel_launcher.py:9: MatplotlibDeprecationWarning:\n",
      "\n",
      "Non-1D inputs to pie() are currently squeeze()d, but this behavior is deprecated since 3.1 and will be removed in 3.3; pass a 1D array instead.\n",
      "\n"
     ]
    },
    {
     "data": {
      "image/png": "[encoded data removed]",
      "text/plain": [
       "<Figure size 720x360 with 1 Axes>"
      ]
     },
     "metadata": {},
     "output_type": "display_data"
    }
   ],
   "source": [
    "# Visualize the portfolio weights for Risk Parity Stratgy\n",
    "plt.figure(figsize=(10,5))\n",
    "\n",
    "labels = t_label\n",
    "values = np.array(rpp_rb_w_final)\n",
    "explode = [0.1,0,0.0,0,0,0,0]\n",
    "\n",
    "plt.title(\"Risk Parity Portfolio Weights\", bbox={'facecolor':'0.8', 'pad':5})\n",
    "plt.pie(values, labels=labels, autopct=\"%.1f%%\", explode=explode)\n",
    "plt.show()"
   ]
  },
  {
   "cell_type": "markdown",
   "metadata": {},
   "source": [
    "## Limitations and Further Research"
   ]
  },
  {
   "cell_type": "markdown",
   "metadata": {},
   "source": [
    "First of all, the comparison with benchmark indices is not entirely fair as the exposures to regions and industries are very different from my portfolio. Stock styles such as momentum, size, value and liquidity are also ignored. Further studies can be conducted to construct a much a larger portfolio that matches more closely to the benchmark chosen."
   ]
  },
  {
   "cell_type": "markdown",
   "metadata": {},
   "source": [
    "Secondly, I use daily share prices as the basis of the analysis. However, it may contain too much noises and hence affect the representativeness of the stock return and volatility. The same analysis can be conducted by using weekly/ monthly data instead. However, this requires more sophisticated techniques such as front-filling blanks."
   ]
  },
  {
   "cell_type": "markdown",
   "metadata": {},
   "source": [
    "Thirdly, along the same line of reasoning, the modeling of the volatility is particularly important to the implementation of the Risk Parity Strategy. More recent events, especially the ones that has material impact on the economy such as COVID-19 should be given a higher weight. It will be interesting to re-run the analysis using EMWA, GARCH techniques in modeling the portfolio volatilies."
   ]
  }
 ],
 "metadata": {
  "kernelspec": {
   "display_name": "Python 3",
   "language": "python",
   "name": "python3"
  },
  "language_info": {
   "codemirror_mode": {
    "name": "ipython",
    "version": 3
   },
   "file_extension": ".py",
   "mimetype": "text/x-python",
   "name": "python",
   "nbconvert_exporter": "python",
   "pygments_lexer": "ipython3",
   "version": "3.7.6"
  }
 },
 "nbformat": 4,
 "nbformat_minor": 4
}
